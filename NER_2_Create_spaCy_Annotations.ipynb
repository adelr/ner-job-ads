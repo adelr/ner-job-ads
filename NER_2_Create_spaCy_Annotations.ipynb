{
 "cells": [
  {
   "cell_type": "markdown",
   "id": "a3b9a973-f63e-4fbb-9132-886516e77b3c",
   "metadata": {
    "tags": []
   },
   "source": [
    "<h1>Named Entity Recognition (NER) for job data: Annotations from documents</h1>\n",
    "<h3>Adel Rahmani</h3>\n",
    "<hr style=\"height:5px;border:none;color:#333;background-color:#333;\" />"
   ]
  },
  {
   "cell_type": "markdown",
   "id": "33347e43-9a5f-47cd-b9b6-4132c6e0116b",
   "metadata": {},
   "source": [
    "<div style=\"background-color:#FBEFFB;\">\n",
    "<hr style=\"height:5px;border:none;color:#333;background-color:#333;\" />\n",
    "<h3>Licence</h3>\n",
    "<p>Copyright (C) 2022  Adel Rahmani\n",
    "\n",
    "This program is free software: you can redistribute it and/or modify\n",
    "it under the terms of the GNU General Public License as published by\n",
    "the Free Software Foundation, either version 3 of the License, or\n",
    "(at your option) any later version.\n",
    "\n",
    "This program is distributed in the hope that it will be useful,\n",
    "but WITHOUT ANY WARRANTY; without even the implied warranty of\n",
    "MERCHANTABILITY or FITNESS FOR A PARTICULAR PURPOSE.  See the\n",
    "GNU General Public License for more details.\n",
    "\n",
    "You should have received a copy of the GNU General Public License\n",
    "along with this program.  If not, see <http://www.gnu.org/licenses/>.</p>\n",
    "<hr style=\"height:5px;border:none;color:#333;background-color:#333;\" />\n",
    "</div>"
   ]
  },
  {
   "cell_type": "markdown",
   "id": "71b9f874-830b-4b24-89cb-1e8b865a55fa",
   "metadata": {
    "tags": []
   },
   "source": [
    "<div style=\"background-color:#F2FBEF;\">\n",
    "<h2><font color=#04B404>Summary</font></h2>\n",
    "This notebook and associated code uses online job data sources to create annotations for occupation related entities that can be used to train a NER model.\n",
    "\n",
    "The Python library <a href=\"https://spacy.io/\">spaCy</a> is used to first create a rule-based NER model that is in turn used to produce annotated data, which can then be used to train a machine learning NER model.\n",
    "</div>\n",
    "<hr>"
   ]
  },
  {
   "cell_type": "code",
   "execution_count": 1,
   "id": "2884afa2-3daa-407f-aee7-44df72e0230e",
   "metadata": {},
   "outputs": [],
   "source": [
    "%load_ext autoreload\n",
    "%autoreload 2"
   ]
  },
  {
   "cell_type": "code",
   "execution_count": 2,
   "id": "3d0ff8ae-9411-4600-b3ba-c2a1b323c69a",
   "metadata": {},
   "outputs": [],
   "source": [
    "import swifter\n",
    "import string\n",
    "import regex\n",
    "import time \n",
    "import hashlib\n",
    "\n",
    "import pandas as pd\n",
    "import numpy as np\n",
    "\n",
    "import json\n",
    "\n",
    "from collections import defaultdict\n",
    "\n",
    "import spacy\n",
    "from spacy.util import minibatch, compounding, filter_spans\n",
    "from spacy.matcher import Matcher, PhraseMatcher\n",
    "from spacy.training.example import Example\n",
    "from spacy.tokens import DocBin, Span\n",
    "from spacy.pipeline import EntityRuler\n",
    "from spacy import displacy\n",
    "from spacy.language import Language\n",
    "\n",
    "from datetime import datetime\n",
    "from pathlib import Path\n",
    "from tqdm.notebook import tqdm_notebook\n",
    "from sklearn.model_selection import train_test_split\n",
    "\n",
    "import warnings\n",
    "warnings.simplefilter('ignore')\n",
    "\n",
    "from ner_utils import (\n",
    "    save_spacy_ner_data_to_disk, \n",
    "    load_spacy_data_from_csv, \n",
    "    compute_elapsed_time,\n",
    "    create_spacy_lang_component, \n",
    "    AVAILABLE_SPACY_MODELS, \n",
    "    create_model_and_add_rules, \n",
    "    add_custom_ner_pipelines, \n",
    "    create_spacy_components_from_dict,\n",
    "    save_ner_regex_to_json, \n",
    "    load_ner_regex_from_json, \n",
    "    extract_ent_location, \n",
    "    entities_found, \n",
    "    build_annotations_from_sentences, \n",
    "    build_annotations_from_docs, \n",
    "    pattern_punctuation, \n",
    "    pattern_multiple_stars, \n",
    "    pattern_multiple_blanks, \n",
    "    get_annotation_metadata\n",
    "    )\n",
    "\n",
    "from IPython.display import display_html, HTML, display"
   ]
  },
  {
   "cell_type": "markdown",
   "id": "8748a790-f675-4ff6-83f2-392f2d02c5ce",
   "metadata": {
    "tags": []
   },
   "source": [
    "----\n",
    "# The Data\n",
    "\n",
    "This pipeline uses the Adzuna data to construct an annotated data set for Named Entity Recognition (NER) for job ads.\n",
    "- [Kaggle Adzuna](https://www.kaggle.com/c/job-salary-prediction/data) data containing over 200,000 job ads, mostly from the UK.\n",
    "\n",
    "The data is preprocessed in the `NER_1_Data_Processing.ipynb` notebook."
   ]
  },
  {
   "cell_type": "markdown",
   "id": "b1f95d2c-0212-424c-b6f4-49aa3f9843e7",
   "metadata": {
    "tags": []
   },
   "source": [
    "---\n",
    "## Loading the preprocessed Adzuna data"
   ]
  },
  {
   "cell_type": "code",
   "execution_count": 3,
   "id": "af951ac5-d722-4922-afc8-0a174ad9c16b",
   "metadata": {},
   "outputs": [],
   "source": [
    "DATA_HASH = 'fba836ee1bdf4fda32004145ffe1eeb8d3c6b5f1'"
   ]
  },
  {
   "cell_type": "code",
   "execution_count": 4,
   "id": "a195e2ce-ac5e-4518-bb5d-7f2747bccf1b",
   "metadata": {},
   "outputs": [],
   "source": [
    "DATA_DIR = Path(f'./experiments/data_{DATA_HASH}')\n",
    "DATA_DIR.mkdir(parents=True, exist_ok=True)"
   ]
  },
  {
   "cell_type": "code",
   "execution_count": 5,
   "id": "b938a310-3589-4ee3-938a-d758a5692bda",
   "metadata": {},
   "outputs": [],
   "source": [
    "source = DATA_DIR/f'Adzuna_job_data_{DATA_HASH}_docs.parq'"
   ]
  },
  {
   "cell_type": "code",
   "execution_count": 6,
   "id": "b6d11e67-193e-4f5c-8c7e-6a98ffd749e7",
   "metadata": {},
   "outputs": [
    {
     "data": {
      "text/html": [
       "<div>\n",
       "<style scoped>\n",
       "    .dataframe tbody tr th:only-of-type {\n",
       "        vertical-align: middle;\n",
       "    }\n",
       "\n",
       "    .dataframe tbody tr th {\n",
       "        vertical-align: top;\n",
       "    }\n",
       "\n",
       "    .dataframe thead th {\n",
       "        text-align: right;\n",
       "    }\n",
       "</style>\n",
       "<table border=\"1\" class=\"dataframe\">\n",
       "  <thead>\n",
       "    <tr style=\"text-align: right;\">\n",
       "      <th></th>\n",
       "      <th>Id</th>\n",
       "      <th>Title</th>\n",
       "      <th>FullDescription</th>\n",
       "      <th>LocationRaw</th>\n",
       "      <th>LocationNormalized</th>\n",
       "      <th>ContractType</th>\n",
       "      <th>ContractTime</th>\n",
       "      <th>Company</th>\n",
       "      <th>Category</th>\n",
       "      <th>SourceName</th>\n",
       "    </tr>\n",
       "  </thead>\n",
       "  <tbody>\n",
       "    <tr>\n",
       "      <th>82</th>\n",
       "      <td>36757414</td>\n",
       "      <td>Primary Teachers</td>\n",
       "      <td>Are you a qualified/newly qualified teacher lo...</td>\n",
       "      <td>South Yorkshire</td>\n",
       "      <td>South Yorkshire</td>\n",
       "      <td>None</td>\n",
       "      <td>contract</td>\n",
       "      <td>Vision for Education</td>\n",
       "      <td>Teaching Jobs</td>\n",
       "      <td>cv-library.co.uk</td>\n",
       "    </tr>\n",
       "    <tr>\n",
       "      <th>121</th>\n",
       "      <td>44452524</td>\n",
       "      <td>Chef De Partie</td>\n",
       "      <td>Chef De Partie Rustic Italian AA Rosette resta...</td>\n",
       "      <td>Colchester Essex South East</td>\n",
       "      <td>UK</td>\n",
       "      <td>None</td>\n",
       "      <td>None</td>\n",
       "      <td>Clear Selection</td>\n",
       "      <td>Hospitality &amp; Catering Jobs</td>\n",
       "      <td>caterer.com</td>\n",
       "    </tr>\n",
       "  </tbody>\n",
       "</table>\n",
       "</div>"
      ],
      "text/plain": [
       "           Id             Title  \\\n",
       "82   36757414  Primary Teachers   \n",
       "121  44452524    Chef De Partie   \n",
       "\n",
       "                                       FullDescription  \\\n",
       "82   Are you a qualified/newly qualified teacher lo...   \n",
       "121  Chef De Partie Rustic Italian AA Rosette resta...   \n",
       "\n",
       "                     LocationRaw LocationNormalized ContractType ContractTime  \\\n",
       "82               South Yorkshire    South Yorkshire         None     contract   \n",
       "121  Colchester Essex South East                 UK         None         None   \n",
       "\n",
       "                  Company                     Category        SourceName  \n",
       "82   Vision for Education                Teaching Jobs  cv-library.co.uk  \n",
       "121       Clear Selection  Hospitality & Catering Jobs       caterer.com  "
      ]
     },
     "execution_count": 6,
     "metadata": {},
     "output_type": "execute_result"
    }
   ],
   "source": [
    "data = pd.read_parquet(source)\n",
    "data.head(2)"
   ]
  },
  {
   "cell_type": "code",
   "execution_count": 7,
   "id": "16882be2-b9af-406e-88e8-f67b9aff928c",
   "metadata": {},
   "outputs": [],
   "source": [
    "source_sentences = DATA_DIR/f'Adzuna_job_data_{DATA_HASH}_sents.parq'\n",
    "data_sentences = pd.read_parquet(source_sentences)"
   ]
  },
  {
   "cell_type": "code",
   "execution_count": 8,
   "id": "57d5b370-8c70-474c-8faf-cb33ba25af37",
   "metadata": {},
   "outputs": [
    {
     "data": {
      "text/html": [
       "<div>\n",
       "<style scoped>\n",
       "    .dataframe tbody tr th:only-of-type {\n",
       "        vertical-align: middle;\n",
       "    }\n",
       "\n",
       "    .dataframe tbody tr th {\n",
       "        vertical-align: top;\n",
       "    }\n",
       "\n",
       "    .dataframe thead th {\n",
       "        text-align: right;\n",
       "    }\n",
       "</style>\n",
       "<table border=\"1\" class=\"dataframe\">\n",
       "  <thead>\n",
       "    <tr style=\"text-align: right;\">\n",
       "      <th></th>\n",
       "      <th>doc_id</th>\n",
       "      <th>sent_id</th>\n",
       "      <th>sentence</th>\n",
       "      <th>sent_len</th>\n",
       "    </tr>\n",
       "  </thead>\n",
       "  <tbody>\n",
       "    <tr>\n",
       "      <th>0</th>\n",
       "      <td>36757414</td>\n",
       "      <td>0</td>\n",
       "      <td>Are you a qualified/newly qualified teacher lo...</td>\n",
       "      <td>98</td>\n",
       "    </tr>\n",
       "    <tr>\n",
       "      <th>1</th>\n",
       "      <td>36757414</td>\n",
       "      <td>1</td>\n",
       "      <td>Do you want a new challenge with varied work, ...</td>\n",
       "      <td>81</td>\n",
       "    </tr>\n",
       "  </tbody>\n",
       "</table>\n",
       "</div>"
      ],
      "text/plain": [
       "     doc_id  sent_id                                           sentence  \\\n",
       "0  36757414        0  Are you a qualified/newly qualified teacher lo...   \n",
       "1  36757414        1  Do you want a new challenge with varied work, ...   \n",
       "\n",
       "   sent_len  \n",
       "0        98  \n",
       "1        81  "
      ]
     },
     "execution_count": 8,
     "metadata": {},
     "output_type": "execute_result"
    }
   ],
   "source": [
    "data_sentences.head(2)"
   ]
  },
  {
   "cell_type": "markdown",
   "id": "ff0c5589-1bcc-4b55-b661-9758fff64cce",
   "metadata": {
    "tags": []
   },
   "source": [
    "----\n",
    "# Create regex patterns for training data\n",
    "\n",
    "Let's sort the job titles and employers in reverse order of length to match the longer patterns first."
   ]
  },
  {
   "cell_type": "code",
   "execution_count": 9,
   "id": "c6189c01-2e19-414b-90e9-ba1a312d7fe0",
   "metadata": {},
   "outputs": [
    {
     "data": {
      "text/plain": [
       "['Electronic Fire and Security Solutions Field Sales',\n",
       " 'Qualified Person Quality Assurance Manager',\n",
       " 'Mechanical Systems Certification Engineer',\n",
       " 'Oracle Supply Chain Functional Consultant',\n",
       " 'Graduate Trainee Recruitment Consultant',\n",
       " 'Hospitality Vocational Learning Advisor',\n",
       " 'Intermediate Electrical Design Engineer',\n",
       " 'Estate Agent Senior Sales Negotiator',\n",
       " 'Principal Mechanical Design Engineer',\n",
       " 'Senior Mobile Applications Developer']"
      ]
     },
     "execution_count": 9,
     "metadata": {},
     "output_type": "execute_result"
    }
   ],
   "source": [
    "clean_titles = sorted(data.Title.unique(), key=len, reverse=True)\n",
    "clean_titles[:10]"
   ]
  },
  {
   "cell_type": "code",
   "execution_count": 10,
   "id": "1410fb14-3f1b-4256-ab24-f09b7eb85b57",
   "metadata": {},
   "outputs": [
    {
     "name": "stdout",
     "output_type": "stream",
     "text": [
      "{'analyst', 'inspector', 'accountant', 'administrator', 'solicitor', 'optometrist', 'auditor', 'cashier', 'ombudsman', 'estimator', 'cook', 'engineer', 'carpenter', 'bookkeeper', 'butcher', 'joiner', 'driver', 'wireman', 'receptionist', 'machinist', 'chef', 'plumber', 'labourer', 'manager', 'underwriter', 'buyer', 'copywriter', 'paralegal', 'sommelier', 'electrician', 'caretaker', 'secretary', 'designer', 'developer', 'scheduler', 'toolmaker', 'technician', 'trainer', 'merchandiser', 'supervisor', 'planner', 'welder', 'draughtsman', 'housekeeper', 'cleaner', 'fitter'}\n"
     ]
    }
   ],
   "source": [
    "print({item.lower() for item in clean_titles if len(item.split())==1})"
   ]
  },
  {
   "cell_type": "code",
   "execution_count": 11,
   "id": "6f9f2a4c-9320-4503-ac95-2748819c8451",
   "metadata": {},
   "outputs": [
    {
     "name": "stdout",
     "output_type": "stream",
     "text": [
      "{'early', 'supply', 'family'}\n"
     ]
    }
   ],
   "source": [
    "p = regex.compile('\\s?(\\w*ly)\\s+', flags=regex.I)\n",
    "print({p.findall(item)[0].lower() for item in clean_titles if p.search(item)})"
   ]
  },
  {
   "cell_type": "code",
   "execution_count": 12,
   "id": "76402fe3-4ced-4d0a-ba7d-08e38fc1c24b",
   "metadata": {},
   "outputs": [
    {
     "data": {
      "text/plain": [
       "['LA International Computer Consultants Ltd',\n",
       " 'Strata Construction Consulting UK Ltd',\n",
       " 'Robinson Keane Finance Professionals',\n",
       " 'Trickett Ames Recruitment Solutions',\n",
       " 'Specialist Recruitment Partners LTD']"
      ]
     },
     "execution_count": 12,
     "metadata": {},
     "output_type": "execute_result"
    }
   ],
   "source": [
    "employers = sorted(data.Company.unique(), key=len, reverse=True)\n",
    "employers[:5]"
   ]
  },
  {
   "cell_type": "markdown",
   "id": "b93c0e91-25c3-4e1d-9a04-b41eb2860745",
   "metadata": {},
   "source": [
    "---\n",
    "## Mitigation of data leakage\n",
    "The regex annotation results in the same patterns potentially being present in the downstream training and test sets.\n",
    "Let's try to split the data so that the same regexes for EMPLOYER __or__ (it's harder to do both) OCCUP aren't used in both data sets."
   ]
  },
  {
   "cell_type": "code",
   "execution_count": 13,
   "id": "4645f365-1f7b-41ba-8482-ce0b4dd1d864",
   "metadata": {},
   "outputs": [],
   "source": [
    "def train_test_split_on_feature(data, feature='Title', random_state=1, train_size=0.8, source=None):\n",
    "    \n",
    "    feat_train, feat_test = train_test_split(\n",
    "        data[feature].value_counts().index.values, \n",
    "        train_size=train_size, \n",
    "        random_state=random_state\n",
    "    )\n",
    "    \n",
    "    selection = data[feature].isin(feat_train)\n",
    "    \n",
    "    ntrain = selection.sum()\n",
    "    ntest = (~selection).sum()\n",
    "    \n",
    "    suffix = f\"_split_{feature}_RS{random_state}_{str(train_size).replace('.','_')}_{ntrain}_{ntest}.parq\"\n",
    "    out = source.stem + suffix\n",
    "    print(f\"Saving file data split on {feature} to {out}.\")\n",
    "    data.assign(training=selection).to_parquet(DATA_DIR/out)\n",
    "    \n",
    "    "
   ]
  },
  {
   "cell_type": "code",
   "execution_count": 14,
   "id": "71d82819-fec4-4fd8-8b88-2d9f580b266d",
   "metadata": {},
   "outputs": [
    {
     "name": "stdout",
     "output_type": "stream",
     "text": [
      "Saving file data split on Title to Adzuna_job_data_fba836ee1bdf4fda32004145ffe1eeb8d3c6b5f1_docs_split_Title_RS1_0_8_8137_2250.parq.\n"
     ]
    }
   ],
   "source": [
    "train_test_split_on_feature(data, feature='Title', random_state=1, train_size=0.8, source=source)"
   ]
  },
  {
   "cell_type": "code",
   "execution_count": 15,
   "id": "b7a52ccb-1bfb-48b4-8537-4d4fbac1c803",
   "metadata": {},
   "outputs": [
    {
     "name": "stdout",
     "output_type": "stream",
     "text": [
      "Saving file data split on Company to Adzuna_job_data_fba836ee1bdf4fda32004145ffe1eeb8d3c6b5f1_docs_split_Company_RS1_0_8_8064_2323.parq.\n"
     ]
    }
   ],
   "source": [
    "train_test_split_on_feature(data, feature='Company', random_state=1, train_size=0.8, source=source)"
   ]
  },
  {
   "cell_type": "code",
   "execution_count": 16,
   "id": "1a7f826a-2443-4607-b642-0490033e2f1c",
   "metadata": {},
   "outputs": [
    {
     "name": "stdout",
     "output_type": "stream",
     "text": [
      "Adzuna_job_data_fba836ee1bdf4fda32004145ffe1eeb8d3c6b5f1_docs.parq\n",
      "Adzuna_job_data_fba836ee1bdf4fda32004145ffe1eeb8d3c6b5f1_docs_split_Company_RS1_0_8_8064_2323.parq\n",
      "Adzuna_job_data_fba836ee1bdf4fda32004145ffe1eeb8d3c6b5f1_docs_split_Title_RS1_0_8_8137_2250.parq\n",
      "Adzuna_job_data_fba836ee1bdf4fda32004145ffe1eeb8d3c6b5f1_sents.parq\n"
     ]
    }
   ],
   "source": [
    "!ls {DATA_DIR}"
   ]
  },
  {
   "cell_type": "markdown",
   "id": "84ae9e27-3219-43bb-ba8a-fc17df3a28a4",
   "metadata": {},
   "source": [
    "## Create and save the regex patterns to json"
   ]
  },
  {
   "cell_type": "code",
   "execution_count": 17,
   "id": "ae532cf5-3cd6-4373-bad2-05dacccba3b6",
   "metadata": {},
   "outputs": [
    {
     "name": "stdout",
     "output_type": "stream",
     "text": [
      "cased\n"
     ]
    }
   ],
   "source": [
    "flags = regex.M #|regex.I\n",
    "\n",
    "REGEX_CASE = 'uncased' if 'regex.I' in str(flags) else 'cased'\n",
    "print(REGEX_CASE)\n",
    "\n",
    "# try to handle simple plurals using the s? regex at the end of title\n",
    "regex_job_titles = '|'.join([f\"({t.title()}s?)\" for t in clean_titles])\n",
    "\n",
    "# Made the decision to be case sensitive for the job title\n",
    "pattern_job_title = regex.compile(regex_job_titles, flags=flags)\n",
    "\n",
    "regex_employer = '|'.join([f\"({t})\" for t in employers])\n",
    "\n",
    "# Made the decision to be case sensitive for the employer\n",
    "pattern_employer = regex.compile(regex_employer, flags=flags)"
   ]
  },
  {
   "cell_type": "code",
   "execution_count": 18,
   "id": "6749d096-b6b5-44dd-bb8d-055a43836679",
   "metadata": {},
   "outputs": [],
   "source": [
    "pattern_dict = {\n",
    "    'employer': pattern_employer,\n",
    "    'occup'   : pattern_job_title\n",
    "}\n",
    "\n",
    "save_ner_regex_to_json(pattern_dict, file=DATA_DIR/f'./spacy_ner_component_{REGEX_CASE}.json')"
   ]
  },
  {
   "cell_type": "markdown",
   "id": "911093b0-113b-4821-b0b1-87db44ac3cd5",
   "metadata": {
    "tags": []
   },
   "source": [
    "## Load the regex patterns from json"
   ]
  },
  {
   "cell_type": "code",
   "execution_count": 19,
   "id": "33dc22a1-9b66-4455-946b-0944985ccaea",
   "metadata": {},
   "outputs": [],
   "source": [
    "# pattern_dict = load_ner_regex_from_json(f'spacy_ner_component_{DATA_HASH}.json')\n",
    "\n",
    "# for k in pat_dict:\n",
    "#     assert pat_dict[k].pattern == pattern_dict[k].pattern\n",
    "#     assert pat_dict[k].flags == pattern_dict[k].flags"
   ]
  },
  {
   "cell_type": "markdown",
   "id": "9eb1fea1-7c22-45aa-8198-df2d3f505bd1",
   "metadata": {},
   "source": [
    "## Create the spacy language components from the regexes"
   ]
  },
  {
   "cell_type": "code",
   "execution_count": 20,
   "id": "a8fc54cd-4085-4116-85f8-8a2e4031e1af",
   "metadata": {},
   "outputs": [
    {
     "data": {
      "text/plain": [
       "{'find_employer': <function ner_utils.create_spacy_lang_component.<locals>.find_entity(doc)>,\n",
       " 'find_occup': <function ner_utils.create_spacy_lang_component.<locals>.find_entity(doc)>}"
      ]
     },
     "execution_count": 20,
     "metadata": {},
     "output_type": "execute_result"
    }
   ],
   "source": [
    "custom_spacy_components = create_spacy_components_from_dict(pattern_dict)\n",
    "custom_spacy_components"
   ]
  },
  {
   "cell_type": "markdown",
   "id": "b85242c6-4a33-4282-97d2-0e799c4eba3c",
   "metadata": {},
   "source": [
    "## Remove NER entities to focus on our custom ones (optional)"
   ]
  },
  {
   "cell_type": "code",
   "execution_count": 21,
   "id": "3986ff4e-7a58-4813-b214-eec1dcbd69cf",
   "metadata": {},
   "outputs": [],
   "source": [
    "ENT_LABELS_REMOVE = {\n",
    "            'CARDINAL', \n",
    "            'DATE', \n",
    "            'EVENT', \n",
    "            'FAC', \n",
    "            'LAW', \n",
    "            'MONEY', \n",
    "            'NORP', \n",
    "            'ORDINAL', \n",
    "            # 'ORG', \n",
    "            'PERCENT', \n",
    "            'PERSON', \n",
    "            # 'GPE',\n",
    "            'PRODUCT', \n",
    "            'QUANTITY', \n",
    "            'TIME', \n",
    "            'WORK_OF_ART'\n",
    "        }\n",
    "\n",
    "@Language.component('ner_removal')\n",
    "def ner_removal(doc):\n",
    "    ents = list(doc.ents)\n",
    "    for ent in ents:\n",
    "        if ent.label_ in ENT_LABELS_REMOVE:\n",
    "            ents.remove(ent)\n",
    "    ents = tuple(ents)\n",
    "    doc.ents = ents\n",
    "    return (doc)"
   ]
  },
  {
   "cell_type": "markdown",
   "id": "effa4cc0-39c1-495d-a5ad-c5db6c567d91",
   "metadata": {
    "tags": []
   },
   "source": [
    "----\n",
    "# Testing the rules by adding them to a pretrained NER model"
   ]
  },
  {
   "cell_type": "markdown",
   "id": "b24af641-e4a8-4f3d-81a9-1c295f0f390b",
   "metadata": {
    "tags": []
   },
   "source": [
    "## Loading the model"
   ]
  },
  {
   "cell_type": "code",
   "execution_count": 22,
   "id": "a74f51c0-6990-423e-8e87-2eaaf95802a8",
   "metadata": {},
   "outputs": [
    {
     "data": {
      "text/plain": [
       "['tok2vec',\n",
       " 'tagger',\n",
       " 'parser',\n",
       " 'senter',\n",
       " 'attribute_ruler',\n",
       " 'lemmatizer',\n",
       " 'find_employer',\n",
       " 'find_occup',\n",
       " 'ner']"
      ]
     },
     "execution_count": 22,
     "metadata": {},
     "output_type": "execute_result"
    }
   ],
   "source": [
    "model_type = 'sm'\n",
    "model = create_model_and_add_rules(model_type, custom_spacy_components, \n",
    "                                   disable=[]\n",
    "                                  )\n",
    "model.pipe_names"
   ]
  },
  {
   "cell_type": "markdown",
   "id": "1e607462-e05c-424f-9b3b-35157c1e3516",
   "metadata": {},
   "source": [
    "## Setting up the options for displacy visualisation"
   ]
  },
  {
   "cell_type": "code",
   "execution_count": 23,
   "id": "384b2df7-f518-4f7c-b392-1dd3a69d3847",
   "metadata": {},
   "outputs": [],
   "source": [
    "colors = {\n",
    "    \"EMPLOYER\": \"#DB81E2\", \n",
    "    \"OCCUP\": \"#AEE8EC\", \n",
    "    \"GPE\": \"#ECE3AE\", \n",
    "    \"ORG\": \"#ECBEAE\", \n",
    "    \"PERSON\":\"#17B4C2\", \n",
    "    # \"OCCUP\": \"#9017C2\", \n",
    "    # \"OCCUP\": \"#878787\", \n",
    "    # \"OCCUP\": \"#0A6DF5\", \n",
    "    # \"OCCUP\": \"#1F541D\"\n",
    "}\n",
    "options = {\"ents\": [\"EMPLOYER\", \"OCCUP\", \"GPE\", \"ORG\"], \"colors\":colors}"
   ]
  },
  {
   "cell_type": "code",
   "execution_count": 24,
   "id": "26b59166-c72c-4cee-ba63-d1a88fa4e7b2",
   "metadata": {},
   "outputs": [],
   "source": [
    "texts = data.FullDescription.values"
   ]
  },
  {
   "cell_type": "code",
   "execution_count": 25,
   "id": "c54c96a7-40b1-4615-b0c5-d8c146065182",
   "metadata": {},
   "outputs": [
    {
     "data": {
      "text/html": [
       "<span class=\"tex2jax_ignore\"><div class=\"entities\" style=\"line-height: 2.5; direction: ltr\">\n",
       "<mark class=\"entity\" style=\"background: #AEE8EC; padding: 0.45em 0.6em; margin: 0 0.25em; line-height: 1; border-radius: 0.35em;\">\n",
       "    Support Worker\n",
       "    <span style=\"font-size: 0.8em; font-weight: bold; line-height: 1; border-radius: 0.35em; vertical-align: middle; margin-left: 0.5rem\">OCCUP</span>\n",
       "</mark>\n",
       " x Full Time Permanent, x Full Time 9 Month Fixed Term Contacts Hours: per week Location: Central Bedfordshire Salary: per annum Do you pride yourself on providing excellent customer service? Do you enjoy making a difference to people s lives? The customers you will be working with on a daily basis vary from young vulnerable adults, people with learning disabilities, people who are recovering from some form of severe and enduring mental distress, people who have suffered from homelessness and vulnerable older people. You will be helping our customers with tasks such as budgeting their incomings and outgoings, maximising their benefits, assisting with getting back into work/education , promoting independent living skills and dealing with every day challenges. The ideal person for this role will have excellent communication skills and be able to demonstrate empathy and compassion. You are not just a name but a person our customers can talk too. You will be highly organised and able to work on your own and willing to travel to all locations within our geographical area. A full driving licence is required along with access to a vehicle. Due to the nature of the role a \n",
       "<mark class=\"entity\" style=\"background: #ECE3AE; padding: 0.45em 0.6em; margin: 0 0.25em; line-height: 1; border-radius: 0.35em;\">\n",
       "    DBS\n",
       "    <span style=\"font-size: 0.8em; font-weight: bold; line-height: 1; border-radius: 0.35em; vertical-align: middle; margin-left: 0.5rem\">GPE</span>\n",
       "</mark>\n",
       " check will be required. Previous experience in a similar role is advantageous; although not essential. We are more interested in your positive attitude, integrity, initiative and your approach to delivering excellent customer service. \n",
       "<mark class=\"entity\" style=\"background: #ECBEAE; padding: 0.45em 0.6em; margin: 0 0.25em; line-height: 1; border-radius: 0.35em;\">\n",
       "    Bromford\n",
       "    <span style=\"font-size: 0.8em; font-weight: bold; line-height: 1; border-radius: 0.35em; vertical-align: middle; margin-left: 0.5rem\">ORG</span>\n",
       "</mark>\n",
       " wants to be recognised as a top three social business. We want our customers, the people who work for us and our business to be the very best that they can be. We re passionate about everything we do and proud to be making a difference to people s lives. Join \n",
       "<mark class=\"entity\" style=\"background: #DB81E2; padding: 0.45em 0.6em; margin: 0 0.25em; line-height: 1; border-radius: 0.35em;\">\n",
       "    Bromford Group\n",
       "    <span style=\"font-size: 0.8em; font-weight: bold; line-height: 1; border-radius: 0.35em; vertical-align: middle; margin-left: 0.5rem\">EMPLOYER</span>\n",
       "</mark>\n",
       " and help to make a difference every day. The closing date for applications is 23 January 2013 with first stage assessments being held 30 January 2013</div></span>"
      ],
      "text/plain": [
       "<IPython.core.display.HTML object>"
      ]
     },
     "metadata": {},
     "output_type": "display_data"
    },
    {
     "name": "stdout",
     "output_type": "stream",
     "text": [
      "\n"
     ]
    },
    {
     "data": {
      "text/html": [
       "<span class=\"tex2jax_ignore\"><div class=\"entities\" style=\"line-height: 2.5; direction: ltr\">My large public sector client based in \n",
       "<mark class=\"entity\" style=\"background: #ECE3AE; padding: 0.45em 0.6em; margin: 0 0.25em; line-height: 1; border-radius: 0.35em;\">\n",
       "    East Renfrewshire\n",
       "    <span style=\"font-size: 0.8em; font-weight: bold; line-height: 1; border-radius: 0.35em; vertical-align: middle; margin-left: 0.5rem\">GPE</span>\n",
       "</mark>\n",
       " area, is currently seeking a \n",
       "<mark class=\"entity\" style=\"background: #AEE8EC; padding: 0.45em 0.6em; margin: 0 0.25em; line-height: 1; border-radius: 0.35em;\">\n",
       "    Labourer\n",
       "    <span style=\"font-size: 0.8em; font-weight: bold; line-height: 1; border-radius: 0.35em; vertical-align: middle; margin-left: 0.5rem\">OCCUP</span>\n",
       "</mark>\n",
       " for a 7 week contract. The role is undertaking \n",
       "<mark class=\"entity\" style=\"background: #ECBEAE; padding: 0.45em 0.6em; margin: 0 0.25em; line-height: 1; border-radius: 0.35em;\">\n",
       "    Labouring\n",
       "    <span style=\"font-size: 0.8em; font-weight: bold; line-height: 1; border-radius: 0.35em; vertical-align: middle; margin-left: 0.5rem\">ORG</span>\n",
       "</mark>\n",
       ", on domestic and nondomestic properties. The duties and responsibilities include: Repairs, maintenance and new installation work, carrying out tasks of a general labouring nature including uplifting, delivery and disposal of goods, knocking down brickwork, boarding up of windows, uplifting material from Stores and carrying/holding material and plant from tradesman. Correctly identify repairs, replace parts and fixtures. Good sound knowledge of \n",
       "<mark class=\"entity\" style=\"background: #ECBEAE; padding: 0.45em 0.6em; margin: 0 0.25em; line-height: 1; border-radius: 0.35em;\">\n",
       "    Health and Safety\n",
       "    <span style=\"font-size: 0.8em; font-weight: bold; line-height: 1; border-radius: 0.35em; vertical-align: middle; margin-left: 0.5rem\">ORG</span>\n",
       "</mark>\n",
       " procedures. Follow the relevant stores procedure regarding the use of material and return of any unused materials. To be considered for the role the candidate will have: Full clean driving licence Good interpersonal skills and confident in dealing with members of the public. CSCS Accreditation Previous construction experience Previous experience with jobbing repair work and trade specific work i.e. kitchen/bathroom upgrades Knowledge of \n",
       "<mark class=\"entity\" style=\"background: #ECBEAE; padding: 0.45em 0.6em; margin: 0 0.25em; line-height: 1; border-radius: 0.35em;\">\n",
       "    H&amp;S\n",
       "    <span style=\"font-size: 0.8em; font-weight: bold; line-height: 1; border-radius: 0.35em; vertical-align: middle; margin-left: 0.5rem\">ORG</span>\n",
       "</mark>\n",
       " procedures, and safe use of tools and equipment. The rate of pay is per hour and the hours of work will be Monday to Friday 8am 4.30pm and be available for overtime \n",
       "<mark class=\"entity\" style=\"background: #DB81E2; padding: 0.45em 0.6em; margin: 0 0.25em; line-height: 1; border-radius: 0.35em;\">\n",
       "    Pertemps Scotland\n",
       "    <span style=\"font-size: 0.8em; font-weight: bold; line-height: 1; border-radius: 0.35em; vertical-align: middle; margin-left: 0.5rem\">EMPLOYER</span>\n",
       "</mark>\n",
       " Ltd is acting as \n",
       "<mark class=\"entity\" style=\"background: #ECBEAE; padding: 0.45em 0.6em; margin: 0 0.25em; line-height: 1; border-radius: 0.35em;\">\n",
       "    an Employment Business\n",
       "    <span style=\"font-size: 0.8em; font-weight: bold; line-height: 1; border-radius: 0.35em; vertical-align: middle; margin-left: 0.5rem\">ORG</span>\n",
       "</mark>\n",
       " in relation to this vacancy.</div></span>"
      ],
      "text/plain": [
       "<IPython.core.display.HTML object>"
      ]
     },
     "metadata": {},
     "output_type": "display_data"
    },
    {
     "name": "stdout",
     "output_type": "stream",
     "text": [
      "\n"
     ]
    }
   ],
   "source": [
    "np.random.seed(1)\n",
    "\n",
    "for t in np.random.choice(texts, size=2):\n",
    "    doc = model(t)\n",
    "    displacy.render(doc, style='ent', options=options)\n",
    "    print()"
   ]
  },
  {
   "cell_type": "markdown",
   "id": "1390b52b-d0cd-41b2-aedf-1440c5911e6d",
   "metadata": {},
   "source": [
    "----\n",
    "# Building the training data\n",
    "\n",
    "For each ad we use the rule-based NER model with our custom entities to annotate the text.\n",
    "\n",
    "We then collect the entities type and location and create an annotation data set that conforms to the format expected by spaCy.\n",
    "\n",
    "In order to do that we need to be able to extract the location of the entities from the processed text. "
   ]
  },
  {
   "cell_type": "markdown",
   "id": "22d59944-f751-4ebe-8cef-e12ccbe564a6",
   "metadata": {},
   "source": [
    "<div style=\"background-color:#F7F2E0;\">\n",
    "<h4> <font color=MediumVioletRed>Note:</font> </h4>\n",
    "<p>We can either pass the whole ad to the model, or break it up into sentences and only pass those sentences which contain the entities we care about. \n",
    "    \n",
    "Both strategies have pros and cons and some experimentation is required.</p>\n",
    "</div>"
   ]
  },
  {
   "cell_type": "markdown",
   "id": "44664398-28bd-401d-a6cf-703f44a34bb9",
   "metadata": {},
   "source": [
    "#### Locating the entitites"
   ]
  },
  {
   "cell_type": "markdown",
   "id": "ad2ca9cb-e725-4671-a86d-645629037291",
   "metadata": {},
   "source": [
    "##### Example"
   ]
  },
  {
   "cell_type": "code",
   "execution_count": 26,
   "id": "a3fe3c84-0361-4cec-8468-b2588c4f4985",
   "metadata": {},
   "outputs": [
    {
     "data": {
      "text/plain": [
       "('Chef De Partie Rustic Italian AA Rosette restaurant looking for young Chef De Partie to join creative brigade just north of Colchester. My client has an accolade winning, highly reputable country inn, boasting a fantastic rosette awarded restaurant serving brilliant rustic Italian cuisine. The best thing about it? The chefs in the brigade are a fantastic bunch. With a mild tempered Italian Head Chef that is willing to teach what he knows, this role of Chef De Partie is a very sought after position. Looking for a Chef De Partie that is willing to learn and grow as a professional, staying away from the pizza/pasta half hearted meals and cook with entirely fresh and often the finest locally sourced produce in a traditional manner. As Chef De Partie you will learn be able to make your own menu adjustments, following in the steps of the Head Chef and experimenting with flavours but never overdoing it. With all chefs from Chef De Partie to Senior Sous Chef being aided in whatever they need, this is a restaurant with an ever improving brigade, baking their own bread to butchering their own meat. As Chef De Partie in this restaurant, you will not only have a great job with a salary starting at plus tips and a bonus scheme, but you will have a supply of further education in the kitchen something you cannot get everywhere else. If you are young and ambitious, hard working, and ready to travel to or relocate near this fantastic country inn to start an amazing position as Chef De Partie, then email your CV today. Salary: tips Ref CW Consultant Chris Wilson Teamed up with Tara within our successful Recruitment Division. / We are honest, fast paced and truly passionate about Recruitment. Our Consultants are all highly valued by us and love their work. We look after our clients and really get to know them. If we talk to a client about you then its very likely they will interview you. Its simple, we aim to fit a square peg into a square hole rather than ramming you into a round one. So why not make contact, maybe take a job search at .clearselection.co.uk and reap the benefits of working alongside us. Clear Selection Recruitment is part of the Clear Selection Group This job was originally posted as .caterer.com/JobSeeking/ChefDePartie_job ',\n",
       " {'entities': [(0, 14, 'OCCUP'),\n",
       "   (70, 84, 'OCCUP'),\n",
       "   (124, 134, 'ORG'),\n",
       "   (393, 402, 'OCCUP'),\n",
       "   (456, 470, 'OCCUP'),\n",
       "   (518, 532, 'OCCUP'),\n",
       "   (741, 755, 'OCCUP'),\n",
       "   (844, 853, 'OCCUP'),\n",
       "   (930, 944, 'OCCUP'),\n",
       "   (948, 964, 'OCCUP'),\n",
       "   (1109, 1123, 'OCCUP'),\n",
       "   (1485, 1499, 'OCCUP'),\n",
       "   (1540, 1543, 'ORG'),\n",
       "   (1613, 1633, 'ORG'),\n",
       "   (2123, 2138, 'EMPLOYER'),\n",
       "   (2166, 2181, 'EMPLOYER'),\n",
       "   (2222, 2245, 'ORG')]})"
      ]
     },
     "execution_count": 26,
     "metadata": {},
     "output_type": "execute_result"
    }
   ],
   "source": [
    "annotations = extract_ent_location(texts[1], nlp=model, entities = {'OCCUP','EMPLOYER','ORG','GPE'})\n",
    "annotations"
   ]
  },
  {
   "cell_type": "code",
   "execution_count": 27,
   "id": "96475193-75b3-4449-9289-ee8075827c00",
   "metadata": {},
   "outputs": [
    {
     "data": {
      "text/plain": [
       "True"
      ]
     },
     "execution_count": 27,
     "metadata": {},
     "output_type": "execute_result"
    }
   ],
   "source": [
    "entities_found(annotations, method='ALL')"
   ]
  },
  {
   "cell_type": "markdown",
   "id": "3a9b6519-7923-42b1-9b72-9af6cfbe32a1",
   "metadata": {},
   "source": [
    "----\n",
    "### Building the annotated data from individual sentences"
   ]
  },
  {
   "cell_type": "markdown",
   "id": "42776142-5c62-4bb6-8803-b862d9da59a4",
   "metadata": {},
   "source": [
    "##### Example"
   ]
  },
  {
   "cell_type": "code",
   "execution_count": 28,
   "id": "6386af83-615c-4a75-a373-d06bbc4da54e",
   "metadata": {},
   "outputs": [
    {
     "data": {
      "application/vnd.jupyter.widget-view+json": {
       "model_id": "2c568f955d364cab8eb9ea70118af6d8",
       "version_major": 2,
       "version_minor": 0
      },
      "text/plain": [
       "  0%|          | 0/2 [00:00<?, ?it/s]"
      ]
     },
     "metadata": {},
     "output_type": "display_data"
    },
    {
     "data": {
      "text/plain": [
       "([('If so, Vision for Education can help We are currently looking for enthusiastic and dedicated KS and KS Primary Teachers for a number of schools across the area.',\n",
       "   {'entities': [(7, 27, 'EMPLOYER'), (103, 119, 'OCCUP')]},\n",
       "   36757414),\n",
       "  ('Vision for Education was started in by a group of like minded individuals with a desire for providing a quality service to customers.',\n",
       "   {'entities': [(0, 20, 'EMPLOYER')]},\n",
       "   36757414),\n",
       "  ('You need look no further than Vision for Education for a professional, friendly service, provided by an experienced team for all your requirements.',\n",
       "   {'entities': [(30, 50, 'EMPLOYER')]},\n",
       "   36757414),\n",
       "  ('Chef De Partie Rustic Italian AA Rosette restaurant looking for young Chef De Partie to join creative brigade just north of Colchester.',\n",
       "   {'entities': [(0, 14, 'OCCUP'), (70, 84, 'OCCUP'), (124, 134, 'ORG')]},\n",
       "   44452524),\n",
       "  ('With a mild tempered Italian Head Chef that is willing to teach what he knows, this role of Chef De Partie is a very sought after position.',\n",
       "   {'entities': [(29, 38, 'OCCUP'), (92, 106, 'OCCUP')]},\n",
       "   44452524),\n",
       "  ('Looking for a Chef De Partie that is willing to learn and grow as a professional, staying away from the pizza/pasta half hearted meals and cook with entirely fresh and often the finest locally sourced produce in a traditional manner.',\n",
       "   {'entities': [(14, 28, 'OCCUP')]},\n",
       "   44452524),\n",
       "  ('As Chef De Partie you will learn be able to make your own menu adjustments, following in the steps of the Head Chef and experimenting with flavours but never overdoing it.',\n",
       "   {'entities': [(3, 17, 'OCCUP'), (106, 115, 'OCCUP')]},\n",
       "   44452524),\n",
       "  ('With all chefs from Chef De Partie to Senior Sous Chef being aided in whatever they need, this is a restaurant with an ever improving brigade, baking their own bread to butchering their own meat.',\n",
       "   {'entities': [(20, 34, 'OCCUP'), (38, 54, 'OCCUP')]},\n",
       "   44452524),\n",
       "  ('As Chef De Partie in this restaurant, you will not only have a great job with a salary starting at plus tips and a bonus scheme, but you will have a supply of further education in the kitchen something you cannot get everywhere else.',\n",
       "   {'entities': [(3, 17, 'OCCUP')]},\n",
       "   44452524),\n",
       "  ('If you are young and ambitious, hard working, and ready to travel to or relocate near this fantastic country inn to start an amazing position as Chef De Partie, then email your CV today.',\n",
       "   {'entities': [(145, 159, 'OCCUP')]},\n",
       "   44452524),\n",
       "  ('Salary: tips Ref CW Consultant Chris Wilson Teamed up with Tara within our successful Recruitment Division. /',\n",
       "   {'entities': [(13, 16, 'ORG'), (86, 106, 'ORG')]},\n",
       "   44452524),\n",
       "  ('Clear Selection Recruitment is part of the Clear Selection Group',\n",
       "   {'entities': [(0, 15, 'EMPLOYER'), (43, 58, 'EMPLOYER')]},\n",
       "   44452524),\n",
       "  ('This job was originally posted as .caterer.com/JobSeeking/ChefDePartie_job',\n",
       "   {'entities': [(34, 57, 'ORG')]},\n",
       "   44452524)],\n",
       " '0d0h0m0s')"
      ]
     },
     "execution_count": 28,
     "metadata": {},
     "output_type": "execute_result"
    }
   ],
   "source": [
    "build_annotations_from_sentences(data=data[:2], nlp=model, entities = {'OCCUP','EMPLOYER','ORG'}, method='ANY')"
   ]
  },
  {
   "cell_type": "markdown",
   "id": "5965a6df-d7c5-4d46-97e3-018b3784ff87",
   "metadata": {},
   "source": [
    "----\n",
    "### Building the annotated data from whole ads"
   ]
  },
  {
   "cell_type": "markdown",
   "id": "4eb0e2e2-2b4f-4442-9c4e-79dc39442670",
   "metadata": {},
   "source": [
    "##### Example"
   ]
  },
  {
   "cell_type": "code",
   "execution_count": 29,
   "id": "94d9ef1d-85ea-437f-aee8-682f2240b411",
   "metadata": {},
   "outputs": [
    {
     "data": {
      "application/vnd.jupyter.widget-view+json": {
       "model_id": "b232438fea5148e5b49011a1f110c141",
       "version_major": 2,
       "version_minor": 0
      },
      "text/plain": [
       "  0%|          | 0/2 [00:00<?, ?it/s]"
      ]
     },
     "metadata": {},
     "output_type": "display_data"
    },
    {
     "data": {
      "text/plain": [
       "([('Are you a qualified/newly qualified teacher looking for supply work in and around South Yorkshire? Do you want a new challenge with varied work, flexibility and great rates of pay? If so, Vision for Education can help We are currently looking for enthusiastic and dedicated KS and KS Primary Teachers for a number of schools across the area. Candidates must have an enthusiasm for teaching, a good knowledge of the national curriculum and excellent classroom and behaviour management skills. It is essential that you hold a valid, recognised teaching qualification and ideally you will have 6 weeks recent experience of teaching in the UK. We must also be able to contact your past school to obtain a reference. Vision for Education was started in by a group of like minded individuals with a desire for providing a quality service to customers. Our promise is to serve the education community, be it Teachers, Schools or Students alike to the highest possible standards. If you are looking for a primary, secondary or special needs teaching position, be it short or long term, then give us the opportunity to help you move your teaching career in the right direction. You need look no further than Vision for Education for a professional, friendly service, provided by an experienced team for all your requirements. If you feel you have the qualities we are looking for, and would like to know more call the office today',\n",
       "   {'entities': [(188, 208, 'EMPLOYER'),\n",
       "     (274, 276, 'GPE'),\n",
       "     (284, 300, 'OCCUP'),\n",
       "     (636, 638, 'GPE'),\n",
       "     (712, 732, 'EMPLOYER'),\n",
       "     (1199, 1219, 'EMPLOYER')]},\n",
       "   36757414),\n",
       "  ('Chef De Partie Rustic Italian AA Rosette restaurant looking for young Chef De Partie to join creative brigade just north of Colchester. My client has an accolade winning, highly reputable country inn, boasting a fantastic rosette awarded restaurant serving brilliant rustic Italian cuisine. The best thing about it? The chefs in the brigade are a fantastic bunch. With a mild tempered Italian Head Chef that is willing to teach what he knows, this role of Chef De Partie is a very sought after position. Looking for a Chef De Partie that is willing to learn and grow as a professional, staying away from the pizza/pasta half hearted meals and cook with entirely fresh and often the finest locally sourced produce in a traditional manner. As Chef De Partie you will learn be able to make your own menu adjustments, following in the steps of the Head Chef and experimenting with flavours but never overdoing it. With all chefs from Chef De Partie to Senior Sous Chef being aided in whatever they need, this is a restaurant with an ever improving brigade, baking their own bread to butchering their own meat. As Chef De Partie in this restaurant, you will not only have a great job with a salary starting at plus tips and a bonus scheme, but you will have a supply of further education in the kitchen something you cannot get everywhere else. If you are young and ambitious, hard working, and ready to travel to or relocate near this fantastic country inn to start an amazing position as Chef De Partie, then email your CV today. Salary: tips Ref CW Consultant Chris Wilson Teamed up with Tara within our successful Recruitment Division. / We are honest, fast paced and truly passionate about Recruitment. Our Consultants are all highly valued by us and love their work. We look after our clients and really get to know them. If we talk to a client about you then its very likely they will interview you. Its simple, we aim to fit a square peg into a square hole rather than ramming you into a round one. So why not make contact, maybe take a job search at .clearselection.co.uk and reap the benefits of working alongside us. Clear Selection Recruitment is part of the Clear Selection Group This job was originally posted as .caterer.com/JobSeeking/ChefDePartie_job ',\n",
       "   {'entities': [(0, 14, 'OCCUP'),\n",
       "     (70, 84, 'OCCUP'),\n",
       "     (124, 134, 'ORG'),\n",
       "     (393, 402, 'OCCUP'),\n",
       "     (456, 470, 'OCCUP'),\n",
       "     (518, 532, 'OCCUP'),\n",
       "     (741, 755, 'OCCUP'),\n",
       "     (844, 853, 'OCCUP'),\n",
       "     (930, 944, 'OCCUP'),\n",
       "     (948, 964, 'OCCUP'),\n",
       "     (1109, 1123, 'OCCUP'),\n",
       "     (1485, 1499, 'OCCUP'),\n",
       "     (1540, 1543, 'ORG'),\n",
       "     (1613, 1633, 'ORG'),\n",
       "     (2123, 2138, 'EMPLOYER'),\n",
       "     (2166, 2181, 'EMPLOYER'),\n",
       "     (2222, 2245, 'ORG')]},\n",
       "   44452524)],\n",
       " '0d0h0m0s')"
      ]
     },
     "execution_count": 29,
     "metadata": {},
     "output_type": "execute_result"
    }
   ],
   "source": [
    "build_annotations_from_docs(data=data[:2], nlp=model, entities = {'OCCUP','EMPLOYER','ORG','GPE'})"
   ]
  },
  {
   "cell_type": "markdown",
   "id": "ee22f74c-dd3c-47bf-b65d-071bfa7a6934",
   "metadata": {
    "tags": []
   },
   "source": [
    "----\n",
    "# Creating the annotated data from sentences\n",
    "Selecting sentences which contain specific entities."
   ]
  },
  {
   "cell_type": "raw",
   "id": "39b3e092-ae22-4be9-89a0-b601876a9e85",
   "metadata": {},
   "source": [
    "%%time \n",
    "\n",
    "MODEL_TYPE = 'sm'\n",
    "METHOD = 'ANY'\n",
    "\n",
    "# entities={'EMPLOYER', 'OCCUP'}\n",
    "entities = {'OCCUP','EMPLOYER','ORG','GPE'}\n",
    "\n",
    "entities = set(sorted(entities))\n",
    "\n",
    "ANNOT_PATH = DATA_DIR/f\"annotations_spacy_{MODEL_TYPE.upper()}\"\n",
    "\n",
    "ANNOT_PATH.mkdir(parents=True, exist_ok=True)\n",
    "\n",
    "model = create_model_and_add_rules(MODEL_TYPE, custom_spacy_components)\n",
    "\n",
    "selection = data_sentences\n",
    "NDOCS = len(selection)\n",
    "\n",
    "annotations, elapsed_time = build_annotations_from_sentences(\n",
    "    data=selection,\n",
    "    entities=entities, \n",
    "    nlp=model, \n",
    "    method=METHOD,\n",
    ")\n",
    "\n",
    "print(f\"Elapsed time: {elapsed_time}.\")\n",
    "print(f\"Collected {len(annotations)} annotations.\")\n",
    "\n",
    "tstamp = datetime.strftime(datetime.today(), format='%Y%m%d_%H%M')\n",
    "\n",
    "suffix=f'Adzuna_{\"_\".join(entities)}_{METHOD}_{len(annotations)}_sents_{REGEX_CASE}_{tstamp}'\n",
    "\n",
    "save_spacy_ner_data_to_disk(annotations, \n",
    "                            path=ANNOT_PATH,\n",
    "                            suffix=suffix)\n",
    "\n",
    "metadata = get_annotation_metadata(annotations)\n",
    "metadata.to_parquet(ANNOT_PATH/f'ner_annotation_metadata_{suffix}.parq')"
   ]
  },
  {
   "cell_type": "raw",
   "id": "6d6a6fa8-79df-4a93-a543-ddff483f4b34",
   "metadata": {},
   "source": [
    "annotations[0]"
   ]
  },
  {
   "cell_type": "markdown",
   "id": "81c7fe3c-37e8-4ef7-9017-84e29d9ce19d",
   "metadata": {},
   "source": [
    "----\n",
    "# Creating the annotated data from whole ads"
   ]
  },
  {
   "cell_type": "code",
   "execution_count": 30,
   "id": "6e924919-0232-4d30-afc0-746094211d89",
   "metadata": {},
   "outputs": [
    {
     "data": {
      "application/vnd.jupyter.widget-view+json": {
       "model_id": "2fd12744dacc494098ed72d5344eb1ac",
       "version_major": 2,
       "version_minor": 0
      },
      "text/plain": [
       "  0%|          | 0/10387 [00:00<?, ?it/s]"
      ]
     },
     "metadata": {},
     "output_type": "display_data"
    },
    {
     "name": "stdout",
     "output_type": "stream",
     "text": [
      "Elapsed time: 0d0h5m54s.\n",
      "Collected 10387 annotations.\n",
      "CPU times: user 5min 46s, sys: 12.6 s, total: 5min 59s\n",
      "Wall time: 12min 26s\n"
     ]
    }
   ],
   "source": [
    "%%time \n",
    "\n",
    "MODEL_TYPE = 'sm'\n",
    "METHOD = 'ANY'\n",
    "# entities={'EMPLOYER', 'OCCUP'}\n",
    "entities = {'OCCUP','EMPLOYER','ORG','GPE'}\n",
    "\n",
    "entities = set(sorted(entities))\n",
    "\n",
    "ANNOT_PATH = DATA_DIR/f\"annotations_spacy_{MODEL_TYPE.upper()}\"\n",
    "ANNOT_PATH.mkdir(parents=True, exist_ok=True)\n",
    "\n",
    "model = create_model_and_add_rules(MODEL_TYPE, custom_spacy_components)\n",
    "\n",
    "selection = data\n",
    "NDOCS = len(selection)\n",
    "\n",
    "annotations, elapsed_time = build_annotations_from_docs(data=selection, entities=entities, nlp=model, method=METHOD)\n",
    "\n",
    "print(f\"Elapsed time: {elapsed_time}.\")\n",
    "print(f\"Collected {len(annotations)} annotations.\")\n",
    "\n",
    "# tstamp = datetime.strftime(datetime.today(), format='%Y%m%d_%H%M')\n",
    "\n",
    "suffix=f'Adzuna_{\"_\".join(entities)}_{METHOD}_{len(annotations)}_docs_{REGEX_CASE}'\n",
    "\n",
    "save_spacy_ner_data_to_disk(annotations, \n",
    "                            path=ANNOT_PATH,\n",
    "                            suffix=suffix)\n",
    "\n",
    "metadata = get_annotation_metadata(annotations)\n",
    "metadata.to_parquet(ANNOT_PATH/f'ner_annotation_metadata_{suffix}.parq')"
   ]
  },
  {
   "cell_type": "code",
   "execution_count": 31,
   "id": "838c2b16-a225-466a-bba6-be2d8471a7c3",
   "metadata": {},
   "outputs": [
    {
     "data": {
      "text/plain": [
       "('Are you a qualified/newly qualified teacher looking for supply work in and around South Yorkshire? Do you want a new challenge with varied work, flexibility and great rates of pay? If so, Vision for Education can help We are currently looking for enthusiastic and dedicated KS and KS Primary Teachers for a number of schools across the area. Candidates must have an enthusiasm for teaching, a good knowledge of the national curriculum and excellent classroom and behaviour management skills. It is essential that you hold a valid, recognised teaching qualification and ideally you will have 6 weeks recent experience of teaching in the UK. We must also be able to contact your past school to obtain a reference. Vision for Education was started in by a group of like minded individuals with a desire for providing a quality service to customers. Our promise is to serve the education community, be it Teachers, Schools or Students alike to the highest possible standards. If you are looking for a primary, secondary or special needs teaching position, be it short or long term, then give us the opportunity to help you move your teaching career in the right direction. You need look no further than Vision for Education for a professional, friendly service, provided by an experienced team for all your requirements. If you feel you have the qualities we are looking for, and would like to know more call the office today',\n",
       " {'entities': [(188, 208, 'EMPLOYER'),\n",
       "   (274, 276, 'GPE'),\n",
       "   (284, 300, 'OCCUP'),\n",
       "   (636, 638, 'GPE'),\n",
       "   (712, 732, 'EMPLOYER'),\n",
       "   (1199, 1219, 'EMPLOYER')]},\n",
       " 36757414)"
      ]
     },
     "execution_count": 31,
     "metadata": {},
     "output_type": "execute_result"
    }
   ],
   "source": [
    "annotations[0]"
   ]
  },
  {
   "cell_type": "code",
   "execution_count": null,
   "id": "99661319-ee73-4d07-ab15-9b327bec4474",
   "metadata": {},
   "outputs": [],
   "source": []
  }
 ],
 "metadata": {
  "kernelspec": {
   "display_name": "py311",
   "language": "python",
   "name": "py311"
  },
  "language_info": {
   "codemirror_mode": {
    "name": "ipython",
    "version": 3
   },
   "file_extension": ".py",
   "mimetype": "text/x-python",
   "name": "python",
   "nbconvert_exporter": "python",
   "pygments_lexer": "ipython3",
   "version": "3.11.0"
  }
 },
 "nbformat": 4,
 "nbformat_minor": 5
}
