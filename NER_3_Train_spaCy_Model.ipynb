{
 "cells": [
  {
   "cell_type": "markdown",
   "id": "a3b9a973-f63e-4fbb-9132-886516e77b3c",
   "metadata": {
    "tags": []
   },
   "source": [
    "<h1>Named Entity Recognition (NER) for job data: spaCy model training</h1>\n",
    "<h3>Adel Rahmani</h3>\n",
    "\n",
    "<hr style=\"height:5px;border:none;color:#333;background-color:#333;\" />"
   ]
  },
  {
   "cell_type": "markdown",
   "id": "33347e43-9a5f-47cd-b9b6-4132c6e0116b",
   "metadata": {},
   "source": [
    "<div style=\"background-color:#FBEFFB;\">\n",
    "<hr style=\"height:5px;border:none;color:#333;background-color:#333;\" />\n",
    "<h3>Licence</h3>\n",
    "<p>Copyright (C) 2022  Adel Rahmani\n",
    "\n",
    "This program is free software: you can redistribute it and/or modify\n",
    "it under the terms of the GNU General Public License as published by\n",
    "the Free Software Foundation, either version 3 of the License, or\n",
    "(at your option) any later version.\n",
    "\n",
    "This program is distributed in the hope that it will be useful,\n",
    "but WITHOUT ANY WARRANTY; without even the implied warranty of\n",
    "MERCHANTABILITY or FITNESS FOR A PARTICULAR PURPOSE.  See the\n",
    "GNU General Public License for more details.\n",
    "\n",
    "You should have received a copy of the GNU General Public License\n",
    "along with this program.  If not, see <http://www.gnu.org/licenses/>.</p>\n",
    "<hr style=\"height:5px;border:none;color:#333;background-color:#333;\" />\n",
    "</div>"
   ]
  },
  {
   "cell_type": "markdown",
   "id": "71b9f874-830b-4b24-89cb-1e8b865a55fa",
   "metadata": {
    "tags": []
   },
   "source": [
    "<div style=\"background-color:#F2FBEF;\">\n",
    "<h2><font color=#04B404>Abstract</font></h2>\n",
    "This notebook and associated code uses NER annotated data to train and evaluate a spaCy machine learning model.\n",
    "</div>\n",
    "<hr>"
   ]
  },
  {
   "cell_type": "code",
   "execution_count": 1,
   "id": "29b718e9-1979-409d-92d8-b0fdefb529cc",
   "metadata": {},
   "outputs": [],
   "source": [
    "%load_ext autoreload\n",
    "%autoreload 2"
   ]
  },
  {
   "cell_type": "code",
   "execution_count": 2,
   "id": "3d0ff8ae-9411-4600-b3ba-c2a1b323c69a",
   "metadata": {},
   "outputs": [],
   "source": [
    "import random\n",
    "import swifter\n",
    "import string\n",
    "import regex\n",
    "import ast\n",
    "import json\n",
    "import time \n",
    "import copy\n",
    "\n",
    "import pandas as pd\n",
    "import numpy as np\n",
    "import matplotlib as mpl\n",
    "import matplotlib.pyplot as plt\n",
    "import seaborn as sns\n",
    "import colorcet as cc\n",
    "import operator\n",
    "\n",
    "import spacy\n",
    "from spacy.util import minibatch, compounding, filter_spans\n",
    "from spacy.matcher import Matcher, PhraseMatcher\n",
    "from spacy.training.example import Example\n",
    "from pathlib import Path\n",
    "from spacy.tokens import DocBin, Span\n",
    "from spacy.pipeline import EntityRuler\n",
    "from spacy import displacy\n",
    "from spacy.language import Language\n",
    "\n",
    "from sklearn.model_selection import train_test_split\n",
    "from itertools import chain\n",
    "from datetime import datetime\n",
    "from pathlib import Path\n",
    "from tqdm.notebook import tqdm_notebook\n",
    "\n",
    "import warnings\n",
    "warnings.simplefilter('ignore')\n",
    "\n",
    "from ner_utils import save_spacy_ner_data_to_disk, load_spacy_data_from_csv, compute_elapsed_time, timedelta2str\n",
    "\n",
    "from IPython.display import display_html, HTML, display\n",
    "\n",
    "SPACY_MODEL_TYPES = {m: f'en_core_web_{m}' for m in ['sm', 'md', 'lg', 'trf']}"
   ]
  },
  {
   "cell_type": "markdown",
   "id": "8748a790-f675-4ff6-83f2-392f2d02c5ce",
   "metadata": {},
   "source": [
    "----\n",
    "# Load the annnotated data\n",
    "\n"
   ]
  },
  {
   "cell_type": "code",
   "execution_count": 3,
   "id": "9d02bd6c-813d-40f2-a39c-421ad89c3ece",
   "metadata": {},
   "outputs": [],
   "source": [
    "DATA_HASH = 'fba836ee1bdf4fda32004145ffe1eeb8d3c6b5f1'\n",
    "SPACY_ANNOT_MODEL = 'sm'\n",
    "SPACY_ANNOT_TYPE  = 'docs'"
   ]
  },
  {
   "cell_type": "code",
   "execution_count": 4,
   "id": "5cff29f3-e64b-4bc4-8912-d6059db989e3",
   "metadata": {},
   "outputs": [],
   "source": [
    "DATA_DIR = Path(f'experiments/data_{DATA_HASH}/')"
   ]
  },
  {
   "cell_type": "code",
   "execution_count": 5,
   "id": "edd1eeb5-b5c0-4152-b355-ffa9e089cf20",
   "metadata": {},
   "outputs": [
    {
     "data": {
      "text/plain": [
       "[PosixPath('experiments/data_fba836ee1bdf4fda32004145ffe1eeb8d3c6b5f1/Adzuna_job_data_fba836ee1bdf4fda32004145ffe1eeb8d3c6b5f1_sents.parq'),\n",
       " PosixPath('experiments/data_fba836ee1bdf4fda32004145ffe1eeb8d3c6b5f1/Adzuna_job_data_fba836ee1bdf4fda32004145ffe1eeb8d3c6b5f1_docs.parq'),\n",
       " PosixPath('experiments/data_fba836ee1bdf4fda32004145ffe1eeb8d3c6b5f1/spacy_ner_component_cased.json'),\n",
       " PosixPath('experiments/data_fba836ee1bdf4fda32004145ffe1eeb8d3c6b5f1/Adzuna_job_data_fba836ee1bdf4fda32004145ffe1eeb8d3c6b5f1_docs_split_Company_RS1_0_8_8064_2323.parq'),\n",
       " PosixPath('experiments/data_fba836ee1bdf4fda32004145ffe1eeb8d3c6b5f1/Adzuna_job_data_fba836ee1bdf4fda32004145ffe1eeb8d3c6b5f1_docs_split_Title_RS1_0_8_8137_2250.parq'),\n",
       " PosixPath('experiments/data_fba836ee1bdf4fda32004145ffe1eeb8d3c6b5f1/annotations_spacy_SM')]"
      ]
     },
     "execution_count": 5,
     "metadata": {},
     "output_type": "execute_result"
    }
   ],
   "source": [
    "available = list(DATA_DIR.glob('*'))\n",
    "available"
   ]
  },
  {
   "cell_type": "code",
   "execution_count": 6,
   "id": "44f3bb84-945f-41a2-92e0-04d31122c435",
   "metadata": {},
   "outputs": [
    {
     "data": {
      "text/plain": [
       "PosixPath('experiments/data_fba836ee1bdf4fda32004145ffe1eeb8d3c6b5f1/annotations_spacy_SM')"
      ]
     },
     "execution_count": 6,
     "metadata": {},
     "output_type": "execute_result"
    }
   ],
   "source": [
    "ANNOT_PATH = DATA_DIR/f'annotations_spacy_{SPACY_ANNOT_MODEL.upper()}'\n",
    "ANNOT_PATH"
   ]
  },
  {
   "cell_type": "code",
   "execution_count": 7,
   "id": "6f35c4b2-a1a5-4198-9a07-7092ad190ae6",
   "metadata": {},
   "outputs": [
    {
     "data": {
      "text/plain": [
       "PosixPath('experiments/data_fba836ee1bdf4fda32004145ffe1eeb8d3c6b5f1/annotations_spacy_SM/ner_annotation_data_Adzuna_OCCUP_GPE_EMPLOYER_ORG_ANY_10387_docs_cased.csv.gz')"
      ]
     },
     "execution_count": 7,
     "metadata": {},
     "output_type": "execute_result"
    }
   ],
   "source": [
    "ANNOT_DATA = list(ANNOT_PATH.glob(f'*{SPACY_ANNOT_TYPE.lower()}*.gz'))[0]\n",
    "ANNOT_DATA"
   ]
  },
  {
   "cell_type": "code",
   "execution_count": 8,
   "id": "969e8a93-ca26-41c5-8733-2b9a10cad767",
   "metadata": {},
   "outputs": [
    {
     "data": {
      "text/plain": [
       "'cased'"
      ]
     },
     "execution_count": 8,
     "metadata": {},
     "output_type": "execute_result"
    }
   ],
   "source": [
    "REGEX_CASE = 'uncased' if 'uncased' in ANNOT_DATA.name else 'cased'\n",
    "REGEX_CASE"
   ]
  },
  {
   "cell_type": "code",
   "execution_count": 9,
   "id": "c8c0e0d1-e34f-4121-a6c6-7351feb203a8",
   "metadata": {},
   "outputs": [
    {
     "name": "stdout",
     "output_type": "stream",
     "text": [
      "experiments/data_fba836ee1bdf4fda32004145ffe1eeb8d3c6b5f1/annotations_spacy_SM/ner_annotation_metadata_Adzuna_OCCUP_GPE_EMPLOYER_ORG_ANY_10387_docs_cased.parq\n"
     ]
    }
   ],
   "source": [
    "!ls {ANNOT_DATA.as_posix().replace('annotation_data', 'annotation_metadata').replace('.csv.gz', '.parq')}"
   ]
  },
  {
   "cell_type": "code",
   "execution_count": 10,
   "id": "9a52b0ab-3e47-45fa-bccd-2d0a19f6068b",
   "metadata": {},
   "outputs": [
    {
     "data": {
      "text/plain": [
       "PosixPath('experiments/data_fba836ee1bdf4fda32004145ffe1eeb8d3c6b5f1/annotations_spacy_SM/ner_annotation_metadata_Adzuna_OCCUP_GPE_EMPLOYER_ORG_ANY_10387_docs_cased.parq')"
      ]
     },
     "execution_count": 10,
     "metadata": {},
     "output_type": "execute_result"
    }
   ],
   "source": [
    "ANNOT_META_DATA = Path(ANNOT_DATA.as_posix().replace('annotation_data', 'annotation_metadata').replace('.csv.gz', '.parq'))\n",
    "ANNOT_META_DATA"
   ]
  },
  {
   "cell_type": "code",
   "execution_count": 11,
   "id": "b7c8956b-c420-45ad-8a84-19d8c2a513a0",
   "metadata": {},
   "outputs": [
    {
     "name": "stdout",
     "output_type": "stream",
     "text": [
      "ner_annotation_data_Adzuna_OCCUP_GPE_EMPLOYER_ORG_ANY_10387_docs_cased.csv.gz\n",
      "ner_annotation_metadata_Adzuna_OCCUP_GPE_EMPLOYER_ORG_ANY_10387_docs_cased.parq\n"
     ]
    }
   ],
   "source": [
    "!ls {ANNOT_PATH}"
   ]
  },
  {
   "cell_type": "code",
   "execution_count": 12,
   "id": "e7f1dba2-dfc3-44ad-be8f-4bc4857e2aa1",
   "metadata": {},
   "outputs": [
    {
     "name": "stdout",
     "output_type": "stream",
     "text": [
      "Loaded 10387 annotated documents...\n"
     ]
    }
   ],
   "source": [
    "annotated_data = load_spacy_data_from_csv(ANNOT_DATA)\n",
    "print(f\"Loaded {len(annotated_data)} annotated documents...\")"
   ]
  },
  {
   "cell_type": "code",
   "execution_count": 13,
   "id": "d60e88da-4e8a-493e-9349-806ca7e1ca67",
   "metadata": {},
   "outputs": [
    {
     "data": {
      "text/plain": [
       "('Are you a qualified/newly qualified teacher looking for supply work in and around South Yorkshire? Do you want a new challenge with varied work, flexibility and great rates of pay? If so, Vision for Education can help We are currently looking for enthusiastic and dedicated KS and KS Primary Teachers for a number of schools across the area. Candidates must have an enthusiasm for teaching, a good knowledge of the national curriculum and excellent classroom and behaviour management skills. It is essential that you hold a valid, recognised teaching qualification and ideally you will have 6 weeks recent experience of teaching in the UK. We must also be able to contact your past school to obtain a reference. Vision for Education was started in by a group of like minded individuals with a desire for providing a quality service to customers. Our promise is to serve the education community, be it Teachers, Schools or Students alike to the highest possible standards. If you are looking for a primary, secondary or special needs teaching position, be it short or long term, then give us the opportunity to help you move your teaching career in the right direction. You need look no further than Vision for Education for a professional, friendly service, provided by an experienced team for all your requirements. If you feel you have the qualities we are looking for, and would like to know more call the office today',\n",
       " {'entities': [(188, 208, 'EMPLOYER'),\n",
       "   (274, 276, 'GPE'),\n",
       "   (284, 300, 'OCCUP'),\n",
       "   (636, 638, 'GPE'),\n",
       "   (712, 732, 'EMPLOYER'),\n",
       "   (1199, 1219, 'EMPLOYER')]},\n",
       " 36757414)"
      ]
     },
     "execution_count": 13,
     "metadata": {},
     "output_type": "execute_result"
    }
   ],
   "source": [
    "annotated_data[0]"
   ]
  },
  {
   "cell_type": "code",
   "execution_count": 14,
   "id": "ebc45d58-b716-46f1-9a5e-46636e3d8b95",
   "metadata": {},
   "outputs": [
    {
     "data": {
      "text/plain": [
       "PosixPath('experiments/data_fba836ee1bdf4fda32004145ffe1eeb8d3c6b5f1/annotations_spacy_SM/ner_annotation_metadata_Adzuna_OCCUP_GPE_EMPLOYER_ORG_ANY_10387_docs_cased.parq')"
      ]
     },
     "execution_count": 14,
     "metadata": {},
     "output_type": "execute_result"
    }
   ],
   "source": [
    "ANNOT_META_DATA"
   ]
  },
  {
   "cell_type": "code",
   "execution_count": 15,
   "id": "e7e10adf-cedb-4f1e-ac52-6a2da8283a57",
   "metadata": {},
   "outputs": [],
   "source": [
    "metadata = pd.read_parquet(ANNOT_META_DATA)"
   ]
  },
  {
   "cell_type": "code",
   "execution_count": 16,
   "id": "3eab9414-533d-4013-b6ab-0b5b80f83b0b",
   "metadata": {},
   "outputs": [
    {
     "data": {
      "text/html": [
       "<div>\n",
       "<style scoped>\n",
       "    .dataframe tbody tr th:only-of-type {\n",
       "        vertical-align: middle;\n",
       "    }\n",
       "\n",
       "    .dataframe tbody tr th {\n",
       "        vertical-align: top;\n",
       "    }\n",
       "\n",
       "    .dataframe thead th {\n",
       "        text-align: right;\n",
       "    }\n",
       "</style>\n",
       "<table border=\"1\" class=\"dataframe\">\n",
       "  <thead>\n",
       "    <tr style=\"text-align: right;\">\n",
       "      <th></th>\n",
       "      <th>doc_id</th>\n",
       "      <th>text</th>\n",
       "      <th>text_length</th>\n",
       "      <th>EMPLOYER</th>\n",
       "      <th>GPE</th>\n",
       "      <th>OCCUP</th>\n",
       "      <th>ORG</th>\n",
       "      <th>entity_count</th>\n",
       "      <th>entity_per_char</th>\n",
       "    </tr>\n",
       "  </thead>\n",
       "  <tbody>\n",
       "    <tr>\n",
       "      <th>0</th>\n",
       "      <td>36757414</td>\n",
       "      <td>Are you a qualified/newly qualified teacher lo...</td>\n",
       "      <td>1421</td>\n",
       "      <td>3</td>\n",
       "      <td>2</td>\n",
       "      <td>1</td>\n",
       "      <td>0</td>\n",
       "      <td>6</td>\n",
       "      <td>0.004222</td>\n",
       "    </tr>\n",
       "    <tr>\n",
       "      <th>1</th>\n",
       "      <td>44452524</td>\n",
       "      <td>Chef De Partie Rustic Italian AA Rosette resta...</td>\n",
       "      <td>2263</td>\n",
       "      <td>2</td>\n",
       "      <td>0</td>\n",
       "      <td>11</td>\n",
       "      <td>4</td>\n",
       "      <td>17</td>\n",
       "      <td>0.007512</td>\n",
       "    </tr>\n",
       "    <tr>\n",
       "      <th>2</th>\n",
       "      <td>45057486</td>\n",
       "      <td>Manager Recruiting a Manager for a newly acqui...</td>\n",
       "      <td>1647</td>\n",
       "      <td>2</td>\n",
       "      <td>1</td>\n",
       "      <td>7</td>\n",
       "      <td>3</td>\n",
       "      <td>13</td>\n",
       "      <td>0.007893</td>\n",
       "    </tr>\n",
       "    <tr>\n",
       "      <th>3</th>\n",
       "      <td>54238303</td>\n",
       "      <td>Commis Chef We are recruiting for a bright com...</td>\n",
       "      <td>2333</td>\n",
       "      <td>2</td>\n",
       "      <td>0</td>\n",
       "      <td>1</td>\n",
       "      <td>1</td>\n",
       "      <td>4</td>\n",
       "      <td>0.001715</td>\n",
       "    </tr>\n",
       "    <tr>\n",
       "      <th>4</th>\n",
       "      <td>55408076</td>\n",
       "      <td>Job Title: Manufacturing Engineer Salary: circ...</td>\n",
       "      <td>1598</td>\n",
       "      <td>1</td>\n",
       "      <td>0</td>\n",
       "      <td>4</td>\n",
       "      <td>10</td>\n",
       "      <td>15</td>\n",
       "      <td>0.009387</td>\n",
       "    </tr>\n",
       "  </tbody>\n",
       "</table>\n",
       "</div>"
      ],
      "text/plain": [
       "     doc_id                                               text  text_length  \\\n",
       "0  36757414  Are you a qualified/newly qualified teacher lo...         1421   \n",
       "1  44452524  Chef De Partie Rustic Italian AA Rosette resta...         2263   \n",
       "2  45057486  Manager Recruiting a Manager for a newly acqui...         1647   \n",
       "3  54238303  Commis Chef We are recruiting for a bright com...         2333   \n",
       "4  55408076  Job Title: Manufacturing Engineer Salary: circ...         1598   \n",
       "\n",
       "   EMPLOYER  GPE  OCCUP  ORG  entity_count  entity_per_char  \n",
       "0         3    2      1    0             6         0.004222  \n",
       "1         2    0     11    4            17         0.007512  \n",
       "2         2    1      7    3            13         0.007893  \n",
       "3         2    0      1    1             4         0.001715  \n",
       "4         1    0      4   10            15         0.009387  "
      ]
     },
     "execution_count": 16,
     "metadata": {},
     "output_type": "execute_result"
    }
   ],
   "source": [
    "metadata.head()"
   ]
  },
  {
   "cell_type": "code",
   "execution_count": 17,
   "id": "26f03754-77a2-4a08-b522-19eeabde5e6e",
   "metadata": {},
   "outputs": [],
   "source": [
    "# metadata.sort_values('entity_per_char', ascending=False).head(12)"
   ]
  },
  {
   "cell_type": "code",
   "execution_count": 18,
   "id": "b9835128-6f98-4b7c-a829-80b59ae3d2fd",
   "metadata": {},
   "outputs": [],
   "source": [
    "# np.log10(metadata.text.str.split().str.len()).plot.hist(bins=25, ec='w')"
   ]
  },
  {
   "cell_type": "markdown",
   "id": "a533e8f5-8f07-455e-b471-ff1bdb3544c3",
   "metadata": {},
   "source": [
    "---\n",
    "## Split the data into train/test sets"
   ]
  },
  {
   "cell_type": "markdown",
   "id": "ce1c7106-9f7b-4a2c-a6c1-1e0a610be4cd",
   "metadata": {
    "tags": []
   },
   "source": [
    "__Note__: Random splits can potentially cause data leakage between train and test due to regex annotation. Using the precomputed split (see notebook 2) to mitigate this issue to some extent."
   ]
  },
  {
   "cell_type": "code",
   "execution_count": 19,
   "id": "2264b618-2636-4d2a-af80-b320570bdb3a",
   "metadata": {},
   "outputs": [],
   "source": [
    "def compute_random_split(annotated_data, train_size=0.8, random_state=0):\n",
    "\n",
    "    split_info = f\"TOT_{len(annotated_data)}_{SPACY_ANNOT_TYPE}_TRSIZE_{train_size}_RS{random_state}\"\n",
    "    # print(split_info)\n",
    "\n",
    "    TRAIN_DATA, TEST_DATA = train_test_split(annotated_data, \n",
    "                                             train_size=train_size, \n",
    "                                             random_state=random_state)\n",
    "\n",
    "    TRAIN_DATA_IDX, TEST_DATA_IDX = train_test_split(np.arange(len(annotated_data)), \n",
    "                                             train_size=train_size, \n",
    "                                             random_state=random_state)\n",
    "\n",
    "    print(f\"Split the {len(annotated_data)} annotated documents into {len(TRAIN_DATA)} documents for training and {len(TEST_DATA)} for testing.\")\n",
    "    \n",
    "    return split_info, TRAIN_DATA, TEST_DATA, TRAIN_DATA_IDX, TEST_DATA_IDX"
   ]
  },
  {
   "cell_type": "code",
   "execution_count": 20,
   "id": "de2e91b3-4750-4aaf-ba64-4fea6f02f01e",
   "metadata": {},
   "outputs": [],
   "source": [
    "def split_annotations_into_train_and_test(annotated_data=None, DATA_DIR=DATA_DIR, precomputed=None, train_size=0.8, random_state=0):\n",
    "    if precomputed is None:\n",
    "        return compute_random_split(annotated_data, train_size, random_state)\n",
    "\n",
    "    split_file = DATA_DIR/precomputed\n",
    "    \n",
    "    if not split_file.is_file():\n",
    "        raise FileNotFoundError(f'File {file} not found!')\n",
    "    \n",
    "    random_state = split_file.name.split('RS')[1].split('_')[0]\n",
    "    train_size, test_size = [int(_) for _ in split_file.name.split('.')[0].split('_')[-2:]]\n",
    "    \n",
    "    split_info = pd.read_parquet(split_file)\n",
    "    TRAIN_DATA_IDX = np.where(split_info.training==True)[0]\n",
    "    TEST_DATA_IDX  = np.where(split_info.training==False)[0]\n",
    "    assert len(TRAIN_DATA_IDX) == train_size\n",
    "    assert len(TEST_DATA_IDX) == test_size\n",
    "\n",
    "    split_info = f\"TOT_{len(annotated_data)}_{SPACY_ANNOT_TYPE}_TRSIZE_{train_size}_RS{random_state}_precomp\"\n",
    "    \n",
    "    annotations_array = np.array(annotated_data)\n",
    "\n",
    "    TRAIN_DATA = annotations_array[TRAIN_DATA_IDX].tolist()\n",
    "    TEST_DATA = annotations_array[TEST_DATA_IDX].tolist()\n",
    "    \n",
    "    print(f\"Split the {len(annotated_data)} annotated documents into {len(TRAIN_DATA)} documents for training and {len(TEST_DATA)} for testing.\")\n",
    "    \n",
    "    return split_info, TRAIN_DATA, TEST_DATA, TRAIN_DATA_IDX, TEST_DATA_IDX"
   ]
  },
  {
   "cell_type": "code",
   "execution_count": 21,
   "id": "2a9f7cb2-f36e-4d0f-b416-26883fac24ef",
   "metadata": {},
   "outputs": [
    {
     "name": "stdout",
     "output_type": "stream",
     "text": [
      "Split the 10387 annotated documents into 8137 documents for training and 2250 for testing.\n"
     ]
    }
   ],
   "source": [
    "SPLIT_PARAMS = 'Adzuna_job_data_fba836ee1bdf4fda32004145ffe1eeb8d3c6b5f1_docs_split_Title_RS1_0_8_8137_2250.parq'\n",
    "    \n",
    "split_info, TRAIN_DATA, TEST_DATA, TRAIN_DATA_IDX, TEST_DATA_IDX = split_annotations_into_train_and_test(\n",
    "    annotated_data, \n",
    "    DATA_DIR=DATA_DIR, \n",
    "    precomputed=SPLIT_PARAMS, \n",
    "    train_size=0.8, \n",
    "    random_state=0)\n"
   ]
  },
  {
   "cell_type": "code",
   "execution_count": 22,
   "id": "1004c2ac-0e8f-43ef-85e2-ce757b44ffe3",
   "metadata": {},
   "outputs": [
    {
     "data": {
      "text/plain": [
       "['Are you a qualified/newly qualified teacher looking for supply work in and around South Yorkshire? Do you want a new challenge with varied work, flexibility and great rates of pay? If so, Vision for Education can help We are currently looking for enthusiastic and dedicated KS and KS Primary Teachers for a number of schools across the area. Candidates must have an enthusiasm for teaching, a good knowledge of the national curriculum and excellent classroom and behaviour management skills. It is essential that you hold a valid, recognised teaching qualification and ideally you will have 6 weeks recent experience of teaching in the UK. We must also be able to contact your past school to obtain a reference. Vision for Education was started in by a group of like minded individuals with a desire for providing a quality service to customers. Our promise is to serve the education community, be it Teachers, Schools or Students alike to the highest possible standards. If you are looking for a primary, secondary or special needs teaching position, be it short or long term, then give us the opportunity to help you move your teaching career in the right direction. You need look no further than Vision for Education for a professional, friendly service, provided by an experienced team for all your requirements. If you feel you have the qualities we are looking for, and would like to know more call the office today',\n",
       " {'entities': [(188, 208, 'EMPLOYER'),\n",
       "   (274, 276, 'GPE'),\n",
       "   (284, 300, 'OCCUP'),\n",
       "   (636, 638, 'GPE'),\n",
       "   (712, 732, 'EMPLOYER'),\n",
       "   (1199, 1219, 'EMPLOYER')]},\n",
       " 36757414]"
      ]
     },
     "execution_count": 22,
     "metadata": {},
     "output_type": "execute_result"
    }
   ],
   "source": [
    "TRAIN_DATA[0]"
   ]
  },
  {
   "cell_type": "code",
   "execution_count": 23,
   "id": "daddbc98-59e9-41ad-a9b9-502ddb7179e4",
   "metadata": {},
   "outputs": [
    {
     "data": {
      "text/plain": [
       "('Are you a qualified/newly qualified teacher looking for supply work in and around South Yorkshire? Do you want a new challenge with varied work, flexibility and great rates of pay? If so, Vision for Education can help We are currently looking for enthusiastic and dedicated KS and KS Primary Teachers for a number of schools across the area. Candidates must have an enthusiasm for teaching, a good knowledge of the national curriculum and excellent classroom and behaviour management skills. It is essential that you hold a valid, recognised teaching qualification and ideally you will have 6 weeks recent experience of teaching in the UK. We must also be able to contact your past school to obtain a reference. Vision for Education was started in by a group of like minded individuals with a desire for providing a quality service to customers. Our promise is to serve the education community, be it Teachers, Schools or Students alike to the highest possible standards. If you are looking for a primary, secondary or special needs teaching position, be it short or long term, then give us the opportunity to help you move your teaching career in the right direction. You need look no further than Vision for Education for a professional, friendly service, provided by an experienced team for all your requirements. If you feel you have the qualities we are looking for, and would like to know more call the office today',\n",
       " {'entities': [(188, 208, 'EMPLOYER'),\n",
       "   (274, 276, 'GPE'),\n",
       "   (284, 300, 'OCCUP'),\n",
       "   (636, 638, 'GPE'),\n",
       "   (712, 732, 'EMPLOYER'),\n",
       "   (1199, 1219, 'EMPLOYER')]},\n",
       " 36757414)"
      ]
     },
     "execution_count": 23,
     "metadata": {},
     "output_type": "execute_result"
    }
   ],
   "source": [
    "annotated_data[TRAIN_DATA_IDX[0]]"
   ]
  },
  {
   "cell_type": "code",
   "execution_count": 24,
   "id": "7e58e4c0-efc3-495c-827c-34e4fc6a80c5",
   "metadata": {},
   "outputs": [],
   "source": [
    "metadata['train'] = True\n",
    "metadata.iloc[TEST_DATA_IDX, -1] = False"
   ]
  },
  {
   "cell_type": "code",
   "execution_count": 25,
   "id": "39bfefd3-083f-43f2-9a62-4cb400c13c2b",
   "metadata": {},
   "outputs": [
    {
     "data": {
      "text/html": [
       "<div>\n",
       "<style scoped>\n",
       "    .dataframe tbody tr th:only-of-type {\n",
       "        vertical-align: middle;\n",
       "    }\n",
       "\n",
       "    .dataframe tbody tr th {\n",
       "        vertical-align: top;\n",
       "    }\n",
       "\n",
       "    .dataframe thead th {\n",
       "        text-align: right;\n",
       "    }\n",
       "</style>\n",
       "<table border=\"1\" class=\"dataframe\">\n",
       "  <thead>\n",
       "    <tr style=\"text-align: right;\">\n",
       "      <th></th>\n",
       "      <th>doc_id</th>\n",
       "      <th>text</th>\n",
       "      <th>text_length</th>\n",
       "      <th>EMPLOYER</th>\n",
       "      <th>GPE</th>\n",
       "      <th>OCCUP</th>\n",
       "      <th>ORG</th>\n",
       "      <th>entity_count</th>\n",
       "      <th>entity_per_char</th>\n",
       "      <th>train</th>\n",
       "    </tr>\n",
       "  </thead>\n",
       "  <tbody>\n",
       "    <tr>\n",
       "      <th>5156</th>\n",
       "      <td>71855929</td>\n",
       "      <td>Our client a Nuclear MOD site in Berkshire is ...</td>\n",
       "      <td>3246</td>\n",
       "      <td>1</td>\n",
       "      <td>1</td>\n",
       "      <td>2</td>\n",
       "      <td>28</td>\n",
       "      <td>32</td>\n",
       "      <td>0.009858</td>\n",
       "      <td>True</td>\n",
       "    </tr>\n",
       "    <tr>\n",
       "      <th>7577</th>\n",
       "      <td>69638911</td>\n",
       "      <td>Mclaren Absolute Taste Inflight Chef de Partie...</td>\n",
       "      <td>2921</td>\n",
       "      <td>5</td>\n",
       "      <td>5</td>\n",
       "      <td>2</td>\n",
       "      <td>3</td>\n",
       "      <td>15</td>\n",
       "      <td>0.005135</td>\n",
       "      <td>True</td>\n",
       "    </tr>\n",
       "    <tr>\n",
       "      <th>4181</th>\n",
       "      <td>71295298</td>\n",
       "      <td>URGENT English Teacher Required for contract p...</td>\n",
       "      <td>545</td>\n",
       "      <td>1</td>\n",
       "      <td>2</td>\n",
       "      <td>1</td>\n",
       "      <td>5</td>\n",
       "      <td>9</td>\n",
       "      <td>0.016514</td>\n",
       "      <td>False</td>\n",
       "    </tr>\n",
       "    <tr>\n",
       "      <th>1206</th>\n",
       "      <td>68691549</td>\n",
       "      <td>Recruitment Consultant Contract IT and Technic...</td>\n",
       "      <td>1622</td>\n",
       "      <td>1</td>\n",
       "      <td>1</td>\n",
       "      <td>8</td>\n",
       "      <td>5</td>\n",
       "      <td>15</td>\n",
       "      <td>0.009248</td>\n",
       "      <td>False</td>\n",
       "    </tr>\n",
       "    <tr>\n",
       "      <th>5332</th>\n",
       "      <td>72127029</td>\n",
       "      <td>Senior Project Manager London k k Benefits MMS...</td>\n",
       "      <td>1675</td>\n",
       "      <td>1</td>\n",
       "      <td>0</td>\n",
       "      <td>5</td>\n",
       "      <td>6</td>\n",
       "      <td>12</td>\n",
       "      <td>0.007164</td>\n",
       "      <td>True</td>\n",
       "    </tr>\n",
       "    <tr>\n",
       "      <th>1011</th>\n",
       "      <td>68676778</td>\n",
       "      <td>Internal Communications Manager, k, Oxfordshir...</td>\n",
       "      <td>2321</td>\n",
       "      <td>1</td>\n",
       "      <td>3</td>\n",
       "      <td>1</td>\n",
       "      <td>4</td>\n",
       "      <td>9</td>\n",
       "      <td>0.003878</td>\n",
       "      <td>True</td>\n",
       "    </tr>\n",
       "    <tr>\n",
       "      <th>9358</th>\n",
       "      <td>66887987</td>\n",
       "      <td>Sellick Partnership is working on an exclusive...</td>\n",
       "      <td>1076</td>\n",
       "      <td>1</td>\n",
       "      <td>2</td>\n",
       "      <td>2</td>\n",
       "      <td>0</td>\n",
       "      <td>5</td>\n",
       "      <td>0.004647</td>\n",
       "      <td>True</td>\n",
       "    </tr>\n",
       "    <tr>\n",
       "      <th>6711</th>\n",
       "      <td>68592018</td>\n",
       "      <td>Project Manager Automotive South Yorkshire Sal...</td>\n",
       "      <td>2020</td>\n",
       "      <td>2</td>\n",
       "      <td>0</td>\n",
       "      <td>1</td>\n",
       "      <td>4</td>\n",
       "      <td>7</td>\n",
       "      <td>0.003465</td>\n",
       "      <td>False</td>\n",
       "    </tr>\n",
       "    <tr>\n",
       "      <th>6895</th>\n",
       "      <td>68694243</td>\n",
       "      <td>Our client is an expanding firm and is offerin...</td>\n",
       "      <td>2095</td>\n",
       "      <td>8</td>\n",
       "      <td>7</td>\n",
       "      <td>0</td>\n",
       "      <td>7</td>\n",
       "      <td>22</td>\n",
       "      <td>0.010501</td>\n",
       "      <td>True</td>\n",
       "    </tr>\n",
       "    <tr>\n",
       "      <th>4555</th>\n",
       "      <td>71557798</td>\n",
       "      <td>We are looking for a Part Time Administrator t...</td>\n",
       "      <td>671</td>\n",
       "      <td>2</td>\n",
       "      <td>0</td>\n",
       "      <td>1</td>\n",
       "      <td>4</td>\n",
       "      <td>7</td>\n",
       "      <td>0.010432</td>\n",
       "      <td>True</td>\n",
       "    </tr>\n",
       "  </tbody>\n",
       "</table>\n",
       "</div>"
      ],
      "text/plain": [
       "        doc_id                                               text  \\\n",
       "5156  71855929  Our client a Nuclear MOD site in Berkshire is ...   \n",
       "7577  69638911  Mclaren Absolute Taste Inflight Chef de Partie...   \n",
       "4181  71295298  URGENT English Teacher Required for contract p...   \n",
       "1206  68691549  Recruitment Consultant Contract IT and Technic...   \n",
       "5332  72127029  Senior Project Manager London k k Benefits MMS...   \n",
       "1011  68676778  Internal Communications Manager, k, Oxfordshir...   \n",
       "9358  66887987  Sellick Partnership is working on an exclusive...   \n",
       "6711  68592018  Project Manager Automotive South Yorkshire Sal...   \n",
       "6895  68694243  Our client is an expanding firm and is offerin...   \n",
       "4555  71557798  We are looking for a Part Time Administrator t...   \n",
       "\n",
       "      text_length  EMPLOYER  GPE  OCCUP  ORG  entity_count  entity_per_char  \\\n",
       "5156         3246         1    1      2   28            32         0.009858   \n",
       "7577         2921         5    5      2    3            15         0.005135   \n",
       "4181          545         1    2      1    5             9         0.016514   \n",
       "1206         1622         1    1      8    5            15         0.009248   \n",
       "5332         1675         1    0      5    6            12         0.007164   \n",
       "1011         2321         1    3      1    4             9         0.003878   \n",
       "9358         1076         1    2      2    0             5         0.004647   \n",
       "6711         2020         2    0      1    4             7         0.003465   \n",
       "6895         2095         8    7      0    7            22         0.010501   \n",
       "4555          671         2    0      1    4             7         0.010432   \n",
       "\n",
       "      train  \n",
       "5156   True  \n",
       "7577   True  \n",
       "4181  False  \n",
       "1206  False  \n",
       "5332   True  \n",
       "1011   True  \n",
       "9358   True  \n",
       "6711  False  \n",
       "6895   True  \n",
       "4555   True  "
      ]
     },
     "execution_count": 25,
     "metadata": {},
     "output_type": "execute_result"
    }
   ],
   "source": [
    "metadata.sample(10, random_state=1)"
   ]
  },
  {
   "cell_type": "markdown",
   "id": "447e38eb-d80e-4af7-a8ac-97068dc8387d",
   "metadata": {
    "tags": []
   },
   "source": [
    "----\n",
    "# Create the spaCy training config file and train the model"
   ]
  },
  {
   "cell_type": "code",
   "execution_count": 26,
   "id": "33e47843-e982-479a-819f-34c02d973d07",
   "metadata": {},
   "outputs": [],
   "source": [
    "model_type = 'sm'"
   ]
  },
  {
   "cell_type": "code",
   "execution_count": 27,
   "id": "bb1c1b25-f8fc-4e21-9943-cbbe67b2830f",
   "metadata": {},
   "outputs": [
    {
     "data": {
      "text/plain": [
       "PosixPath('experiments/data_fba836ee1bdf4fda32004145ffe1eeb8d3c6b5f1/annotations_spacy_SM/spacy_sm_TOT_10387_docs_TRSIZE_8137_RS1_precomp_cased')"
      ]
     },
     "execution_count": 27,
     "metadata": {},
     "output_type": "execute_result"
    }
   ],
   "source": [
    "RUN_PATH = ANNOT_PATH/f'spacy_{model_type}_{split_info}_{REGEX_CASE}'\n",
    "RUN_PATH"
   ]
  },
  {
   "cell_type": "code",
   "execution_count": 28,
   "id": "58c1a3f2-c1b4-4404-bfd5-4ad14cf62778",
   "metadata": {},
   "outputs": [],
   "source": [
    "SPACY_DATA_PATH = RUN_PATH/'spacy_data'\n",
    "SPACY_TRAIN_PATH = RUN_PATH/'spacy_model'"
   ]
  },
  {
   "cell_type": "code",
   "execution_count": 29,
   "id": "9921255e-e4aa-4682-b321-56c6b0d6d5b7",
   "metadata": {},
   "outputs": [
    {
     "data": {
      "text/plain": [
       "PosixPath('experiments/data_fba836ee1bdf4fda32004145ffe1eeb8d3c6b5f1/annotations_spacy_SM/spacy_sm_TOT_10387_docs_TRSIZE_8137_RS1_precomp_cased/spacy_model')"
      ]
     },
     "execution_count": 29,
     "metadata": {},
     "output_type": "execute_result"
    }
   ],
   "source": [
    "SPACY_TRAIN_PATH.mkdir(parents=True, exist_ok=True)\n",
    "SPACY_TRAIN_PATH"
   ]
  },
  {
   "cell_type": "code",
   "execution_count": 30,
   "id": "5ca27a4e-3cbe-4cf0-af51-dc0ae4bbbc05",
   "metadata": {},
   "outputs": [],
   "source": [
    "SPACY_CONFIG_FILE = SPACY_TRAIN_PATH/f'config_{model_type}.cfg'"
   ]
  },
  {
   "cell_type": "code",
   "execution_count": 31,
   "id": "f960a931-fc01-468b-8b49-9fa71bda369f",
   "metadata": {},
   "outputs": [],
   "source": [
    "def create_config(model_name: str, component_to_update: str, output_path: Path, disable=None,\n",
    "                 batch_size=1500, max_epochs=5, patience=1000, eval_freq=200):\n",
    "    # https://github.com/explosion/projects/tree/v3/pipelines/ner_demo_update\n",
    "    \n",
    "    if disable is None: \n",
    "        disable = []\n",
    "    \n",
    "    nlp = spacy.load(model_name, disable=disable)\n",
    "\n",
    "    # create a new config as a copy of the loaded pipeline's config\n",
    "    config = nlp.config.copy()\n",
    "\n",
    "    # revert most training settings to the current defaults\n",
    "    default_config = spacy.blank(nlp.lang).config\n",
    "    config[\"corpora\"] = default_config[\"corpora\"]\n",
    "    config[\"training\"][\"logger\"] = default_config[\"training\"][\"logger\"]\n",
    "\n",
    "    # copy tokenizer and vocab settings from the base model, which includes\n",
    "    # lookups (lexeme_norm) and vectors, so they don't need to be copied or\n",
    "    # initialized separately\n",
    "    config[\"initialize\"][\"before_init\"] = {\n",
    "        \"@callbacks\": \"spacy.copy_from_base_model.v1\",\n",
    "        \"tokenizer\": model_name,\n",
    "        \"vocab\": model_name,\n",
    "    }\n",
    "    config[\"initialize\"][\"lookups\"] = None\n",
    "    config[\"initialize\"][\"vectors\"] = None\n",
    "\n",
    "    \n",
    "    config[\"nlp\"][\"batch_size\"] = batch_size\n",
    "    config[\"training\"][\"max_epochs\"] = max_epochs\n",
    "    config[\"training\"][\"patience\"] = patience\n",
    "    config[\"training\"][\"eval_frequency\"] = eval_freq\n",
    "    \n",
    "    # source all components from the loaded pipeline and freeze all except the\n",
    "    # component to update; replace the listener for the component that is\n",
    "    # being updated so that it can be updated independently\n",
    "    config[\"training\"][\"frozen_components\"] = []\n",
    "    for pipe_name in nlp.component_names:\n",
    "        if pipe_name != component_to_update:\n",
    "            config[\"components\"][pipe_name] = {\"source\": model_name}\n",
    "            config[\"training\"][\"frozen_components\"].append(pipe_name)\n",
    "        else:\n",
    "            config[\"components\"][pipe_name] = {\n",
    "                \"source\": model_name,\n",
    "                \"replace_listeners\": [\"model.tok2vec\"],\n",
    "            }\n",
    "    disable_flag= '' if disable is None else f'_DISABLE_{\"_\".join(disable)}'\n",
    "    output_path = Path(output_path.as_posix().replace('.cfg',f'_bs{batch_size}_me{max_epochs}_p{patience}{disable_flag}.cfg'))        \n",
    "    # save the config\n",
    "    config.to_disk(output_path)\n",
    "    return output_path, nlp"
   ]
  },
  {
   "cell_type": "code",
   "execution_count": 32,
   "id": "431c5652-f676-437f-bce0-af67a8da46f6",
   "metadata": {},
   "outputs": [
    {
     "data": {
      "text/plain": [
       "PosixPath('experiments/data_fba836ee1bdf4fda32004145ffe1eeb8d3c6b5f1/annotations_spacy_SM/spacy_sm_TOT_10387_docs_TRSIZE_8137_RS1_precomp_cased/spacy_model/config_sm_bs1000_me5_p1000_DISABLE_parser_tagger_lemmatizer.cfg')"
      ]
     },
     "execution_count": 32,
     "metadata": {},
     "output_type": "execute_result"
    }
   ],
   "source": [
    "CONFIG, model = create_config(\n",
    "    model_name=SPACY_MODEL_TYPES[model_type], \n",
    "    component_to_update='ner', \n",
    "    disable=['parser','tagger','lemmatizer'],\n",
    "    batch_size = 1000,\n",
    "    eval_freq = 500,\n",
    "    output_path=SPACY_CONFIG_FILE\n",
    ")\n",
    "\n",
    "CONFIG"
   ]
  },
  {
   "cell_type": "code",
   "execution_count": 33,
   "id": "6b3ba885-cc09-4258-bc13-4787aa37551b",
   "metadata": {},
   "outputs": [
    {
     "data": {
      "text/plain": [
       "['tok2vec', 'senter', 'attribute_ruler', 'ner']"
      ]
     },
     "execution_count": 33,
     "metadata": {},
     "output_type": "execute_result"
    }
   ],
   "source": [
    "model.pipe_names"
   ]
  },
  {
   "cell_type": "markdown",
   "id": "addf05d7-a3e4-4822-adbb-c5f1129ff563",
   "metadata": {},
   "source": [
    "### Write the train/test data to disk"
   ]
  },
  {
   "cell_type": "code",
   "execution_count": 34,
   "id": "2bf82232-63d0-4854-8201-8947fe74073e",
   "metadata": {},
   "outputs": [],
   "source": [
    "def build_spacy_ner_data(DATA, nlp=None, path=None, filename=None):\n",
    "    ''' \n",
    "    Convert the annotated data into new DocBin spaCy format and save to disk\n",
    "    https://stackoverflow.com/questions/67407433/using-spacy-3-0-to-convert-data-from-old-spacy-v2-format-to-the-brand-new-spacy\n",
    "    '''\n",
    "    assert isinstance(path, Path)\n",
    "    \n",
    "    if path is None:\n",
    "        print('You must supply a path!')\n",
    "        return \n",
    "\n",
    "    if filename is None:\n",
    "        print('You must supply a filename!')\n",
    "        return \n",
    "    \n",
    "    filename = filename+f'_size_{len(DATA)}.spacy'\n",
    "    \n",
    "    path.mkdir(parents=True, exist_ok=True)\n",
    "    \n",
    "    # check whether the file already exists\n",
    "    if (path/filename).exists():\n",
    "        print('Data file already exists... Skipping.')\n",
    "        return path/filename\n",
    "    \n",
    "    \n",
    "    db = DocBin() # create a DocBin object\n",
    "\n",
    "    for text, annot, _ in tqdm_notebook(DATA): # data in old spacy format\n",
    "        doc = nlp.make_doc(text) # create doc object from text\n",
    "        ents = []\n",
    "        for start, end, label in annot[\"entities\"]: # add character indexes\n",
    "            span = doc.char_span(start, end, label=label, alignment_mode=\"contract\")\n",
    "            if span is None:\n",
    "                pass\n",
    "            else:\n",
    "                ents.append(span)\n",
    "        doc.ents = filter_spans(ents) # label the text with the ents\n",
    "        db.add(doc)\n",
    "    \n",
    "\n",
    "    db.to_disk(path/filename) # save the docbin object\n",
    "    print(f\"Saved data to {path/filename}\")\n",
    "    \n",
    "    return path/filename"
   ]
  },
  {
   "cell_type": "code",
   "execution_count": 35,
   "id": "9431cdf0-0a69-402c-87eb-faba49217b93",
   "metadata": {},
   "outputs": [
    {
     "data": {
      "application/vnd.jupyter.widget-view+json": {
       "model_id": "2c021b7907f2486cb387803185079e93",
       "version_major": 2,
       "version_minor": 0
      },
      "text/plain": [
       "  0%|          | 0/8137 [00:00<?, ?it/s]"
      ]
     },
     "metadata": {},
     "output_type": "display_data"
    },
    {
     "name": "stdout",
     "output_type": "stream",
     "text": [
      "Saved data to experiments/data_fba836ee1bdf4fda32004145ffe1eeb8d3c6b5f1/annotations_spacy_SM/spacy_sm_TOT_10387_docs_TRSIZE_8137_RS1_precomp_cased/spacy_data/train_annot_TOT_10387_docs_TRSIZE_8137_RS1_precomp_size_8137.spacy\n"
     ]
    },
    {
     "data": {
      "application/vnd.jupyter.widget-view+json": {
       "model_id": "666356b9d85f4a0885345f81060fff2d",
       "version_major": 2,
       "version_minor": 0
      },
      "text/plain": [
       "  0%|          | 0/2250 [00:00<?, ?it/s]"
      ]
     },
     "metadata": {},
     "output_type": "display_data"
    },
    {
     "name": "stdout",
     "output_type": "stream",
     "text": [
      "Saved data to experiments/data_fba836ee1bdf4fda32004145ffe1eeb8d3c6b5f1/annotations_spacy_SM/spacy_sm_TOT_10387_docs_TRSIZE_8137_RS1_precomp_cased/spacy_data/test_annot_TOT_10387_docs_TRSIZE_8137_RS1_precomp_size_2250.spacy\n"
     ]
    }
   ],
   "source": [
    "training_file = build_spacy_ner_data(TRAIN_DATA, model, path=SPACY_DATA_PATH, filename=f'train_annot_{split_info}')\n",
    "testing_file  = build_spacy_ner_data(TEST_DATA,  model, path=SPACY_DATA_PATH, filename=f'test_annot_{split_info}')"
   ]
  },
  {
   "cell_type": "raw",
   "id": "248014bb-d178-46b9-bc75-e4e6bf1fcb71",
   "metadata": {},
   "source": [
    "MANUAL_CONFIG_FILE = Path(SPACY_CONFIG_FILE.as_posix().replace('config','manual_config'))\n",
    "MANUAL_CONFIG_FILE"
   ]
  },
  {
   "cell_type": "raw",
   "id": "8c692556-f332-40c5-b18b-6c08932d8e35",
   "metadata": {},
   "source": [
    "!python -m spacy init fill-config base_config_{model_type}.cfg {MANUAL_CONFIG_FILE}"
   ]
  },
  {
   "cell_type": "code",
   "execution_count": 36,
   "id": "1a51fcf1-231b-4bd8-beb2-d40503dc2c89",
   "metadata": {},
   "outputs": [
    {
     "data": {
      "text/plain": [
       "PosixPath('experiments/data_fba836ee1bdf4fda32004145ffe1eeb8d3c6b5f1/annotations_spacy_SM/spacy_sm_TOT_10387_docs_TRSIZE_8137_RS1_precomp_cased/spacy_model/output_config_sm_bs1000_me5_p1000_DISABLE_parser_tagger_lemmatizer')"
      ]
     },
     "execution_count": 36,
     "metadata": {},
     "output_type": "execute_result"
    }
   ],
   "source": [
    "# CONFIG = MANUAL_CONFIG_FILE\n",
    "\n",
    "OUTPUT = SPACY_TRAIN_PATH/f\"output_{CONFIG.stem}\"\n",
    "OUTPUT "
   ]
  },
  {
   "cell_type": "code",
   "execution_count": 37,
   "id": "7e123c99-a5bc-4d53-a247-37df1befeefd",
   "metadata": {},
   "outputs": [
    {
     "name": "stdout",
     "output_type": "stream",
     "text": [
      "\u001b[38;5;2m✔ Created output directory:\n",
      "experiments/data_fba836ee1bdf4fda32004145ffe1eeb8d3c6b5f1/annotations_spacy_SM/spacy_sm_TOT_10387_docs_TRSIZE_8137_RS1_precomp_cased/spacy_model/output_config_sm_bs1000_me5_p1000_DISABLE_parser_tagger_lemmatizer\u001b[0m\n",
      "\u001b[38;5;4mℹ Saving to output directory:\n",
      "experiments/data_fba836ee1bdf4fda32004145ffe1eeb8d3c6b5f1/annotations_spacy_SM/spacy_sm_TOT_10387_docs_TRSIZE_8137_RS1_precomp_cased/spacy_model/output_config_sm_bs1000_me5_p1000_DISABLE_parser_tagger_lemmatizer\u001b[0m\n",
      "\u001b[38;5;4mℹ Using CPU\u001b[0m\n",
      "\u001b[1m\n",
      "=========================== Initializing pipeline ===========================\u001b[0m\n",
      "[2022-11-12 11:06:06,479] [INFO] Set up nlp object from config\n",
      "[2022-11-12 11:06:06,491] [INFO] Pipeline: ['tok2vec', 'senter', 'attribute_ruler', 'ner']\n",
      "[2022-11-12 11:06:06,491] [INFO] Resuming training for: ['ner']\n",
      "[2022-11-12 11:06:06,501] [INFO] Copying tokenizer from: en_core_web_sm\n",
      "[2022-11-12 11:06:07,050] [INFO] Copying vocab from: en_core_web_sm\n",
      "[2022-11-12 11:06:07,156] [INFO] Created vocabulary\n",
      "[2022-11-12 11:06:07,158] [INFO] Finished initializing nlp object\n",
      "[2022-11-12 11:06:07,158] [INFO] Initialized pipeline components: []\n",
      "\u001b[38;5;2m✔ Initialized pipeline\u001b[0m\n",
      "\u001b[1m\n",
      "============================= Training pipeline =============================\u001b[0m\n",
      "\u001b[38;5;4mℹ Pipeline: ['tok2vec', 'senter', 'attribute_ruler', 'ner']\u001b[0m\n",
      "\u001b[38;5;4mℹ Frozen components: ['tok2vec', 'tagger', 'parser', 'senter',\n",
      "'attribute_ruler', 'lemmatizer']\u001b[0m\n",
      "\u001b[38;5;4mℹ Initial learn rate: 0.001\u001b[0m\n",
      "E    #       LOSS NER  TAG_ACC  DEP_UAS  DEP_LAS  SENTS_F  LEMMA_ACC  ENTS_F  ENTS_P  ENTS_R  SPEED   SCORE \n",
      "---  ------  --------  -------  -------  -------  -------  ---------  ------  ------  ------  ------  ------\n",
      "  0       0     13.21     0.00     0.00     0.00     0.00       0.00   41.98   46.92   37.98  19433.68    0.07\n",
      "  0     500   6824.09     0.00     0.00     0.00     0.00       0.00   70.15   73.05   67.47  20631.03    0.11\n",
      "  0    1000   4121.82     0.00     0.00     0.00     0.00       0.00   75.24   77.73   72.90  20521.24    0.12\n",
      "  0    1500   3505.63     0.00     0.00     0.00     0.00       0.00   78.29   79.18   77.41  20148.17    0.13\n",
      "  0    2000   3387.77     0.00     0.00     0.00     0.00       0.00   79.62   80.40   78.85  20948.83    0.13\n",
      "  0    2500   3431.94     0.00     0.00     0.00     0.00       0.00   80.84   81.63   80.06  21012.58    0.13\n",
      "  0    3000   3212.35     0.00     0.00     0.00     0.00       0.00   81.97   83.06   80.91  20884.21    0.13\n",
      "  0    3500   3354.31     0.00     0.00     0.00     0.00       0.00   82.17   83.61   80.78  20974.85    0.13\n",
      "  0    4000   2855.25     0.00     0.00     0.00     0.00       0.00   82.74   84.47   81.07  20870.60    0.13\n",
      "  0    4500   2650.79     0.00     0.00     0.00     0.00       0.00   83.35   84.44   82.29  20874.27    0.13\n",
      "  0    5000   2755.42     0.00     0.00     0.00     0.00       0.00   83.65   85.00   82.34  20910.00    0.13\n",
      "  0    5500   2693.33     0.00     0.00     0.00     0.00       0.00   83.79   85.25   82.37  20892.66    0.13\n",
      "  0    6000   2894.39     0.00     0.00     0.00     0.00       0.00   84.13   85.42   82.87  20951.89    0.13\n",
      "  0    6500   2668.28     0.00     0.00     0.00     0.00       0.00   84.59   85.64   83.57  20948.08    0.14\n",
      "  0    7000   3497.84     0.00     0.00     0.00     0.00       0.00   84.94   86.07   83.83  20855.52    0.14\n",
      "  1    7500   4896.39     0.00     0.00     0.00     0.00       0.00   85.38   86.28   84.49  20875.95    0.14\n",
      "  1    8000   4424.66     0.00     0.00     0.00     0.00       0.00   85.93   86.73   85.15  20951.65    0.14\n",
      "  1    8500   4497.00     0.00     0.00     0.00     0.00       0.00   86.17   86.78   85.58  20945.81    0.14\n",
      "  1    9000   4435.97     0.00     0.00     0.00     0.00       0.00   86.46   87.07   85.86  20980.43    0.14\n",
      "  1    9500   4526.46     0.00     0.00     0.00     0.00       0.00   86.74   87.37   86.12  20608.36    0.14\n",
      "  1   10000   4044.53     0.00     0.00     0.00     0.00       0.00   86.89   87.51   86.28  20620.54    0.14\n",
      "  1   10500   4385.00     0.00     0.00     0.00     0.00       0.00   86.95   87.52   86.39  20730.43    0.14\n",
      "  2   11000   3466.79     0.00     0.00     0.00     0.00       0.00   86.97   87.48   86.47  20822.57    0.14\n",
      "  2   11500   3700.75     0.00     0.00     0.00     0.00       0.00   87.25   87.68   86.81  20833.95    0.14\n",
      "  2   12000   3631.67     0.00     0.00     0.00     0.00       0.00   87.31   87.73   86.89  20919.67    0.14\n",
      "  2   12500   3410.67     0.00     0.00     0.00     0.00       0.00   87.29   87.69   86.90  20964.00    0.14\n",
      "  2   13000   3738.41     0.00     0.00     0.00     0.00       0.00   87.54   87.88   87.21  20793.18    0.14\n",
      "  2   13500   3704.96     0.00     0.00     0.00     0.00       0.00   87.54   87.73   87.34  20827.96    0.14\n",
      "  3   14000   3200.99     0.00     0.00     0.00     0.00       0.00   87.55   87.77   87.33  20928.80    0.14\n",
      "  3   14500   3127.63     0.00     0.00     0.00     0.00       0.00   87.48   87.68   87.29  20894.33    0.14\n",
      "  3   15000   3350.76     0.00     0.00     0.00     0.00       0.00   87.44   87.52   87.36  20882.18    0.14\n",
      "\u001b[38;5;2m✔ Saved pipeline to output directory\u001b[0m\n",
      "experiments/data_fba836ee1bdf4fda32004145ffe1eeb8d3c6b5f1/annotations_spacy_SM/spacy_sm_TOT_10387_docs_TRSIZE_8137_RS1_precomp_cased/spacy_model/output_config_sm_bs1000_me5_p1000_DISABLE_parser_tagger_lemmatizer/model-last\n",
      "CPU times: user 20.2 s, sys: 6.16 s, total: 26.3 s\n",
      "Wall time: 50min 44s\n"
     ]
    }
   ],
   "source": [
    "%%time \n",
    "!python -m spacy train {CONFIG} --output {OUTPUT} --paths.train  ./{training_file.as_posix()} --paths.dev ./{testing_file.as_posix()}"
   ]
  },
  {
   "cell_type": "code",
   "execution_count": 38,
   "id": "708fb82b-b7b1-4bb0-a15c-b4c52a4914a1",
   "metadata": {},
   "outputs": [
    {
     "data": {
      "text/plain": [
       "[PosixPath('experiments/data_fba836ee1bdf4fda32004145ffe1eeb8d3c6b5f1/annotations_spacy_SM/spacy_sm_TOT_10387_docs_TRSIZE_8137_RS1_precomp_cased/spacy_model/output_config_sm_bs1000_me5_p1000_DISABLE_parser_tagger_lemmatizer/model-last'),\n",
       " PosixPath('experiments/data_fba836ee1bdf4fda32004145ffe1eeb8d3c6b5f1/annotations_spacy_SM/spacy_sm_TOT_10387_docs_TRSIZE_8137_RS1_precomp_cased/spacy_model/output_config_sm_bs1000_me5_p1000_DISABLE_parser_tagger_lemmatizer/model-best')]"
      ]
     },
     "execution_count": 38,
     "metadata": {},
     "output_type": "execute_result"
    }
   ],
   "source": [
    "list(OUTPUT.glob('*'))"
   ]
  },
  {
   "cell_type": "code",
   "execution_count": 39,
   "id": "bc0d5882-5c39-4a1b-bb3d-7813fff31315",
   "metadata": {},
   "outputs": [
    {
     "data": {
      "text/plain": [
       "PosixPath('experiments/data_fba836ee1bdf4fda32004145ffe1eeb8d3c6b5f1/annotations_spacy_SM/spacy_sm_TOT_10387_docs_TRSIZE_8137_RS1_precomp_cased/spacy_data/train_annot_TOT_10387_docs_TRSIZE_8137_RS1_precomp_size_8137.spacy')"
      ]
     },
     "execution_count": 39,
     "metadata": {},
     "output_type": "execute_result"
    }
   ],
   "source": [
    "training_file"
   ]
  },
  {
   "cell_type": "code",
   "execution_count": 40,
   "id": "29729b06-f759-41f5-affa-6d6024ac250f",
   "metadata": {},
   "outputs": [],
   "source": [
    "MODEL = OUTPUT/'model-best'"
   ]
  },
  {
   "cell_type": "code",
   "execution_count": 41,
   "id": "db0b2d96-dc71-49be-95ec-65333cc4080b",
   "metadata": {},
   "outputs": [],
   "source": [
    "ner_model = spacy.load(MODEL) "
   ]
  },
  {
   "cell_type": "code",
   "execution_count": 42,
   "id": "9b07168e-9d2b-4f85-8618-d268d7c94919",
   "metadata": {},
   "outputs": [
    {
     "name": "stdout",
     "output_type": "stream",
     "text": [
      "\u001b[38;5;4mℹ Using CPU\u001b[0m\n",
      "\u001b[1m\n",
      "================================== Results ==================================\u001b[0m\n",
      "\n",
      "TOK      100.00\n",
      "TAG      -     \n",
      "POS      -     \n",
      "MORPH    -     \n",
      "LEMMA    -     \n",
      "NER P    96.03 \n",
      "NER R    96.31 \n",
      "NER F    96.17 \n",
      "SENT P   -     \n",
      "SENT R   -     \n",
      "SENT F   -     \n",
      "SPEED    20006 \n",
      "\n",
      "\u001b[1m\n",
      "=============================== NER (per type) ===============================\u001b[0m\n",
      "\n",
      "               P       R       F\n",
      "EMPLOYER   99.18   99.26   99.22\n",
      "GPE        96.78   97.14   96.96\n",
      "OCCUP      97.16   97.57   97.37\n",
      "ORG        94.17   94.43   94.30\n",
      "\n",
      "\u001b[38;5;4mℹ Using CPU\u001b[0m\n",
      "\u001b[1m\n",
      "================================== Results ==================================\u001b[0m\n",
      "\n",
      "TOK      100.00\n",
      "TAG      -     \n",
      "POS      -     \n",
      "MORPH    -     \n",
      "LEMMA    -     \n",
      "NER P    87.77 \n",
      "NER R    87.33 \n",
      "NER F    87.55 \n",
      "SENT P   -     \n",
      "SENT R   -     \n",
      "SENT F   -     \n",
      "SPEED    20390 \n",
      "\n",
      "\u001b[1m\n",
      "=============================== NER (per type) ===============================\u001b[0m\n",
      "\n",
      "               P       R       F\n",
      "OCCUP      93.64   92.49   93.06\n",
      "EMPLOYER   97.41   94.83   96.10\n",
      "ORG        81.05   81.54   81.29\n",
      "GPE        89.24   88.72   88.98\n",
      "\n"
     ]
    }
   ],
   "source": [
    "!python -m spacy evaluate {MODEL} ./{training_file}\n",
    "!python -m spacy evaluate {MODEL} ./{testing_file}"
   ]
  },
  {
   "cell_type": "markdown",
   "id": "bd596f6c-1e5c-4106-91d2-f2f849f72eae",
   "metadata": {},
   "source": [
    "---\n",
    "### Checking the trained model"
   ]
  },
  {
   "cell_type": "code",
   "execution_count": 43,
   "id": "67cd6f04-1cce-43d9-a119-2a82bdd08a85",
   "metadata": {},
   "outputs": [],
   "source": [
    "colors = {\n",
    "    \"EMPLOYER\": \"#DB81E2\", \n",
    "    \"OCCUP\": \"#AEE8EC\", \n",
    "    \"GPE\": \"#ECE3AE\", \n",
    "    \"ORG\": \"#ECBEAE\", \n",
    "    # \"PERSON\":\"#17B4C2\", \n",
    "    # \"OCCUP\": \"#9017C2\", \n",
    "    # \"OCCUP\": \"#878787\", \n",
    "    # \"OCCUP\": \"#0A6DF5\", \n",
    "    # \"OCCUP\": \"#1F541D\"\n",
    "}\n",
    "options = {\"ents\": [\"EMPLOYER\", \"OCCUP\", \"GPE\"], \"colors\":colors}"
   ]
  },
  {
   "cell_type": "code",
   "execution_count": 44,
   "id": "f485ce3a-932f-480a-956d-d3e46c45f765",
   "metadata": {},
   "outputs": [
    {
     "data": {
      "text/html": [
       "<h3>Default model:</h3>"
      ],
      "text/plain": [
       "<IPython.core.display.HTML object>"
      ]
     },
     "metadata": {},
     "output_type": "display_data"
    },
    {
     "data": {
      "text/html": [
       "<span class=\"tex2jax_ignore\"><div class=\"entities\" style=\"line-height: 2.5; direction: ltr\">Job Title: Process Development Engineer Salary: to per hour depending on experience Contract: 12 Month Industry: Medical Location: Oxford A great opportunity has arisen for a Contract Process Development Engineer to join a specialist medical device development company. The Process Development Engineer will be involved in the specification &amp; introduction of new processes &amp; equipment, working within the Operations team. The Process Development Engineer will need to have experience within Medical Device or Pharmaceutical processes planning, managing &amp; executing new processes &amp; process improvements projects. The appointed Process Development Engineer will need to carry out the following key duties/responsibilities: Design &amp; Development ? Transferring products from development to production, in conjunction with the Development Team ? Procurement of development materials, specifying standards on materials ? Development of production tooling &amp; equipment ? Design &amp; build of initial prototypes ? Implementation of new process &amp; equipment ? Optimisation &amp; validation of Production Processes ? Process FMEA's Purchasing ? Resolving problems within manufacturing ? Writing &amp; updating of work instructions ? Control of production documentation ? Maintenance &amp; calibration of production tooling &amp; instruments ? Change note implementation ? Training of new production staff Maintenance &amp; training records for the production staff ? Identifying new technology for product &amp; process efficiency ? Fault finding &amp; rectification of equipment ? Zero production stoppages ? Technical support to subcontractors ? Management of Portable Appliance Testing Quality ? Acceptance &amp; rejection of raw materials, subassemblies &amp; final assemblies ? Control of changes to production processes including concession control ? Comply with ISO 13485 regulations Health &amp; Safety ? Reviewing overall health &amp; safety of all activities with which you are involved ? Carry out risk assessment for production equipment &amp; tooling ? The selected Process Development Engineer will need to possess the following attributes for the role: ? Practical experience &amp; a good working knowledge of process development in a medical/pharmaceutical device environment ? ISO9001: &amp; GMP ? HNC/Degree in Production/Process Engineering ? Knowledge of Continuous Improvement techniquesOrion Electrotech Ltd acts as both an Employment Business and Employment Agency and complies with the Conduct of Employment Agencies and Employment Businesses Regulations Act Visa Required: Applicants must be eligible to work in the specified location</div></span>"
      ],
      "text/plain": [
       "<IPython.core.display.HTML object>"
      ]
     },
     "metadata": {},
     "output_type": "display_data"
    },
    {
     "data": {
      "text/html": [
       "<h3>Machine learning model:</h3>"
      ],
      "text/plain": [
       "<IPython.core.display.HTML object>"
      ]
     },
     "metadata": {},
     "output_type": "display_data"
    },
    {
     "data": {
      "text/html": [
       "<span class=\"tex2jax_ignore\"><div class=\"entities\" style=\"line-height: 2.5; direction: ltr\">Job Title: \n",
       "<mark class=\"entity\" style=\"background: #AEE8EC; padding: 0.45em 0.6em; margin: 0 0.25em; line-height: 1; border-radius: 0.35em;\">\n",
       "    Process Development Engineer\n",
       "    <span style=\"font-size: 0.8em; font-weight: bold; line-height: 1; border-radius: 0.35em; vertical-align: middle; margin-left: 0.5rem\">OCCUP</span>\n",
       "</mark>\n",
       " Salary: to per hour depending on experience Contract: 12 Month Industry: Medical Location: Oxford A great opportunity has arisen for a Contract \n",
       "<mark class=\"entity\" style=\"background: #AEE8EC; padding: 0.45em 0.6em; margin: 0 0.25em; line-height: 1; border-radius: 0.35em;\">\n",
       "    Process Development Engineer\n",
       "    <span style=\"font-size: 0.8em; font-weight: bold; line-height: 1; border-radius: 0.35em; vertical-align: middle; margin-left: 0.5rem\">OCCUP</span>\n",
       "</mark>\n",
       " to join a specialist medical device development company. The \n",
       "<mark class=\"entity\" style=\"background: #AEE8EC; padding: 0.45em 0.6em; margin: 0 0.25em; line-height: 1; border-radius: 0.35em;\">\n",
       "    Process Development Engineer\n",
       "    <span style=\"font-size: 0.8em; font-weight: bold; line-height: 1; border-radius: 0.35em; vertical-align: middle; margin-left: 0.5rem\">OCCUP</span>\n",
       "</mark>\n",
       " will be involved in the specification &amp; introduction of new processes &amp; equipment, working within the Operations team. The \n",
       "<mark class=\"entity\" style=\"background: #AEE8EC; padding: 0.45em 0.6em; margin: 0 0.25em; line-height: 1; border-radius: 0.35em;\">\n",
       "    Process Development Engineer\n",
       "    <span style=\"font-size: 0.8em; font-weight: bold; line-height: 1; border-radius: 0.35em; vertical-align: middle; margin-left: 0.5rem\">OCCUP</span>\n",
       "</mark>\n",
       " will need to have experience within Medical Device or Pharmaceutical processes planning, managing &amp; executing new processes &amp; process improvements projects. The appointed \n",
       "<mark class=\"entity\" style=\"background: #AEE8EC; padding: 0.45em 0.6em; margin: 0 0.25em; line-height: 1; border-radius: 0.35em;\">\n",
       "    Process Development Engineer\n",
       "    <span style=\"font-size: 0.8em; font-weight: bold; line-height: 1; border-radius: 0.35em; vertical-align: middle; margin-left: 0.5rem\">OCCUP</span>\n",
       "</mark>\n",
       " will need to carry out the following key duties/responsibilities: Design &amp; Development ? Transferring products from development to production, in conjunction with the Development Team ? Procurement of development materials, specifying standards on materials ? Development of production tooling &amp; equipment ? Design &amp; build of initial prototypes ? Implementation of new process &amp; equipment ? Optimisation &amp; validation of Production Processes ? Process FMEA's Purchasing ? Resolving problems within manufacturing ? Writing &amp; updating of work instructions ? Control of production documentation ? Maintenance &amp; calibration of production tooling &amp; instruments ? Change note implementation ? Training of new production staff Maintenance &amp; training records for the production staff ? Identifying new technology for product &amp; process efficiency ? Fault finding &amp; rectification of equipment ? Zero production stoppages ? Technical support to subcontractors ? Management of Portable Appliance Testing Quality ? Acceptance &amp; rejection of raw materials, subassemblies &amp; final assemblies ? Control of changes to production processes including concession control ? Comply with ISO 13485 regulations Health &amp; Safety ? Reviewing overall health &amp; safety of all activities with which you are involved ? Carry out risk assessment for production equipment &amp; tooling ? The selected \n",
       "<mark class=\"entity\" style=\"background: #AEE8EC; padding: 0.45em 0.6em; margin: 0 0.25em; line-height: 1; border-radius: 0.35em;\">\n",
       "    Process Development Engineer\n",
       "    <span style=\"font-size: 0.8em; font-weight: bold; line-height: 1; border-radius: 0.35em; vertical-align: middle; margin-left: 0.5rem\">OCCUP</span>\n",
       "</mark>\n",
       " will need to possess the following attributes for the role: ? Practical experience &amp; a good working knowledge of process development in a medical/pharmaceutical device environment ? ISO9001: &amp; GMP ? HNC/Degree in Production/Process Engineering ? Knowledge of Continuous Improvement techniquesOrion Electrotech Ltd acts as both an Employment Business and Employment Agency and complies with the Conduct of Employment Agencies and Employment Businesses Regulations Act Visa Required: Applicants must be eligible to work in the specified location</div></span>"
      ],
      "text/plain": [
       "<IPython.core.display.HTML object>"
      ]
     },
     "metadata": {},
     "output_type": "display_data"
    },
    {
     "name": "stdout",
     "output_type": "stream",
     "text": [
      "\n",
      "\n",
      "\n"
     ]
    },
    {
     "data": {
      "text/html": [
       "<h3>Default model:</h3>"
      ],
      "text/plain": [
       "<IPython.core.display.HTML object>"
      ]
     },
     "metadata": {},
     "output_type": "display_data"
    },
    {
     "data": {
      "text/html": [
       "<span class=\"tex2jax_ignore\"><div class=\"entities\" style=\"line-height: 2.5; direction: ltr\">MCS Group is working alongside one of the global leaders in manufacturing for the transportation industry, and is seeking to grow their team as a result of new business. The company is present in more than 60 countries with over employees alone on its County Down Site, where last year the revenue exceeded billion. They are currently looking for a Supplier Quality Assurance Engineer with experience in a quality, engineering role. The Role The Tooling Engineer will design composite tooling for manufacture and will be directly responsible for the design and management of all tooling activities, as well as providing support to the Integrated Product team. You will manage tooling projects by advising on vendor selection, budgetary control and acceptance and commissioning. The Person Our client is looking for a Tooling Engineer with a strong work ethic and the ability to learn new processes quickly. In particular we are seeking: Experience in tooling engineer role Background in D and 3D Modelling Experience in composite production techniques and processes Benefits Pension Scheme 20 Days Annual Leave (plus public holidays) Site Bonus Scheme Westfield Healthcare Life Insurance To speak in absolute confidence about this opportunity please contact Rachel Auld, Senior Consultant at MCS Group on or send an up to date CV via the link provided. MCS Group is a specialist consultancy focusing on Technical, Engineering IT careers. If this position is not right for you, we may have others that are. Please visit .mcsgroup.jobs to view a wide selection of our current jobs. Also, please feel free to join our Facebook page or you can follow us on Twitter MCSGroup for updates on the latest jobs and market information.</div></span>"
      ],
      "text/plain": [
       "<IPython.core.display.HTML object>"
      ]
     },
     "metadata": {},
     "output_type": "display_data"
    },
    {
     "data": {
      "text/html": [
       "<h3>Machine learning model:</h3>"
      ],
      "text/plain": [
       "<IPython.core.display.HTML object>"
      ]
     },
     "metadata": {},
     "output_type": "display_data"
    },
    {
     "data": {
      "text/html": [
       "<span class=\"tex2jax_ignore\"><div class=\"entities\" style=\"line-height: 2.5; direction: ltr\">\n",
       "<mark class=\"entity\" style=\"background: #DB81E2; padding: 0.45em 0.6em; margin: 0 0.25em; line-height: 1; border-radius: 0.35em;\">\n",
       "    MCS Group\n",
       "    <span style=\"font-size: 0.8em; font-weight: bold; line-height: 1; border-radius: 0.35em; vertical-align: middle; margin-left: 0.5rem\">EMPLOYER</span>\n",
       "</mark>\n",
       " is working alongside one of the global leaders in manufacturing for the transportation industry, and is seeking to grow their team as a result of new business. The company is present in more than 60 countries with over employees alone on its County Down Site, where last year the revenue exceeded billion. They are currently looking for a \n",
       "<mark class=\"entity\" style=\"background: #AEE8EC; padding: 0.45em 0.6em; margin: 0 0.25em; line-height: 1; border-radius: 0.35em;\">\n",
       "    Supplier Quality Assurance\n",
       "    <span style=\"font-size: 0.8em; font-weight: bold; line-height: 1; border-radius: 0.35em; vertical-align: middle; margin-left: 0.5rem\">OCCUP</span>\n",
       "</mark>\n",
       " \n",
       "<mark class=\"entity\" style=\"background: #AEE8EC; padding: 0.45em 0.6em; margin: 0 0.25em; line-height: 1; border-radius: 0.35em;\">\n",
       "    Engineer\n",
       "    <span style=\"font-size: 0.8em; font-weight: bold; line-height: 1; border-radius: 0.35em; vertical-align: middle; margin-left: 0.5rem\">OCCUP</span>\n",
       "</mark>\n",
       " with experience in a quality, engineering role. The Role The \n",
       "<mark class=\"entity\" style=\"background: #AEE8EC; padding: 0.45em 0.6em; margin: 0 0.25em; line-height: 1; border-radius: 0.35em;\">\n",
       "    Tooling Engineer\n",
       "    <span style=\"font-size: 0.8em; font-weight: bold; line-height: 1; border-radius: 0.35em; vertical-align: middle; margin-left: 0.5rem\">OCCUP</span>\n",
       "</mark>\n",
       " will design composite tooling for manufacture and will be directly responsible for the design and management of all tooling activities, as well as providing support to the Integrated Product team. You will manage tooling projects by advising on vendor selection, budgetary control and acceptance and commissioning. The Person Our client is looking for a \n",
       "<mark class=\"entity\" style=\"background: #AEE8EC; padding: 0.45em 0.6em; margin: 0 0.25em; line-height: 1; border-radius: 0.35em;\">\n",
       "    Tooling Engineer\n",
       "    <span style=\"font-size: 0.8em; font-weight: bold; line-height: 1; border-radius: 0.35em; vertical-align: middle; margin-left: 0.5rem\">OCCUP</span>\n",
       "</mark>\n",
       " with a strong work ethic and the ability to learn new processes quickly. In particular we are seeking: Experience in tooling engineer role Background in D and 3D Modelling Experience in composite production techniques and processes Benefits Pension Scheme 20 Days Annual Leave (plus public holidays) Site Bonus Scheme Westfield Healthcare Life Insurance To speak in absolute confidence about this opportunity please contact Rachel Auld, Senior Consultant at \n",
       "<mark class=\"entity\" style=\"background: #DB81E2; padding: 0.45em 0.6em; margin: 0 0.25em; line-height: 1; border-radius: 0.35em;\">\n",
       "    MCS Group\n",
       "    <span style=\"font-size: 0.8em; font-weight: bold; line-height: 1; border-radius: 0.35em; vertical-align: middle; margin-left: 0.5rem\">EMPLOYER</span>\n",
       "</mark>\n",
       " on or send an up to date CV via the link provided. \n",
       "<mark class=\"entity\" style=\"background: #DB81E2; padding: 0.45em 0.6em; margin: 0 0.25em; line-height: 1; border-radius: 0.35em;\">\n",
       "    MCS Group\n",
       "    <span style=\"font-size: 0.8em; font-weight: bold; line-height: 1; border-radius: 0.35em; vertical-align: middle; margin-left: 0.5rem\">EMPLOYER</span>\n",
       "</mark>\n",
       " is a specialist consultancy focusing on Technical, Engineering IT careers. If this position is not right for you, we may have others that are. Please visit .mcsgroup.jobs to view a wide selection of our current jobs. Also, please feel free to join our Facebook page or you can follow us on Twitter MCSGroup for updates on the latest jobs and market information.</div></span>"
      ],
      "text/plain": [
       "<IPython.core.display.HTML object>"
      ]
     },
     "metadata": {},
     "output_type": "display_data"
    },
    {
     "name": "stdout",
     "output_type": "stream",
     "text": [
      "\n",
      "\n",
      "\n"
     ]
    },
    {
     "data": {
      "text/html": [
       "<h3>Default model:</h3>"
      ],
      "text/plain": [
       "<IPython.core.display.HTML object>"
      ]
     },
     "metadata": {},
     "output_type": "display_data"
    },
    {
     "data": {
      "text/html": [
       "<span class=\"tex2jax_ignore\"><div class=\"entities\" style=\"line-height: 2.5; direction: ltr\">Our client is the \n",
       "<mark class=\"entity\" style=\"background: #ECE3AE; padding: 0.45em 0.6em; margin: 0 0.25em; line-height: 1; border-radius: 0.35em;\">\n",
       "    UK\n",
       "    <span style=\"font-size: 0.8em; font-weight: bold; line-height: 1; border-radius: 0.35em; vertical-align: middle; margin-left: 0.5rem\">GPE</span>\n",
       "</mark>\n",
       "'s leading supplier in their field and looking for a Sales Executive to develop sales from their office in \n",
       "<mark class=\"entity\" style=\"background: #ECE3AE; padding: 0.45em 0.6em; margin: 0 0.25em; line-height: 1; border-radius: 0.35em;\">\n",
       "    Chippenham\n",
       "    <span style=\"font-size: 0.8em; font-weight: bold; line-height: 1; border-radius: 0.35em; vertical-align: middle; margin-left: 0.5rem\">GPE</span>\n",
       "</mark>\n",
       ". You will be responsible for both inbound and outbound B2C and B2B sales which will involve following up leads generated by the marketing department and responding to inbound email sales queries. As part of the sales retention team you will also be responsible for contacting lapsed customers to win them back. The successful applicant will have proven sales experience attending events and/or exhibitions and need to be passionate about sales, customer service and developing new opportunities for business growth. You need to be computer literate, have high standards of quality, a confident telephone manner and the ability to manage your own workload. This is a fulltime permanent role working 35 hours per week offering a basic salary of Contact Kelly at Meridian on to apply and find out more. Meridian Business Support are acting on behalf of our Clients as a Recruitment Agency. This job was originally posted as .totaljobs.com/JobSeeking/SalesExecutive_job </div></span>"
      ],
      "text/plain": [
       "<IPython.core.display.HTML object>"
      ]
     },
     "metadata": {},
     "output_type": "display_data"
    },
    {
     "data": {
      "text/html": [
       "<h3>Machine learning model:</h3>"
      ],
      "text/plain": [
       "<IPython.core.display.HTML object>"
      ]
     },
     "metadata": {},
     "output_type": "display_data"
    },
    {
     "data": {
      "text/html": [
       "<span class=\"tex2jax_ignore\"><div class=\"entities\" style=\"line-height: 2.5; direction: ltr\">Our client is the \n",
       "<mark class=\"entity\" style=\"background: #ECE3AE; padding: 0.45em 0.6em; margin: 0 0.25em; line-height: 1; border-radius: 0.35em;\">\n",
       "    UK\n",
       "    <span style=\"font-size: 0.8em; font-weight: bold; line-height: 1; border-radius: 0.35em; vertical-align: middle; margin-left: 0.5rem\">GPE</span>\n",
       "</mark>\n",
       "'s leading supplier in their field and looking for a \n",
       "<mark class=\"entity\" style=\"background: #AEE8EC; padding: 0.45em 0.6em; margin: 0 0.25em; line-height: 1; border-radius: 0.35em;\">\n",
       "    Sales Executive\n",
       "    <span style=\"font-size: 0.8em; font-weight: bold; line-height: 1; border-radius: 0.35em; vertical-align: middle; margin-left: 0.5rem\">OCCUP</span>\n",
       "</mark>\n",
       " to develop sales from their office in \n",
       "<mark class=\"entity\" style=\"background: #ECE3AE; padding: 0.45em 0.6em; margin: 0 0.25em; line-height: 1; border-radius: 0.35em;\">\n",
       "    Chippenham\n",
       "    <span style=\"font-size: 0.8em; font-weight: bold; line-height: 1; border-radius: 0.35em; vertical-align: middle; margin-left: 0.5rem\">GPE</span>\n",
       "</mark>\n",
       ". You will be responsible for both inbound and outbound B2C and B2B sales which will involve following up leads generated by the marketing department and responding to inbound email sales queries. As part of the sales retention team you will also be responsible for contacting lapsed customers to win them back. The successful applicant will have proven sales experience attending events and/or exhibitions and need to be passionate about sales, customer service and developing new opportunities for business growth. You need to be computer literate, have high standards of quality, a confident telephone manner and the ability to manage your own workload. This is a fulltime permanent role working 35 hours per week offering a basic salary of Contact Kelly at Meridian on to apply and find out more. \n",
       "<mark class=\"entity\" style=\"background: #DB81E2; padding: 0.45em 0.6em; margin: 0 0.25em; line-height: 1; border-radius: 0.35em;\">\n",
       "    Meridian Business Support\n",
       "    <span style=\"font-size: 0.8em; font-weight: bold; line-height: 1; border-radius: 0.35em; vertical-align: middle; margin-left: 0.5rem\">EMPLOYER</span>\n",
       "</mark>\n",
       " are acting on behalf of our Clients as a Recruitment Agency. This job was originally posted as .totaljobs.com/JobSeeking/SalesExecutive_job </div></span>"
      ],
      "text/plain": [
       "<IPython.core.display.HTML object>"
      ]
     },
     "metadata": {},
     "output_type": "display_data"
    },
    {
     "name": "stdout",
     "output_type": "stream",
     "text": [
      "\n",
      "\n",
      "\n"
     ]
    },
    {
     "data": {
      "text/html": [
       "<h3>Default model:</h3>"
      ],
      "text/plain": [
       "<IPython.core.display.HTML object>"
      ]
     },
     "metadata": {},
     "output_type": "display_data"
    },
    {
     "data": {
      "text/html": [
       "<span class=\"tex2jax_ignore\"><div class=\"entities\" style=\"line-height: 2.5; direction: ltr\">Commercial Recruitment Consultant Bristol Competitive basic salary and OTE Is this you? Results Driven, Tenacious, Money Motivated and a Strong Communicator. To be a successful Recruitment Consultant at Robert Half International you will need to demonstrate ALL of the above. OfficeTeam is a leading provider of specialised administrative personnel on a temporary and permanent basis, with more than locations worldwide. A division of Robert Half, it has the specialised expertise, leadership standing and network to attract the most highly skilled professionals and offer them the most rewarding assignments. Why work as a Recruitment Consultant for Robert Half International? A leading provider of specialist recruitment solutions Times Top 100 Defined career progression opportunities nationally and globally Reward events both nationally and internationally along with annual achievement bonuses Excellent training and development programs A strong ethics first philosophy The Role A Recruitment Consultant's day is never the same. It's a phone business, 60% of all work is done on the phone. The responsibilities below provide a snap shot of what's involved: To identify new leads and business development opportunities on a daily basis by cold calling Personally accountable for meeting and exceeding challenging sales targets and KPI's A recruitment process managing expectations from both clients and candidates Building a strong network of candidates and clients from day 1 Salary Benefits If you match the above profile then we can offer you: An exceptional basic salary Competitive commission structure Global and National recognition events for top performers Holiday Purchase Scheme Life Assurance Private Medical Insurance Company Pension Scheme Car Allowance Only apply if you are serious about a challenging career in sales and consider yourself to have demonstrable experience within this sector. In addition to experienced recruitment consultants we would also like to speak to successful estate agents, B2B telesales and those seeking a career change from a professional background i.e accountants and lawyers. As these backgrounds can transition well into recruitment. To find out more about our business visit our website at .roberthalf.co.uk or contact our Internal Recruitment team directly on Robert Half Ltd acts as an employment business for temporary positions and an employment agency for permanent positions. Robert Half is committed to equal opportunity and diversity. Suitable candidates with equivalent qualifications and more or less experience can apply. This job was originally posted as .totaljobs.com/JobSeeking/RecruitmentConsultant_job </div></span>"
      ],
      "text/plain": [
       "<IPython.core.display.HTML object>"
      ]
     },
     "metadata": {},
     "output_type": "display_data"
    },
    {
     "data": {
      "text/html": [
       "<h3>Machine learning model:</h3>"
      ],
      "text/plain": [
       "<IPython.core.display.HTML object>"
      ]
     },
     "metadata": {},
     "output_type": "display_data"
    },
    {
     "data": {
      "text/html": [
       "<span class=\"tex2jax_ignore\"><div class=\"entities\" style=\"line-height: 2.5; direction: ltr\">\n",
       "<mark class=\"entity\" style=\"background: #AEE8EC; padding: 0.45em 0.6em; margin: 0 0.25em; line-height: 1; border-radius: 0.35em;\">\n",
       "    Commercial Recruitment Consultant\n",
       "    <span style=\"font-size: 0.8em; font-weight: bold; line-height: 1; border-radius: 0.35em; vertical-align: middle; margin-left: 0.5rem\">OCCUP</span>\n",
       "</mark>\n",
       " Bristol Competitive basic salary and OTE Is this you? Results Driven, Tenacious, Money Motivated and a Strong Communicator. To be a successful \n",
       "<mark class=\"entity\" style=\"background: #AEE8EC; padding: 0.45em 0.6em; margin: 0 0.25em; line-height: 1; border-radius: 0.35em;\">\n",
       "    Recruitment Consultant\n",
       "    <span style=\"font-size: 0.8em; font-weight: bold; line-height: 1; border-radius: 0.35em; vertical-align: middle; margin-left: 0.5rem\">OCCUP</span>\n",
       "</mark>\n",
       " at \n",
       "<mark class=\"entity\" style=\"background: #DB81E2; padding: 0.45em 0.6em; margin: 0 0.25em; line-height: 1; border-radius: 0.35em;\">\n",
       "    Robert Half\n",
       "    <span style=\"font-size: 0.8em; font-weight: bold; line-height: 1; border-radius: 0.35em; vertical-align: middle; margin-left: 0.5rem\">EMPLOYER</span>\n",
       "</mark>\n",
       " International you will need to demonstrate ALL of the above. OfficeTeam is a leading provider of specialised administrative personnel on a temporary and permanent basis, with more than locations worldwide. A division of \n",
       "<mark class=\"entity\" style=\"background: #DB81E2; padding: 0.45em 0.6em; margin: 0 0.25em; line-height: 1; border-radius: 0.35em;\">\n",
       "    Robert Half\n",
       "    <span style=\"font-size: 0.8em; font-weight: bold; line-height: 1; border-radius: 0.35em; vertical-align: middle; margin-left: 0.5rem\">EMPLOYER</span>\n",
       "</mark>\n",
       ", it has the specialised expertise, leadership standing and network to attract the most highly skilled professionals and offer them the most rewarding assignments. Why work as a \n",
       "<mark class=\"entity\" style=\"background: #AEE8EC; padding: 0.45em 0.6em; margin: 0 0.25em; line-height: 1; border-radius: 0.35em;\">\n",
       "    Recruitment Consultant\n",
       "    <span style=\"font-size: 0.8em; font-weight: bold; line-height: 1; border-radius: 0.35em; vertical-align: middle; margin-left: 0.5rem\">OCCUP</span>\n",
       "</mark>\n",
       " for \n",
       "<mark class=\"entity\" style=\"background: #DB81E2; padding: 0.45em 0.6em; margin: 0 0.25em; line-height: 1; border-radius: 0.35em;\">\n",
       "    Robert Half\n",
       "    <span style=\"font-size: 0.8em; font-weight: bold; line-height: 1; border-radius: 0.35em; vertical-align: middle; margin-left: 0.5rem\">EMPLOYER</span>\n",
       "</mark>\n",
       " International? A leading provider of specialist recruitment solutions Times Top 100 Defined career progression opportunities nationally and globally Reward events both nationally and internationally along with annual achievement bonuses Excellent training and development programs A strong ethics first philosophy The Role A \n",
       "<mark class=\"entity\" style=\"background: #AEE8EC; padding: 0.45em 0.6em; margin: 0 0.25em; line-height: 1; border-radius: 0.35em;\">\n",
       "    Recruitment Consultant\n",
       "    <span style=\"font-size: 0.8em; font-weight: bold; line-height: 1; border-radius: 0.35em; vertical-align: middle; margin-left: 0.5rem\">OCCUP</span>\n",
       "</mark>\n",
       "'s day is never the same. It's a phone business, 60% of all work is done on the phone. The responsibilities below provide a snap shot of what's involved: To identify new leads and business development opportunities on a daily basis by cold calling Personally accountable for meeting and exceeding challenging sales targets and KPI's A recruitment process managing expectations from both clients and candidates Building a strong network of candidates and clients from day 1 Salary Benefits If you match the above profile then we can offer you: An exceptional basic salary Competitive commission structure Global and National recognition events for top performers Holiday Purchase Scheme Life Assurance Private Medical Insurance Company Pension Scheme Car Allowance Only apply if you are serious about a challenging career in sales and consider yourself to have demonstrable experience within this sector. In addition to experienced recruitment consultants we would also like to speak to successful estate agents, B2B telesales and those seeking a career change from a professional background i.e accountants and lawyers. As these backgrounds can transition well into recruitment. To find out more about our business visit our website at .roberthalf.co.uk or contact our Internal Recruitment team directly on \n",
       "<mark class=\"entity\" style=\"background: #DB81E2; padding: 0.45em 0.6em; margin: 0 0.25em; line-height: 1; border-radius: 0.35em;\">\n",
       "    Robert Half\n",
       "    <span style=\"font-size: 0.8em; font-weight: bold; line-height: 1; border-radius: 0.35em; vertical-align: middle; margin-left: 0.5rem\">EMPLOYER</span>\n",
       "</mark>\n",
       " Ltd acts as an employment business for temporary positions and an employment agency for permanent positions. \n",
       "<mark class=\"entity\" style=\"background: #DB81E2; padding: 0.45em 0.6em; margin: 0 0.25em; line-height: 1; border-radius: 0.35em;\">\n",
       "    Robert Half\n",
       "    <span style=\"font-size: 0.8em; font-weight: bold; line-height: 1; border-radius: 0.35em; vertical-align: middle; margin-left: 0.5rem\">EMPLOYER</span>\n",
       "</mark>\n",
       " is committed to equal opportunity and diversity. Suitable candidates with equivalent qualifications and more or less experience can apply. This job was originally posted as .totaljobs.com/JobSeeking/RecruitmentConsultant_job </div></span>"
      ],
      "text/plain": [
       "<IPython.core.display.HTML object>"
      ]
     },
     "metadata": {},
     "output_type": "display_data"
    },
    {
     "name": "stdout",
     "output_type": "stream",
     "text": [
      "\n",
      "\n",
      "\n"
     ]
    },
    {
     "data": {
      "text/html": [
       "<h3>Default model:</h3>"
      ],
      "text/plain": [
       "<IPython.core.display.HTML object>"
      ]
     },
     "metadata": {},
     "output_type": "display_data"
    },
    {
     "data": {
      "text/html": [
       "<span class=\"tex2jax_ignore\"><div class=\"entities\" style=\"line-height: 2.5; direction: ltr\">Team Manager Children s Residential Services Outcomes \n",
       "<mark class=\"entity\" style=\"background: #ECE3AE; padding: 0.45em 0.6em; margin: 0 0.25em; line-height: 1; border-radius: 0.35em;\">\n",
       "    UK\n",
       "    <span style=\"font-size: 0.8em; font-weight: bold; line-height: 1; border-radius: 0.35em; vertical-align: middle; margin-left: 0.5rem\">GPE</span>\n",
       "</mark>\n",
       " have been commissioned to fill an urgent role for a Team Manager with a highly reputable children s residential organisation in the \n",
       "<mark class=\"entity\" style=\"background: #ECE3AE; padding: 0.45em 0.6em; margin: 0 0.25em; line-height: 1; border-radius: 0.35em;\">\n",
       "    Croydon\n",
       "    <span style=\"font-size: 0.8em; font-weight: bold; line-height: 1; border-radius: 0.35em; vertical-align: middle; margin-left: 0.5rem\">GPE</span>\n",
       "</mark>\n",
       " area. The Team Manager reports into the Head of Care who is the overall Registered Manager. This site offers children the opportunity to experience group living in order for them to develop empathy and a sense of belonging. Working and playing in small groups enables the children to understand the importance of boundaries, structure and negotiation. It provides a safe and nurturing environment in which children can explore their feelings and form appropriate attachments. The home is particularly successful in enabling children to return to fostercare or their own families. Any therapeutic intervention is only undertaken after careful assessment by suitably qualified practitioners in consultation with all relevant professionals. Therapeutic support is provided by qualified practitioners and reinforces the organisations philosophy of providing a more therapeutic approach to child care. This home has links with neighbouring EBD schools and mainstream colleges. Education is provided in a structured and caring environment and planned to meet both academic and pastoral needs of the young people. Children enjoy activities such as gokarting, quadbiking, camping, bowling, holidays away and day trips to local centres and theme parks. Wherever possible admissions to this residential home should be planned and involve all family and professionals to ensure each placement has the best possible start. Emergency referrals can be considered in certain circumstances. Our client is seeking an NVQ level 4 level candidates with experience of working with young people with emotional behavioural difficulties, or they could possibly consider candidates with a social work background if they have worked in child care. The team manager is part of the senior management group and is required to contribute to the policy and practice development of the service. Hours of work: per week on a rota weekend cover is shared Salary: k Please send your CV over for immediate consideration or to gain further details please contact Rachel Payne at \n",
       "<mark class=\"entity\" style=\"background: #ECE3AE; padding: 0.45em 0.6em; margin: 0 0.25em; line-height: 1; border-radius: 0.35em;\">\n",
       "    Outcomes\n",
       "    <span style=\"font-size: 0.8em; font-weight: bold; line-height: 1; border-radius: 0.35em; vertical-align: middle; margin-left: 0.5rem\">GPE</span>\n",
       "</mark>\n",
       " \n",
       "<mark class=\"entity\" style=\"background: #ECE3AE; padding: 0.45em 0.6em; margin: 0 0.25em; line-height: 1; border-radius: 0.35em;\">\n",
       "    UK\n",
       "    <span style=\"font-size: 0.8em; font-weight: bold; line-height: 1; border-radius: 0.35em; vertical-align: middle; margin-left: 0.5rem\">GPE</span>\n",
       "</mark>\n",
       "</div></span>"
      ],
      "text/plain": [
       "<IPython.core.display.HTML object>"
      ]
     },
     "metadata": {},
     "output_type": "display_data"
    },
    {
     "data": {
      "text/html": [
       "<h3>Machine learning model:</h3>"
      ],
      "text/plain": [
       "<IPython.core.display.HTML object>"
      ]
     },
     "metadata": {},
     "output_type": "display_data"
    },
    {
     "data": {
      "text/html": [
       "<span class=\"tex2jax_ignore\"><div class=\"entities\" style=\"line-height: 2.5; direction: ltr\">\n",
       "<mark class=\"entity\" style=\"background: #AEE8EC; padding: 0.45em 0.6em; margin: 0 0.25em; line-height: 1; border-radius: 0.35em;\">\n",
       "    Team Manager\n",
       "    <span style=\"font-size: 0.8em; font-weight: bold; line-height: 1; border-radius: 0.35em; vertical-align: middle; margin-left: 0.5rem\">OCCUP</span>\n",
       "</mark>\n",
       " Children s Residential Services Outcomes \n",
       "<mark class=\"entity\" style=\"background: #ECE3AE; padding: 0.45em 0.6em; margin: 0 0.25em; line-height: 1; border-radius: 0.35em;\">\n",
       "    UK\n",
       "    <span style=\"font-size: 0.8em; font-weight: bold; line-height: 1; border-radius: 0.35em; vertical-align: middle; margin-left: 0.5rem\">GPE</span>\n",
       "</mark>\n",
       " have been commissioned to fill an urgent role for a \n",
       "<mark class=\"entity\" style=\"background: #AEE8EC; padding: 0.45em 0.6em; margin: 0 0.25em; line-height: 1; border-radius: 0.35em;\">\n",
       "    Team Manager\n",
       "    <span style=\"font-size: 0.8em; font-weight: bold; line-height: 1; border-radius: 0.35em; vertical-align: middle; margin-left: 0.5rem\">OCCUP</span>\n",
       "</mark>\n",
       " with a highly reputable children s residential organisation in the \n",
       "<mark class=\"entity\" style=\"background: #ECE3AE; padding: 0.45em 0.6em; margin: 0 0.25em; line-height: 1; border-radius: 0.35em;\">\n",
       "    Croydon\n",
       "    <span style=\"font-size: 0.8em; font-weight: bold; line-height: 1; border-radius: 0.35em; vertical-align: middle; margin-left: 0.5rem\">GPE</span>\n",
       "</mark>\n",
       " area. The \n",
       "<mark class=\"entity\" style=\"background: #AEE8EC; padding: 0.45em 0.6em; margin: 0 0.25em; line-height: 1; border-radius: 0.35em;\">\n",
       "    Team Manager\n",
       "    <span style=\"font-size: 0.8em; font-weight: bold; line-height: 1; border-radius: 0.35em; vertical-align: middle; margin-left: 0.5rem\">OCCUP</span>\n",
       "</mark>\n",
       " reports into the Head of Care who is the overall \n",
       "<mark class=\"entity\" style=\"background: #AEE8EC; padding: 0.45em 0.6em; margin: 0 0.25em; line-height: 1; border-radius: 0.35em;\">\n",
       "    Registered Manager\n",
       "    <span style=\"font-size: 0.8em; font-weight: bold; line-height: 1; border-radius: 0.35em; vertical-align: middle; margin-left: 0.5rem\">OCCUP</span>\n",
       "</mark>\n",
       ". This site offers children the opportunity to experience group living in order for them to develop empathy and a sense of belonging. Working and playing in small groups enables the children to understand the importance of boundaries, structure and negotiation. It provides a safe and nurturing environment in which children can explore their feelings and form appropriate attachments. The home is particularly successful in enabling children to return to fostercare or their own families. Any therapeutic intervention is only undertaken after careful assessment by suitably qualified practitioners in consultation with all relevant professionals. Therapeutic support is provided by qualified practitioners and reinforces the organisations philosophy of providing a more therapeutic approach to child care. This home has links with neighbouring EBD schools and mainstream colleges. Education is provided in a structured and caring environment and planned to meet both academic and pastoral needs of the young people. Children enjoy activities such as gokarting, quadbiking, camping, bowling, holidays away and day trips to local centres and theme parks. Wherever possible admissions to this residential home should be planned and involve all family and professionals to ensure each placement has the best possible start. Emergency referrals can be considered in certain circumstances. Our client is seeking an NVQ level 4 level candidates with experience of working with young people with emotional behavioural difficulties, or they could possibly consider candidates with a social work background if they have worked in child care. The team manager is part of the senior management group and is required to contribute to the policy and practice development of the service. Hours of work: per week on a rota weekend cover is shared Salary: k Please send your CV over for immediate consideration or to gain further details please contact Rachel Payne at \n",
       "<mark class=\"entity\" style=\"background: #DB81E2; padding: 0.45em 0.6em; margin: 0 0.25em; line-height: 1; border-radius: 0.35em;\">\n",
       "    Outcomes UK\n",
       "    <span style=\"font-size: 0.8em; font-weight: bold; line-height: 1; border-radius: 0.35em; vertical-align: middle; margin-left: 0.5rem\">EMPLOYER</span>\n",
       "</mark>\n",
       "</div></span>"
      ],
      "text/plain": [
       "<IPython.core.display.HTML object>"
      ]
     },
     "metadata": {},
     "output_type": "display_data"
    },
    {
     "name": "stdout",
     "output_type": "stream",
     "text": [
      "\n",
      "\n",
      "\n"
     ]
    }
   ],
   "source": [
    "random.seed(0)\n",
    "for t, _, _ in random.choices(TEST_DATA, k=5):\n",
    "    d_ref = model(t)\n",
    "    d     = ner_model(t)\n",
    "    \n",
    "    if len(d.ents) > 0:\n",
    "        display(HTML('<h3>Default model:</h3>'))\n",
    "        displacy.render(d_ref, style='ent', options=options)\n",
    "        display(HTML('<h3>Machine learning model:</h3>'))\n",
    "        displacy.render(d, style='ent', options=options)\n",
    "        print('\\n\\n')"
   ]
  },
  {
   "cell_type": "code",
   "execution_count": 45,
   "id": "2d0c2b2f-3767-472a-b639-2147cee99ec9",
   "metadata": {},
   "outputs": [
    {
     "data": {
      "text/html": [
       "<div>\n",
       "<style scoped>\n",
       "    .dataframe tbody tr th:only-of-type {\n",
       "        vertical-align: middle;\n",
       "    }\n",
       "\n",
       "    .dataframe tbody tr th {\n",
       "        vertical-align: top;\n",
       "    }\n",
       "\n",
       "    .dataframe thead th {\n",
       "        text-align: right;\n",
       "    }\n",
       "</style>\n",
       "<table border=\"1\" class=\"dataframe\">\n",
       "  <thead>\n",
       "    <tr style=\"text-align: right;\">\n",
       "      <th></th>\n",
       "      <th>p</th>\n",
       "      <th>r</th>\n",
       "      <th>f</th>\n",
       "    </tr>\n",
       "  </thead>\n",
       "  <tbody>\n",
       "    <tr>\n",
       "      <th>OCCUP</th>\n",
       "      <td>0.936351</td>\n",
       "      <td>0.924932</td>\n",
       "      <td>0.930607</td>\n",
       "    </tr>\n",
       "    <tr>\n",
       "      <th>EMPLOYER</th>\n",
       "      <td>0.974099</td>\n",
       "      <td>0.948331</td>\n",
       "      <td>0.961042</td>\n",
       "    </tr>\n",
       "    <tr>\n",
       "      <th>ORG</th>\n",
       "      <td>0.810458</td>\n",
       "      <td>0.815370</td>\n",
       "      <td>0.812907</td>\n",
       "    </tr>\n",
       "    <tr>\n",
       "      <th>GPE</th>\n",
       "      <td>0.892361</td>\n",
       "      <td>0.887227</td>\n",
       "      <td>0.889786</td>\n",
       "    </tr>\n",
       "  </tbody>\n",
       "</table>\n",
       "</div>"
      ],
      "text/plain": [
       "                 p         r         f\n",
       "OCCUP     0.936351  0.924932  0.930607\n",
       "EMPLOYER  0.974099  0.948331  0.961042\n",
       "ORG       0.810458  0.815370  0.812907\n",
       "GPE       0.892361  0.887227  0.889786"
      ]
     },
     "execution_count": 45,
     "metadata": {},
     "output_type": "execute_result"
    }
   ],
   "source": [
    "pd.DataFrame(ner_model.meta['performance']['ents_per_type']).T"
   ]
  },
  {
   "cell_type": "code",
   "execution_count": null,
   "id": "75059f79-4540-459e-b0ce-39774c618544",
   "metadata": {},
   "outputs": [],
   "source": []
  }
 ],
 "metadata": {
  "kernelspec": {
   "display_name": "py311",
   "language": "python",
   "name": "py311"
  },
  "language_info": {
   "codemirror_mode": {
    "name": "ipython",
    "version": 3
   },
   "file_extension": ".py",
   "mimetype": "text/x-python",
   "name": "python",
   "nbconvert_exporter": "python",
   "pygments_lexer": "ipython3",
   "version": "3.11.0"
  }
 },
 "nbformat": 4,
 "nbformat_minor": 5
}
