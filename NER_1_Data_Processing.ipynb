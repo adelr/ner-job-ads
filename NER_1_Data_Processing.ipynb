{
 "cells": [
  {
   "cell_type": "markdown",
   "id": "a3b9a973-f63e-4fbb-9132-886516e77b3c",
   "metadata": {
    "tags": []
   },
   "source": [
    "<h1>Named Entity Recognition (NER) for job data 1: Data Preprocessing</h1>\n",
    "<h3>Adel Rahmani</h3>\n",
    "<hr style=\"height:5px;border:none;color:#333;background-color:#333;\" />"
   ]
  },
  {
   "cell_type": "markdown",
   "id": "33347e43-9a5f-47cd-b9b6-4132c6e0116b",
   "metadata": {},
   "source": [
    "<div style=\"background-color:#FBEFFB;\">\n",
    "<hr style=\"height:5px;border:none;color:#333;background-color:#333;\" />\n",
    "<h3>Licence</h3>\n",
    "<p>Copyright (C) 2022  Adel Rahmani\n",
    "\n",
    "This program is free software: you can redistribute it and/or modify\n",
    "it under the terms of the GNU General Public License as published by\n",
    "the Free Software Foundation, either version 3 of the License, or\n",
    "(at your option) any later version.\n",
    "\n",
    "This program is distributed in the hope that it will be useful,\n",
    "but WITHOUT ANY WARRANTY; without even the implied warranty of\n",
    "MERCHANTABILITY or FITNESS FOR A PARTICULAR PURPOSE.  See the\n",
    "GNU General Public License for more details.\n",
    "\n",
    "You should have received a copy of the GNU General Public License\n",
    "along with this program.  If not, see <http://www.gnu.org/licenses/>.</p>\n",
    "<hr style=\"height:5px;border:none;color:#333;background-color:#333;\" />\n",
    "</div>"
   ]
  },
  {
   "cell_type": "markdown",
   "id": "71b9f874-830b-4b24-89cb-1e8b865a55fa",
   "metadata": {
    "tags": []
   },
   "source": [
    "<div style=\"background-color:#F2FBEF;\">\n",
    "<h2><font color=#04B404>Abstract</font></h2>\n",
    "This notebook preprocesses the Adzuna job data to filter out ambiguous or malformed entries in preparation for the NER annotation pipeline.\n",
    "</div>\n",
    "<hr>"
   ]
  },
  {
   "cell_type": "code",
   "execution_count": 1,
   "id": "3d0ff8ae-9411-4600-b3ba-c2a1b323c69a",
   "metadata": {},
   "outputs": [],
   "source": [
    "import swifter\n",
    "import regex\n",
    "import pandas as pd\n",
    "import numpy as np\n",
    "\n",
    "import hashlib\n",
    "\n",
    "import spacy\n",
    "\n",
    "import warnings\n",
    "warnings.simplefilter('ignore')\n",
    "\n",
    "from pathlib import Path\n",
    "from tqdm.notebook import tqdm_notebook"
   ]
  },
  {
   "cell_type": "markdown",
   "id": "8748a790-f675-4ff6-83f2-392f2d02c5ce",
   "metadata": {},
   "source": [
    "----\n",
    "# The Data\n",
    "\n",
    "This pipeline uses multiple data sources to construct an annotated data set for Named Entity Recognition (NER) for job ads.\n",
    "\n",
    "The data source comes from the [Kaggle Adzuna](https://www.kaggle.com/c/job-salary-prediction/data) data containing over 300,000 job ads, mostly from the UK.\n",
    "\n",
    "A [lexicon of English words](https://github.com/dwyl/english-words) is used to filter the job titles before use in the pipeline. "
   ]
  },
  {
   "cell_type": "markdown",
   "id": "b1f95d2c-0212-424c-b6f4-49aa3f9843e7",
   "metadata": {
    "tags": []
   },
   "source": [
    "---\n",
    "## Loading the Adzuna data"
   ]
  },
  {
   "cell_type": "code",
   "execution_count": 2,
   "id": "41461d96-2001-4323-befd-7c6d4524615b",
   "metadata": {},
   "outputs": [
    {
     "name": "stdout",
     "output_type": "stream",
     "text": [
      "<class 'pandas.core.frame.DataFrame'>\n",
      "RangeIndex: 320306 entries, 0 to 320305\n",
      "Data columns (total 10 columns):\n",
      " #   Column              Non-Null Count   Dtype \n",
      "---  ------              --------------   ----- \n",
      " 0   Id                  320306 non-null  int64 \n",
      " 1   Title               320306 non-null  object\n",
      " 2   FullDescription     320306 non-null  object\n",
      " 3   LocationRaw         320306 non-null  object\n",
      " 4   LocationNormalized  320306 non-null  object\n",
      " 5   ContractType        88223 non-null   object\n",
      " 6   ContractTime        246321 non-null  object\n",
      " 7   Company             320306 non-null  object\n",
      " 8   Category            320306 non-null  object\n",
      " 9   SourceName          320305 non-null  object\n",
      "dtypes: int64(1), object(9)\n",
      "memory usage: 24.4+ MB\n",
      "CPU times: user 1.3 s, sys: 525 ms, total: 1.82 s\n",
      "Wall time: 1.66 s\n"
     ]
    }
   ],
   "source": [
    "%%time\n",
    "data = pd.read_parquet('data/Adzuna.parq')\n",
    "data.info()"
   ]
  },
  {
   "cell_type": "code",
   "execution_count": 3,
   "id": "786cdf48-7824-4352-aa8e-e76cd11c2f4e",
   "metadata": {},
   "outputs": [
    {
     "data": {
      "text/html": [
       "<div>\n",
       "<style scoped>\n",
       "    .dataframe tbody tr th:only-of-type {\n",
       "        vertical-align: middle;\n",
       "    }\n",
       "\n",
       "    .dataframe tbody tr th {\n",
       "        vertical-align: top;\n",
       "    }\n",
       "\n",
       "    .dataframe thead th {\n",
       "        text-align: right;\n",
       "    }\n",
       "</style>\n",
       "<table border=\"1\" class=\"dataframe\">\n",
       "  <thead>\n",
       "    <tr style=\"text-align: right;\">\n",
       "      <th></th>\n",
       "      <th>Id</th>\n",
       "      <th>Title</th>\n",
       "      <th>FullDescription</th>\n",
       "      <th>LocationRaw</th>\n",
       "      <th>LocationNormalized</th>\n",
       "      <th>ContractType</th>\n",
       "      <th>ContractTime</th>\n",
       "      <th>Company</th>\n",
       "      <th>Category</th>\n",
       "      <th>SourceName</th>\n",
       "    </tr>\n",
       "  </thead>\n",
       "  <tbody>\n",
       "    <tr>\n",
       "      <th>135923</th>\n",
       "      <td>71469886</td>\n",
       "      <td>VBNet Developer (SQL Server, ASPNET)  Harrogate</td>\n",
       "      <td>VB.Net Developer (SQL Server, ASP.NET)  Harrog...</td>\n",
       "      <td>Harrogate</td>\n",
       "      <td>Harrogate</td>\n",
       "      <td>None</td>\n",
       "      <td>permanent</td>\n",
       "      <td>Applause IT Limited</td>\n",
       "      <td>IT Jobs</td>\n",
       "      <td>jobsite.co.uk</td>\n",
       "    </tr>\n",
       "    <tr>\n",
       "      <th>178054</th>\n",
       "      <td>72446229</td>\n",
       "      <td>Centre Based Trainer in IT and AutoCAD</td>\n",
       "      <td>CAD Centre (UK) Ltd Centre Based Trainer in IT...</td>\n",
       "      <td>East London London South East</td>\n",
       "      <td>South East London</td>\n",
       "      <td>None</td>\n",
       "      <td>permanent</td>\n",
       "      <td>The CAD Centre  Ltd</td>\n",
       "      <td>IT Jobs</td>\n",
       "      <td>totaljobs.com</td>\n",
       "    </tr>\n",
       "    <tr>\n",
       "      <th>188359</th>\n",
       "      <td>72635123</td>\n",
       "      <td>Sub Agent</td>\n",
       "      <td>Sub Agent required for a major Rail/Civil Engi...</td>\n",
       "      <td>Newcastle upon Tyne, Tyne and Wear</td>\n",
       "      <td>Newcastle Upon Tyne</td>\n",
       "      <td>None</td>\n",
       "      <td>contract</td>\n",
       "      <td>VGC</td>\n",
       "      <td>Engineering Jobs</td>\n",
       "      <td>cv-library.co.uk</td>\n",
       "    </tr>\n",
       "    <tr>\n",
       "      <th>126675</th>\n",
       "      <td>71288596</td>\n",
       "      <td>Purchase Ledger Clerk</td>\n",
       "      <td>Hays Accountancy and Finance are currently rec...</td>\n",
       "      <td>Sheffield</td>\n",
       "      <td>Sheffield</td>\n",
       "      <td>None</td>\n",
       "      <td>None</td>\n",
       "      <td>Hays   Sheffield</td>\n",
       "      <td>Accounting &amp; Finance Jobs</td>\n",
       "      <td>MyUkJobs</td>\n",
       "    </tr>\n",
       "    <tr>\n",
       "      <th>211726</th>\n",
       "      <td>68680609</td>\n",
       "      <td>Managing Consultant  Construction/Civils/FM</td>\n",
       "      <td>Managing Consultant  Construction/Civils/FM  B...</td>\n",
       "      <td>Bristol Avon South West</td>\n",
       "      <td>UK</td>\n",
       "      <td>None</td>\n",
       "      <td>permanent</td>\n",
       "      <td>Fresh Partnership</td>\n",
       "      <td>HR &amp; Recruitment Jobs</td>\n",
       "      <td>totaljobs.com</td>\n",
       "    </tr>\n",
       "  </tbody>\n",
       "</table>\n",
       "</div>"
      ],
      "text/plain": [
       "              Id                                            Title  \\\n",
       "135923  71469886  VBNet Developer (SQL Server, ASPNET)  Harrogate   \n",
       "178054  72446229           Centre Based Trainer in IT and AutoCAD   \n",
       "188359  72635123                                        Sub Agent   \n",
       "126675  71288596                            Purchase Ledger Clerk   \n",
       "211726  68680609      Managing Consultant  Construction/Civils/FM   \n",
       "\n",
       "                                          FullDescription  \\\n",
       "135923  VB.Net Developer (SQL Server, ASP.NET)  Harrog...   \n",
       "178054  CAD Centre (UK) Ltd Centre Based Trainer in IT...   \n",
       "188359  Sub Agent required for a major Rail/Civil Engi...   \n",
       "126675  Hays Accountancy and Finance are currently rec...   \n",
       "211726  Managing Consultant  Construction/Civils/FM  B...   \n",
       "\n",
       "                               LocationRaw   LocationNormalized ContractType  \\\n",
       "135923                           Harrogate            Harrogate         None   \n",
       "178054       East London London South East    South East London         None   \n",
       "188359  Newcastle upon Tyne, Tyne and Wear  Newcastle Upon Tyne         None   \n",
       "126675                           Sheffield            Sheffield         None   \n",
       "211726             Bristol Avon South West                   UK         None   \n",
       "\n",
       "       ContractTime              Company                   Category  \\\n",
       "135923    permanent  Applause IT Limited                    IT Jobs   \n",
       "178054    permanent  The CAD Centre  Ltd                    IT Jobs   \n",
       "188359     contract                  VGC           Engineering Jobs   \n",
       "126675         None     Hays   Sheffield  Accounting & Finance Jobs   \n",
       "211726    permanent    Fresh Partnership      HR & Recruitment Jobs   \n",
       "\n",
       "              SourceName  \n",
       "135923     jobsite.co.uk  \n",
       "178054     totaljobs.com  \n",
       "188359  cv-library.co.uk  \n",
       "126675          MyUkJobs  \n",
       "211726     totaljobs.com  "
      ]
     },
     "execution_count": 3,
     "metadata": {},
     "output_type": "execute_result"
    }
   ],
   "source": [
    "data.sample(5, random_state=0)"
   ]
  },
  {
   "cell_type": "markdown",
   "id": "436f3a20-ea35-4155-84b0-18bb017dbdc9",
   "metadata": {},
   "source": [
    "## English lexicon to validate words \n",
    "\n",
    "This is a way to cull all the malformed/mispelled job titles "
   ]
  },
  {
   "cell_type": "code",
   "execution_count": 4,
   "id": "591a013d-24ac-4868-90bc-dcdfd998d193",
   "metadata": {},
   "outputs": [
    {
     "data": {
      "text/plain": [
       "370103"
      ]
     },
     "execution_count": 4,
     "metadata": {},
     "output_type": "execute_result"
    }
   ],
   "source": [
    "with open('data/words_alpha.txt', 'r') as f:\n",
    "    ENGLISH_LEXICON = set(f.read().splitlines())\n",
    "    \n",
    "len(ENGLISH_LEXICON)"
   ]
  },
  {
   "cell_type": "markdown",
   "id": "bee27bd7-cf20-46aa-977a-af2f7fa3c09f",
   "metadata": {},
   "source": [
    "### Basic regexes for text cleaning"
   ]
  },
  {
   "cell_type": "code",
   "execution_count": 5,
   "id": "7afc6736-06d3-4e54-a74b-a22051c86eb7",
   "metadata": {},
   "outputs": [],
   "source": [
    "pattern_censored_word   = regex.compile('\\w*\\*+\\w*', flags=regex.M|regex.I)\n",
    "pattern_punctuation     = regex.compile('[[:punct:]]')\n",
    "pattern_multiple_blanks = regex.compile('\\s+')\n",
    "pattern_multiple_stars  = regex.compile('\\*+')\n",
    "pattern_special_chars   = regex.compile('•')\n",
    "\n",
    "def preprocess_text(text, lower=True, remove_punct=False):\n",
    "    text = pattern_censored_word.sub('', text)\n",
    "    text = pattern_multiple_stars.sub(' ', text)\n",
    "    text = pattern_special_chars.sub('', text)\n",
    "    text = pattern_multiple_blanks.sub(' ', text)\n",
    "    if lower: text = text.lower()\n",
    "    if remove_punct: text = pattern_punctuation.sub(' ',text)\n",
    "    text = text.strip()\n",
    "    return text if text else None\n"
   ]
  },
  {
   "cell_type": "markdown",
   "id": "b14847da-883c-4f06-a54b-306985ab61aa",
   "metadata": {
    "tags": []
   },
   "source": [
    "### Utility functions to check whether a word or sequence of words are in the lexicon"
   ]
  },
  {
   "cell_type": "code",
   "execution_count": 6,
   "id": "096b682d-15b6-4202-b6b5-51cb3e5d60c0",
   "metadata": {},
   "outputs": [],
   "source": [
    "def is_word(word, reference=ENGLISH_LEXICON):\n",
    "    '''\n",
    "    Check a word against the lexicon\n",
    "    '''\n",
    "    return word.lower() in reference\n",
    "\n",
    "def all_valid_words(text):\n",
    "    '''\n",
    "    Check that all words in a text are in the lexicon\n",
    "    after filtering out unwanted characters\n",
    "    '''\n",
    "    text = preprocess_text(text, lower=True, remove_punct=True)\n",
    "\n",
    "    return all(map(is_word, text.split()))"
   ]
  },
  {
   "cell_type": "markdown",
   "id": "69b43223-ec34-4391-80f9-f356926fdfb2",
   "metadata": {},
   "source": [
    "---\n",
    "## Masks to locate observations to remove"
   ]
  },
  {
   "cell_type": "markdown",
   "id": "3d128398-cc67-4081-97a2-371c2a24c5d3",
   "metadata": {},
   "source": [
    "### Mask for titles with \"ASAP\""
   ]
  },
  {
   "cell_type": "code",
   "execution_count": 7,
   "id": "647eea46-74dd-4b92-a69a-6e834d7c07e6",
   "metadata": {},
   "outputs": [
    {
     "data": {
      "text/plain": [
       "0.001276903960587688"
      ]
     },
     "execution_count": 7,
     "metadata": {},
     "output_type": "execute_result"
    }
   ],
   "source": [
    "mask_asap = data.Title.str.lower().str.contains('asap')\n",
    "mask_asap.mean()"
   ]
  },
  {
   "cell_type": "markdown",
   "id": "577bd938-c5bc-43d8-944a-134731508487",
   "metadata": {},
   "source": [
    "### Mask for titles with \"Or\""
   ]
  },
  {
   "cell_type": "code",
   "execution_count": 8,
   "id": "2e76ceed-f0fb-4419-a607-b0f4cf838764",
   "metadata": {},
   "outputs": [
    {
     "data": {
      "text/plain": [
       "0.00550098967861982"
      ]
     },
     "execution_count": 8,
     "metadata": {},
     "output_type": "execute_result"
    }
   ],
   "source": [
    "mask_or = data.Title.str.lower().str.contains(' or ')\n",
    "mask_or.mean()"
   ]
  },
  {
   "cell_type": "markdown",
   "id": "6fda2b37-070d-475e-8f60-3fc4efa5c62b",
   "metadata": {
    "tags": []
   },
   "source": [
    "### Mask for job titles that contain punctuation symbols"
   ]
  },
  {
   "cell_type": "code",
   "execution_count": 9,
   "id": "88e5deb2-4116-4177-818a-c152c6409858",
   "metadata": {},
   "outputs": [
    {
     "data": {
      "text/plain": [
       "0.2502919083626282"
      ]
     },
     "execution_count": 9,
     "metadata": {},
     "output_type": "execute_result"
    }
   ],
   "source": [
    "mask_punct = data.Title.apply(lambda x: pattern_punctuation.search(x) is not None)\n",
    "mask_punct.mean()"
   ]
  },
  {
   "cell_type": "markdown",
   "id": "bb37b0b9-be20-412b-bfb9-ea21cc7c475f",
   "metadata": {
    "tags": []
   },
   "source": [
    "### Mask for job titles that are not valid according to the lexicon"
   ]
  },
  {
   "cell_type": "code",
   "execution_count": 10,
   "id": "9fa0e43d-0cc0-447f-8a17-f537cc3f98f1",
   "metadata": {},
   "outputs": [
    {
     "data": {
      "application/vnd.jupyter.widget-view+json": {
       "model_id": "f99888a3e93c4de196a1b665563332a6",
       "version_major": 2,
       "version_minor": 0
      },
      "text/plain": [
       "Pandas Apply:   0%|          | 0/320306 [00:00<?, ?it/s]"
      ]
     },
     "metadata": {},
     "output_type": "display_data"
    },
    {
     "name": "stdout",
     "output_type": "stream",
     "text": [
      "26% of the titles are not valid...\n"
     ]
    }
   ],
   "source": [
    "mask_invalid_words = ~data.Title.swifter.apply(all_valid_words)\n",
    "print(f\"{mask_invalid_words.mean()*100:0.0f}% of the titles are not valid...\")"
   ]
  },
  {
   "cell_type": "markdown",
   "id": "ccda5cf3-bb51-4b17-acb7-9900932bf892",
   "metadata": {
    "tags": []
   },
   "source": [
    "### Mask for titles containing the location"
   ]
  },
  {
   "cell_type": "code",
   "execution_count": 11,
   "id": "1f247523-0bef-4d1f-986e-e0830d5d1165",
   "metadata": {},
   "outputs": [
    {
     "data": {
      "application/vnd.jupyter.widget-view+json": {
       "model_id": "eed9ca1614e34259af488a9a53583851",
       "version_major": 2,
       "version_minor": 0
      },
      "text/plain": [
       "Pandas Apply:   0%|          | 0/320306 [00:00<?, ?it/s]"
      ]
     },
     "metadata": {},
     "output_type": "display_data"
    },
    {
     "data": {
      "text/plain": [
       "0.09143444081596973"
      ]
     },
     "execution_count": 11,
     "metadata": {},
     "output_type": "execute_result"
    }
   ],
   "source": [
    "def loc_in_title(row):\n",
    "    return row['LocationNormalized'].lower().strip() in row['Title'].lower()\n",
    "\n",
    "mask_location_in_title = data.swifter.apply(loc_in_title, axis=1)\n",
    "mask_location_in_title.mean()"
   ]
  },
  {
   "cell_type": "markdown",
   "id": "25c77573-f218-4888-aec8-5cb53544286b",
   "metadata": {},
   "source": [
    "### Mask for titles with selected words"
   ]
  },
  {
   "cell_type": "code",
   "execution_count": 12,
   "id": "ad6e3cda-4e21-4602-89df-39bfc8ed493a",
   "metadata": {},
   "outputs": [
    {
     "data": {
      "text/plain": [
       "0.020705200651876643"
      ]
     },
     "execution_count": 12,
     "metadata": {},
     "output_type": "execute_result"
    }
   ],
   "source": [
    "words = {'newly', 'happy', 'selly', 'lovely', 'fully', 'immediately',\n",
    "         'hourly', 'urgently', 'wanted', 'needed', 'required','temporary', 'permanent'}\n",
    "\n",
    "pattern_words = regex.compile(\"|\".join([w for w in words]), flags=regex.I)\n",
    "mask_words = data.Title.str.contains(pattern_words.pattern, flags=regex.I)\n",
    "mask_words.mean()"
   ]
  },
  {
   "cell_type": "markdown",
   "id": "f0769000-44d9-4585-89cb-652e3533d45f",
   "metadata": {},
   "source": [
    "### Mask for Full description containing special characters"
   ]
  },
  {
   "cell_type": "code",
   "execution_count": 13,
   "id": "71b2a5d0-b1ec-46a1-a23b-17d0e2253216",
   "metadata": {},
   "outputs": [
    {
     "data": {
      "text/plain": [
       "0.03175088821314618"
      ]
     },
     "execution_count": 13,
     "metadata": {},
     "output_type": "execute_result"
    }
   ],
   "source": [
    "mask_desc_special_char = data.FullDescription.str.contains('•')\n",
    "mask_desc_special_char.mean()"
   ]
  },
  {
   "cell_type": "markdown",
   "id": "7d43c7c4-b601-42e6-87e0-4634cf4777c3",
   "metadata": {},
   "source": [
    "### Filter out the data."
   ]
  },
  {
   "cell_type": "code",
   "execution_count": 14,
   "id": "556b59cb-2c63-4e72-b363-4191b1ab88ea",
   "metadata": {},
   "outputs": [
    {
     "data": {
      "application/vnd.jupyter.widget-view+json": {
       "model_id": "b4492a301b434a888b8147daeee8e77d",
       "version_major": 2,
       "version_minor": 0
      },
      "text/plain": [
       "Pandas Apply:   0%|          | 0/176579 [00:00<?, ?it/s]"
      ]
     },
     "metadata": {},
     "output_type": "display_data"
    }
   ],
   "source": [
    "df_Ad_valid = (data\n",
    "               .where(~mask_punct)\n",
    "               .where(~mask_asap)\n",
    "               .where(~mask_location_in_title)\n",
    "               .where(~mask_invalid_words)\n",
    "               .where(~mask_words)\n",
    "               .where(~mask_desc_special_char)\n",
    "               .dropna(how='all')\n",
    "               .assign(Title=lambda df: df.Title.swifter.apply(preprocess_text, lower=False))\n",
    "              )"
   ]
  },
  {
   "cell_type": "code",
   "execution_count": 15,
   "id": "f70be0f4-fcda-4d7f-823e-e7208d13df45",
   "metadata": {},
   "outputs": [
    {
     "data": {
      "text/plain": [
       "(176579, 10)"
      ]
     },
     "execution_count": 15,
     "metadata": {},
     "output_type": "execute_result"
    }
   ],
   "source": [
    "df_Ad_valid.shape"
   ]
  },
  {
   "cell_type": "code",
   "execution_count": 16,
   "id": "7f4010a3-4f35-46d6-8ad8-357c397a95c3",
   "metadata": {},
   "outputs": [
    {
     "data": {
      "text/html": [
       "<div>\n",
       "<style scoped>\n",
       "    .dataframe tbody tr th:only-of-type {\n",
       "        vertical-align: middle;\n",
       "    }\n",
       "\n",
       "    .dataframe tbody tr th {\n",
       "        vertical-align: top;\n",
       "    }\n",
       "\n",
       "    .dataframe thead th {\n",
       "        text-align: right;\n",
       "    }\n",
       "</style>\n",
       "<table border=\"1\" class=\"dataframe\">\n",
       "  <thead>\n",
       "    <tr style=\"text-align: right;\">\n",
       "      <th></th>\n",
       "      <th>Id</th>\n",
       "      <th>Title</th>\n",
       "      <th>FullDescription</th>\n",
       "      <th>LocationRaw</th>\n",
       "      <th>LocationNormalized</th>\n",
       "      <th>ContractType</th>\n",
       "      <th>ContractTime</th>\n",
       "      <th>Company</th>\n",
       "      <th>Category</th>\n",
       "      <th>SourceName</th>\n",
       "    </tr>\n",
       "  </thead>\n",
       "  <tbody>\n",
       "    <tr>\n",
       "      <th>0</th>\n",
       "      <td>12612628.0</td>\n",
       "      <td>Engineering Systems Analyst</td>\n",
       "      <td>Engineering Systems Analyst Dorking Surrey Sal...</td>\n",
       "      <td>Dorking, Surrey, Surrey</td>\n",
       "      <td>Dorking</td>\n",
       "      <td>None</td>\n",
       "      <td>permanent</td>\n",
       "      <td>Gregory Martin International</td>\n",
       "      <td>Engineering Jobs</td>\n",
       "      <td>cv-library.co.uk</td>\n",
       "    </tr>\n",
       "    <tr>\n",
       "      <th>2</th>\n",
       "      <td>12612844.0</td>\n",
       "      <td>Modelling and simulation analyst</td>\n",
       "      <td>Mathematical Modeller / Simulation Analyst / O...</td>\n",
       "      <td>Hampshire, South East, South East</td>\n",
       "      <td>Hampshire</td>\n",
       "      <td>None</td>\n",
       "      <td>permanent</td>\n",
       "      <td>Gregory Martin International</td>\n",
       "      <td>Engineering Jobs</td>\n",
       "      <td>cv-library.co.uk</td>\n",
       "    </tr>\n",
       "  </tbody>\n",
       "</table>\n",
       "</div>"
      ],
      "text/plain": [
       "           Id                             Title  \\\n",
       "0  12612628.0       Engineering Systems Analyst   \n",
       "2  12612844.0  Modelling and simulation analyst   \n",
       "\n",
       "                                     FullDescription  \\\n",
       "0  Engineering Systems Analyst Dorking Surrey Sal...   \n",
       "2  Mathematical Modeller / Simulation Analyst / O...   \n",
       "\n",
       "                         LocationRaw LocationNormalized ContractType  \\\n",
       "0            Dorking, Surrey, Surrey            Dorking         None   \n",
       "2  Hampshire, South East, South East          Hampshire         None   \n",
       "\n",
       "  ContractTime                       Company          Category  \\\n",
       "0    permanent  Gregory Martin International  Engineering Jobs   \n",
       "2    permanent  Gregory Martin International  Engineering Jobs   \n",
       "\n",
       "         SourceName  \n",
       "0  cv-library.co.uk  \n",
       "2  cv-library.co.uk  "
      ]
     },
     "execution_count": 16,
     "metadata": {},
     "output_type": "execute_result"
    }
   ],
   "source": [
    "df_Ad_valid.head(2)"
   ]
  },
  {
   "cell_type": "markdown",
   "id": "80f1ed72-0ce8-4a30-9313-c3668dd74b04",
   "metadata": {},
   "source": [
    "### Matching the job title/employer and the job description\n",
    "\n",
    "To improve the quality of the training data let's select only the observations for which the job title is found in the job description.\n",
    "\n",
    "We'll do the same thing for the company/employer."
   ]
  },
  {
   "cell_type": "code",
   "execution_count": 17,
   "id": "36233c78-f5c6-4510-9c69-5f878fe1d0f6",
   "metadata": {},
   "outputs": [],
   "source": [
    "def title_in_desc(row):\n",
    "    return row['Title'] in row['FullDescription']\n",
    "\n",
    "def company_in_desc(row):\n",
    "    return row['Company'] in row['FullDescription']"
   ]
  },
  {
   "cell_type": "code",
   "execution_count": 18,
   "id": "305dbd92-1f1c-4ef1-9aab-1c62351a6963",
   "metadata": {},
   "outputs": [
    {
     "data": {
      "application/vnd.jupyter.widget-view+json": {
       "model_id": "4a745bdbc28c4bb9bdab9c9ee54e31a2",
       "version_major": 2,
       "version_minor": 0
      },
      "text/plain": [
       "Pandas Apply:   0%|          | 0/176579 [00:00<?, ?it/s]"
      ]
     },
     "metadata": {},
     "output_type": "display_data"
    },
    {
     "data": {
      "application/vnd.jupyter.widget-view+json": {
       "model_id": "596a735550aa4b7880260f2905c3d26e",
       "version_major": 2,
       "version_minor": 0
      },
      "text/plain": [
       "Pandas Apply:   0%|          | 0/176579 [00:00<?, ?it/s]"
      ]
     },
     "metadata": {},
     "output_type": "display_data"
    }
   ],
   "source": [
    "mask_title = df_Ad_valid.swifter.apply(title_in_desc, axis=1)\n",
    "mask_company = df_Ad_valid.swifter.apply(company_in_desc, axis=1)\n",
    "mask_title_and_company = np.logical_and(mask_title, mask_company)"
   ]
  },
  {
   "cell_type": "code",
   "execution_count": 19,
   "id": "c6c9fc9a-6d13-4226-a2c7-ce637d49066f",
   "metadata": {},
   "outputs": [
    {
     "name": "stdout",
     "output_type": "stream",
     "text": [
      "\n",
      "Number of records where the title is found in the description: 89844\n",
      "Number of records where the company is found in the description: 39775\n",
      "Number of records where BOTH are found in the description: 21809\n",
      "\n"
     ]
    }
   ],
   "source": [
    "print(f'''\n",
    "Number of records where the title is found in the description: {mask_title.sum()}\n",
    "Number of records where the company is found in the description: {mask_company.sum()}\n",
    "Number of records where BOTH are found in the description: {mask_title_and_company.sum()}\n",
    "''')"
   ]
  },
  {
   "cell_type": "markdown",
   "id": "919d065e-813e-4493-bd0e-0ef335ad64b9",
   "metadata": {},
   "source": [
    "### Intermediate selection of records from the Adzuna data "
   ]
  },
  {
   "cell_type": "code",
   "execution_count": 20,
   "id": "da6be8f7-783d-47aa-95a9-26ac5c85a8b0",
   "metadata": {},
   "outputs": [
    {
     "name": "stdout",
     "output_type": "stream",
     "text": [
      "<class 'pandas.core.frame.DataFrame'>\n",
      "Int64Index: 21809 entries, 75 to 320282\n",
      "Data columns (total 10 columns):\n",
      " #   Column              Non-Null Count  Dtype  \n",
      "---  ------              --------------  -----  \n",
      " 0   Id                  21809 non-null  float64\n",
      " 1   Title               21809 non-null  object \n",
      " 2   FullDescription     21809 non-null  object \n",
      " 3   LocationRaw         21809 non-null  object \n",
      " 4   LocationNormalized  21809 non-null  object \n",
      " 5   ContractType        4530 non-null   object \n",
      " 6   ContractTime        17095 non-null  object \n",
      " 7   Company             21809 non-null  object \n",
      " 8   Category            21809 non-null  object \n",
      " 9   SourceName          21809 non-null  object \n",
      "dtypes: float64(1), object(9)\n",
      "memory usage: 1.8+ MB\n"
     ]
    }
   ],
   "source": [
    "processed_Adzuna = df_Ad_valid[mask_title_and_company]\n",
    "processed_Adzuna.info()"
   ]
  },
  {
   "cell_type": "markdown",
   "id": "67c452e9-dda0-41b4-912d-0a29cb63f4ae",
   "metadata": {},
   "source": [
    "#### Number of unique titles"
   ]
  },
  {
   "cell_type": "code",
   "execution_count": 21,
   "id": "7908f60c-74f1-485f-bd25-8eb8f16254aa",
   "metadata": {},
   "outputs": [
    {
     "data": {
      "text/plain": [
       "7446"
      ]
     },
     "execution_count": 21,
     "metadata": {},
     "output_type": "execute_result"
    }
   ],
   "source": [
    "validated_Adzuna_titles = set(processed_Adzuna.Title.values)-{''}\n",
    "len(validated_Adzuna_titles)"
   ]
  },
  {
   "cell_type": "code",
   "execution_count": 22,
   "id": "ae696661-dce7-49f9-9902-90ae59ef4596",
   "metadata": {},
   "outputs": [
    {
     "data": {
      "text/plain": [
       "array(['Quality Technician', 'Mobile Relief Officer',\n",
       "       'Head Of Compliance', 'Overseas Settlements Administrator',\n",
       "       'Buying Assistant', 'Security Guard', 'IT Recruitment Consultants',\n",
       "       'Litigation Executive', 'PR Executive',\n",
       "       'Software Applications Engineer'], dtype=object)"
      ]
     },
     "execution_count": 22,
     "metadata": {},
     "output_type": "execute_result"
    }
   ],
   "source": [
    "pd.Series(list(validated_Adzuna_titles)).sample(10).values"
   ]
  },
  {
   "cell_type": "markdown",
   "id": "8f18f3a7-e3de-438f-b69d-b8692bf7cbee",
   "metadata": {},
   "source": [
    "---\n",
    "# Refine the job titles"
   ]
  },
  {
   "cell_type": "markdown",
   "id": "a9c310fe-8746-4726-ace5-7b5c91891a7f",
   "metadata": {},
   "source": [
    "Let's limit ourselves to job titles that appear at few times."
   ]
  },
  {
   "cell_type": "code",
   "execution_count": 23,
   "id": "9edbf5ae-8707-4222-adee-5095bdf587f9",
   "metadata": {},
   "outputs": [
    {
     "data": {
      "text/plain": [
       "(933,\n",
       " Index(['Assistant Manager', 'Management Accountant', 'Project Manager',\n",
       "        'Mechanical Design Engineer', 'Business Development Manager',\n",
       "        'Finance Manager', 'Accounts Assistant', 'Sales Executive',\n",
       "        'Kitchen Manager', 'General Manager',\n",
       "        ...\n",
       "        'Energy Auditor', 'Senior Payroll Administrator', 'Care Manager',\n",
       "        'Executive Recruitment Consultant', 'Programme Delivery Manager',\n",
       "        'Head of Communications', 'RESTAURANT MANAGER', 'Mechanical Supervisor',\n",
       "        'Public Sector', 'Healthcare Consultant'],\n",
       "       dtype='object', length=933))"
      ]
     },
     "execution_count": 23,
     "metadata": {},
     "output_type": "execute_result"
    }
   ],
   "source": [
    "s = processed_Adzuna.Title.value_counts()\n",
    "frequent_job_titles = s[s>3].index\n",
    "len(frequent_job_titles), frequent_job_titles"
   ]
  },
  {
   "cell_type": "code",
   "execution_count": 24,
   "id": "a69799c1-946c-4d87-a770-ee323dd3be9b",
   "metadata": {},
   "outputs": [
    {
     "data": {
      "text/plain": [
       "13026"
      ]
     },
     "execution_count": 24,
     "metadata": {},
     "output_type": "execute_result"
    }
   ],
   "source": [
    "mask_frequent_job_titles = processed_Adzuna.Title.isin(set(frequent_job_titles))\n",
    "mask_frequent_job_titles.sum()"
   ]
  },
  {
   "cell_type": "markdown",
   "id": "47b9e5cb-6bdf-43be-bd68-419db7b0c305",
   "metadata": {},
   "source": [
    "Let's look at the length of the full descriptions."
   ]
  },
  {
   "cell_type": "code",
   "execution_count": 25,
   "id": "481c197a-b272-46a3-8b25-b72a2ca2dd7f",
   "metadata": {},
   "outputs": [
    {
     "data": {
      "image/png": "[encoded data removed]",
      "text/plain": [
       "<Figure size 500x300 with 1 Axes>"
      ]
     },
     "metadata": {},
     "output_type": "display_data"
    }
   ],
   "source": [
    "processed_Adzuna.loc[mask_frequent_job_titles].FullDescription.str.len().map(np.log10).hist(bins=20, ec='w', grid=False, figsize=(5, 3));"
   ]
  },
  {
   "cell_type": "markdown",
   "id": "c6cc6441-c67e-478c-8d67-cabb59845b83",
   "metadata": {
    "tags": []
   },
   "source": [
    "---\n",
    "# Employers/Companies"
   ]
  },
  {
   "cell_type": "markdown",
   "id": "25628056-3111-4d22-997c-4b178b90fd2f",
   "metadata": {},
   "source": [
    "Restrict the data to employers which appear at least four times."
   ]
  },
  {
   "cell_type": "code",
   "execution_count": 26,
   "id": "ee0788ec-23e2-42d6-9618-fbafa18265bd",
   "metadata": {},
   "outputs": [
    {
     "data": {
      "text/plain": [
       "868"
      ]
     },
     "execution_count": 26,
     "metadata": {},
     "output_type": "execute_result"
    }
   ],
   "source": [
    "frequent_companies = set(processed_Adzuna.Company.value_counts().pipe(lambda s: s[s>3]).index)\n",
    "len(frequent_companies)"
   ]
  },
  {
   "cell_type": "code",
   "execution_count": 27,
   "id": "aa6d6252-3013-4980-b36b-f627d5eb7af3",
   "metadata": {},
   "outputs": [
    {
     "data": {
      "text/plain": [
       "18536"
      ]
     },
     "execution_count": 27,
     "metadata": {},
     "output_type": "execute_result"
    }
   ],
   "source": [
    "mask_frequent_companies = processed_Adzuna.Company.isin(frequent_companies)\n",
    "mask_frequent_companies.sum()"
   ]
  },
  {
   "cell_type": "markdown",
   "id": "5a112e5d-7a6b-4342-9666-cbeb2fcf3df7",
   "metadata": {},
   "source": [
    "# Select data based on frequent jobs and companies"
   ]
  },
  {
   "cell_type": "code",
   "execution_count": 28,
   "id": "684dd90e-ad6a-412d-8e83-6a16542ef725",
   "metadata": {},
   "outputs": [],
   "source": [
    "selection_Adzuna = processed_Adzuna.loc[np.logical_and(mask_frequent_job_titles, mask_frequent_companies)]"
   ]
  },
  {
   "cell_type": "code",
   "execution_count": 29,
   "id": "2bdcddd6-230e-4892-8354-a179596f6f6b",
   "metadata": {},
   "outputs": [
    {
     "data": {
      "text/plain": [
       "(11597, 10)"
      ]
     },
     "execution_count": 29,
     "metadata": {},
     "output_type": "execute_result"
    }
   ],
   "source": [
    "selection_Adzuna.shape"
   ]
  },
  {
   "cell_type": "code",
   "execution_count": 30,
   "id": "04e0e576-ac3f-4881-9f9a-b6fc196e42bc",
   "metadata": {},
   "outputs": [],
   "source": [
    "pattern_url_email = regex.compile(\"(http)|(www)|@\", flags=regex.M)\n",
    "pattern_non_words = regex.compile(\"[^A-z0-9&,/':\\. ]\")\n",
    "pattern_stars = regex.compile(\"\\*+\")\n",
    "\n",
    "def clean_text(comp):\n",
    "    comp = pattern_url_email.sub('', comp)\n",
    "    comp = pattern_stars.sub(' ', comp)\n",
    "    comp = pattern_non_words.sub(' ', comp)\n",
    "    comp = pattern_multiple_blanks.sub(' ', comp)\n",
    "    return comp    "
   ]
  },
  {
   "cell_type": "code",
   "execution_count": 31,
   "id": "17a9096d-4517-4217-b356-1daeb028ad5f",
   "metadata": {},
   "outputs": [
    {
     "data": {
      "application/vnd.jupyter.widget-view+json": {
       "model_id": "2b81c869963b464283dbd7c061515773",
       "version_major": 2,
       "version_minor": 0
      },
      "text/plain": [
       "Pandas Apply:   0%|          | 0/11597 [00:00<?, ?it/s]"
      ]
     },
     "metadata": {},
     "output_type": "display_data"
    },
    {
     "data": {
      "text/plain": [
       "798"
      ]
     },
     "execution_count": 31,
     "metadata": {},
     "output_type": "execute_result"
    }
   ],
   "source": [
    "employers = sorted(\n",
    "        set(selection_Adzuna.Company.swifter.apply(clean_text).dropna().values), \n",
    "    key=len, reverse=True)\n",
    "\n",
    "employers = [e for e in employers \n",
    "             if (pattern_non_words.search(e) is None) and (pattern_url_email.search(e) is None)]\n",
    "len(employers)"
   ]
  },
  {
   "cell_type": "code",
   "execution_count": 32,
   "id": "6845de4e-3374-4e0f-987f-cd8cb51be58a",
   "metadata": {},
   "outputs": [
    {
     "name": "stdout",
     "output_type": "stream",
     "text": [
      "['ARM', 'ATA', 'Abacus', 'Annapurna', 'Browns', 'CPL', 'CPS', 'Capita', 'Certes', 'Convert', 'EE', 'Empiric', 'Europa', 'Exclusive', 'Gold', 'Harvester', 'Hays', 'Hudson', 'Iceland', 'London', 'Metropolitan', 'PRS', 'Pavers', 'Prospectus', 'Real', 'Reed', 'STR', 'Salt', 'Spire', 'Stopgap', 'Synergy', 'Taskmaster', 'Tate', 'Three', 'Travail', 'Triad', 'UNICEF', 'Volt', 'WIS', 'Zurich', 'eNL', 'ecomrecruitment.com', 'hyphen']\n"
     ]
    }
   ],
   "source": [
    "single_word_employer = {item for item in employers if len(item.split())==1}\n",
    "ambiguous_employers = [item for item in single_word_employer if is_word(item.lower())\n",
    "                       or ('.com' in item) \n",
    "                       or ('cv' in item.lower())\n",
    "                      ]\n",
    "print(sorted(ambiguous_employers))"
   ]
  },
  {
   "cell_type": "code",
   "execution_count": 33,
   "id": "3cacd14e-29b3-4cdd-aa9c-c259a92154c7",
   "metadata": {},
   "outputs": [
    {
     "data": {
      "text/plain": [
       "755"
      ]
     },
     "execution_count": 33,
     "metadata": {},
     "output_type": "execute_result"
    }
   ],
   "source": [
    "employers = sorted(list(set(employers) - set(ambiguous_employers)), key=len, reverse=True)\n",
    "len(employers)"
   ]
  },
  {
   "cell_type": "code",
   "execution_count": 34,
   "id": "80d7d864-5366-46c6-90d2-19bd59e05713",
   "metadata": {},
   "outputs": [
    {
     "data": {
      "text/plain": [
       "['LA International Computer Consultants Ltd',\n",
       " 'Strata Construction Consulting UK Ltd',\n",
       " 'Robinson Keane Finance Professionals',\n",
       " 'Specialist Recruitment Partners LTD',\n",
       " 'Trickett Ames Recruitment Solutions']"
      ]
     },
     "execution_count": 34,
     "metadata": {},
     "output_type": "execute_result"
    }
   ],
   "source": [
    "employers[:5]"
   ]
  },
  {
   "cell_type": "code",
   "execution_count": 35,
   "id": "79a4adda-1476-4afe-8aa8-de594c2ab45b",
   "metadata": {},
   "outputs": [
    {
     "data": {
      "text/plain": [
       "['Randstad Financial & Professional',\n",
       " \"Saint Michael's Hospice\",\n",
       " 'Sizzling Pub Co.',\n",
       " \"O'Neill's\"]"
      ]
     },
     "execution_count": 35,
     "metadata": {},
     "output_type": "execute_result"
    }
   ],
   "source": [
    "[e for e in employers if pattern_punctuation.search(e)]"
   ]
  },
  {
   "cell_type": "markdown",
   "id": "456c996d-7252-4c2e-ba10-a7e68c92778c",
   "metadata": {},
   "source": [
    "### Filter out employers that do not appear frequently enough"
   ]
  },
  {
   "cell_type": "code",
   "execution_count": 36,
   "id": "0cbe9dc2-6d0e-4154-a843-dc26fd22b882",
   "metadata": {},
   "outputs": [
    {
     "data": {
      "text/plain": [
       "0.8978184013106838"
      ]
     },
     "execution_count": 36,
     "metadata": {},
     "output_type": "execute_result"
    }
   ],
   "source": [
    "selection_Adzuna.Company.isin(employers).mean()"
   ]
  },
  {
   "cell_type": "code",
   "execution_count": 37,
   "id": "cb8c08d9-b2fb-460c-8fde-0b779f32cb6f",
   "metadata": {},
   "outputs": [],
   "source": [
    "selection_Adzuna = selection_Adzuna[selection_Adzuna.Company.isin(employers)]"
   ]
  },
  {
   "cell_type": "code",
   "execution_count": 38,
   "id": "110bf4fa-cd6e-44c6-a2ad-2340a3e68561",
   "metadata": {},
   "outputs": [
    {
     "data": {
      "text/plain": [
       "(10412, 10)"
      ]
     },
     "execution_count": 38,
     "metadata": {},
     "output_type": "execute_result"
    }
   ],
   "source": [
    "selection_Adzuna.shape"
   ]
  },
  {
   "cell_type": "markdown",
   "id": "423501fc-6ada-47a4-adef-e0c41d26405f",
   "metadata": {},
   "source": [
    "### Take a closer look at the single word titles"
   ]
  },
  {
   "cell_type": "code",
   "execution_count": 39,
   "id": "94f8907e-345a-4cdb-b75c-51ee2e9c5c59",
   "metadata": {},
   "outputs": [
    {
     "data": {
      "text/plain": [
       "array(['Manager', 'Buyer', 'Electrician', 'Paralegal', 'Solicitor',\n",
       "       'Inspector', 'Joiner', 'Chef', 'Housekeeper', 'Accountant',\n",
       "       'Analyst', 'Driver', 'Administrator', 'Carpenter', 'Estimator',\n",
       "       'Underwriter', 'Butcher', 'Cashier', 'Receptionist', 'Welder',\n",
       "       'Optometrist', 'Merchandiser', 'Cook', 'Toolmaker', 'Bookkeeper',\n",
       "       'Cleaner', 'Payroll', 'Secretary', 'Trainer', 'PA', 'Developer',\n",
       "       'Designer', 'Technician', 'Scheduler', 'Plumber', 'Copywriter',\n",
       "       'Labourer', 'Planner', 'Draughtsman', 'Supervisor', 'Auditor',\n",
       "       'Machinist', 'Ombudsman', 'Wireman', 'Fitter', 'Caretaker',\n",
       "       'Engineer', 'Sommelier', 'QP'], dtype=object)"
      ]
     },
     "execution_count": 39,
     "metadata": {},
     "output_type": "execute_result"
    }
   ],
   "source": [
    "selection_Adzuna[selection_Adzuna.Title.str.split().str.len()==1].Title.unique()"
   ]
  },
  {
   "cell_type": "code",
   "execution_count": 40,
   "id": "8df198d3-800d-4721-a092-12ffee485ca3",
   "metadata": {},
   "outputs": [
    {
     "data": {
      "text/plain": [
       "array(['QP  Salary Neg North England Leading Pharmaceutical Company Cubiq Recruitment is working with a leading pharmaceutical company and due to their rapid growth they are looking for an experienced QP to join their team. This is a great opportunity to further your experience in quality assurance and different dosage forms of products. Your role will be a strict QP position where your main duties will focus on batch review and release of the commercial products. You will also be involved with planning and implementing internal and external audits as well as maintaining the quality management system (QMS) This position gives you the perfect opportunity to further your career by expanding on your experience and will also give you the opportunity to join a company that is rapidly expanding not just in the UK but across the EU'],\n",
       "      dtype=object)"
      ]
     },
     "execution_count": 40,
     "metadata": {},
     "output_type": "execute_result"
    }
   ],
   "source": [
    "selection_Adzuna[selection_Adzuna.Title=='QP']['FullDescription'].values"
   ]
  },
  {
   "cell_type": "markdown",
   "id": "221504a8-410e-4a56-8956-ddcd2ca06893",
   "metadata": {},
   "source": [
    "Exclude a few more vague employer names."
   ]
  },
  {
   "cell_type": "code",
   "execution_count": 41,
   "id": "08b98654-acf9-4445-bfdb-180fa326265b",
   "metadata": {},
   "outputs": [],
   "source": [
    "exclusion = {\n",
    "    'Year','TLO','QP','Brent','BA','PA','CORPORATE','FUNDS','Costs','IT',\n",
    "    'Executive','Payroll','Financial','Reception','Domestic','Public Sector','Audit',\n",
    "}"
   ]
  },
  {
   "cell_type": "code",
   "execution_count": 42,
   "id": "d16228e3-7374-4828-aa7a-325132032c1b",
   "metadata": {},
   "outputs": [],
   "source": [
    "selection_Adzuna = selection_Adzuna[~selection_Adzuna.Title.isin(exclusion)]"
   ]
  },
  {
   "cell_type": "code",
   "execution_count": 43,
   "id": "8c9f03b4-44ff-4ea6-87d6-c555da3654f0",
   "metadata": {},
   "outputs": [
    {
     "data": {
      "text/plain": [
       "array(['Manager', 'Buyer', 'Electrician', 'Paralegal', 'Solicitor',\n",
       "       'Inspector', 'Joiner', 'Chef', 'Housekeeper', 'Accountant',\n",
       "       'Analyst', 'Driver', 'Administrator', 'Carpenter', 'Estimator',\n",
       "       'Underwriter', 'Butcher', 'Cashier', 'Receptionist', 'Welder',\n",
       "       'Optometrist', 'Merchandiser', 'Cook', 'Toolmaker', 'Bookkeeper',\n",
       "       'Cleaner', 'Secretary', 'Trainer', 'Developer', 'Designer',\n",
       "       'Technician', 'Scheduler', 'Plumber', 'Copywriter', 'Labourer',\n",
       "       'Planner', 'Draughtsman', 'Supervisor', 'Auditor', 'Machinist',\n",
       "       'Ombudsman', 'Wireman', 'Fitter', 'Caretaker', 'Engineer',\n",
       "       'Sommelier'], dtype=object)"
      ]
     },
     "execution_count": 43,
     "metadata": {},
     "output_type": "execute_result"
    }
   ],
   "source": [
    "selection_Adzuna[selection_Adzuna.Title.str.split().str.len()==1].Title.unique()"
   ]
  },
  {
   "cell_type": "code",
   "execution_count": 44,
   "id": "d38573ea-a61f-4a31-b408-7127c213fa72",
   "metadata": {},
   "outputs": [
    {
     "data": {
      "text/plain": [
       "(10387, 10)"
      ]
     },
     "execution_count": 44,
     "metadata": {},
     "output_type": "execute_result"
    }
   ],
   "source": [
    "selection_Adzuna.shape"
   ]
  },
  {
   "cell_type": "code",
   "execution_count": 45,
   "id": "5e887230-0823-41d5-a896-fe819c71523b",
   "metadata": {},
   "outputs": [
    {
     "data": {
      "text/html": [
       "<div>\n",
       "<style scoped>\n",
       "    .dataframe tbody tr th:only-of-type {\n",
       "        vertical-align: middle;\n",
       "    }\n",
       "\n",
       "    .dataframe tbody tr th {\n",
       "        vertical-align: top;\n",
       "    }\n",
       "\n",
       "    .dataframe thead th {\n",
       "        text-align: right;\n",
       "    }\n",
       "</style>\n",
       "<table border=\"1\" class=\"dataframe\">\n",
       "  <thead>\n",
       "    <tr style=\"text-align: right;\">\n",
       "      <th></th>\n",
       "      <th>Id</th>\n",
       "      <th>Title</th>\n",
       "      <th>FullDescription</th>\n",
       "      <th>LocationRaw</th>\n",
       "      <th>LocationNormalized</th>\n",
       "      <th>ContractType</th>\n",
       "      <th>ContractTime</th>\n",
       "      <th>Company</th>\n",
       "      <th>Category</th>\n",
       "      <th>SourceName</th>\n",
       "    </tr>\n",
       "  </thead>\n",
       "  <tbody>\n",
       "    <tr>\n",
       "      <th>188671</th>\n",
       "      <td>72654414.0</td>\n",
       "      <td>Marketing Finance Controller</td>\n",
       "      <td>Marketing Finance Controller, Oxford, Oxfordsh...</td>\n",
       "      <td>South East England, Oxfordshire</td>\n",
       "      <td>Oxfordshire</td>\n",
       "      <td>None</td>\n",
       "      <td>None</td>\n",
       "      <td>Vitae Financial Recruitment</td>\n",
       "      <td>Other/General Jobs</td>\n",
       "      <td>theladders.co.uk</td>\n",
       "    </tr>\n",
       "    <tr>\n",
       "      <th>205699</th>\n",
       "      <td>68359762.0</td>\n",
       "      <td>Agile Business Analyst</td>\n",
       "      <td>Agile Business Analyst Agile, Prince**** SCRUM...</td>\n",
       "      <td>Leeds West Yorkshire Yorkshire</td>\n",
       "      <td>Leeds</td>\n",
       "      <td>None</td>\n",
       "      <td>permanent</td>\n",
       "      <td>TEKsystems</td>\n",
       "      <td>IT Jobs</td>\n",
       "      <td>cwjobs.co.uk</td>\n",
       "    </tr>\n",
       "    <tr>\n",
       "      <th>281449</th>\n",
       "      <td>72447862.0</td>\n",
       "      <td>Key Account Manager</td>\n",
       "      <td>Job Title: Key Account Manager Location: North...</td>\n",
       "      <td>North West</td>\n",
       "      <td>North West London</td>\n",
       "      <td>None</td>\n",
       "      <td>permanent</td>\n",
       "      <td>Cavendish Maine</td>\n",
       "      <td>Sales Jobs</td>\n",
       "      <td>totaljobs.com</td>\n",
       "    </tr>\n",
       "    <tr>\n",
       "      <th>105029</th>\n",
       "      <td>70438694.0</td>\n",
       "      <td>Mechanical Design Engineer</td>\n",
       "      <td>A skilled Mechanical Design Engineer position ...</td>\n",
       "      <td>Sheffield, South Yorkshire</td>\n",
       "      <td>Sheffield</td>\n",
       "      <td>None</td>\n",
       "      <td>permanent</td>\n",
       "      <td>White Recruitment Ltd</td>\n",
       "      <td>Engineering Jobs</td>\n",
       "      <td>cv-library.co.uk</td>\n",
       "    </tr>\n",
       "    <tr>\n",
       "      <th>320209</th>\n",
       "      <td>72694209.0</td>\n",
       "      <td>Service Engineer</td>\n",
       "      <td>Field Service Engineer (ElectroMechanical) As ...</td>\n",
       "      <td>carlisle Newcastle Tyne and Wear England</td>\n",
       "      <td>UK</td>\n",
       "      <td>None</td>\n",
       "      <td>None</td>\n",
       "      <td>ATA Recruitment</td>\n",
       "      <td>Engineering Jobs</td>\n",
       "      <td>gojobsearch.co.uk</td>\n",
       "    </tr>\n",
       "  </tbody>\n",
       "</table>\n",
       "</div>"
      ],
      "text/plain": [
       "                Id                         Title  \\\n",
       "188671  72654414.0  Marketing Finance Controller   \n",
       "205699  68359762.0        Agile Business Analyst   \n",
       "281449  72447862.0           Key Account Manager   \n",
       "105029  70438694.0    Mechanical Design Engineer   \n",
       "320209  72694209.0              Service Engineer   \n",
       "\n",
       "                                          FullDescription  \\\n",
       "188671  Marketing Finance Controller, Oxford, Oxfordsh...   \n",
       "205699  Agile Business Analyst Agile, Prince**** SCRUM...   \n",
       "281449  Job Title: Key Account Manager Location: North...   \n",
       "105029  A skilled Mechanical Design Engineer position ...   \n",
       "320209  Field Service Engineer (ElectroMechanical) As ...   \n",
       "\n",
       "                                     LocationRaw LocationNormalized  \\\n",
       "188671           South East England, Oxfordshire        Oxfordshire   \n",
       "205699            Leeds West Yorkshire Yorkshire              Leeds   \n",
       "281449                                North West  North West London   \n",
       "105029                Sheffield, South Yorkshire          Sheffield   \n",
       "320209  carlisle Newcastle Tyne and Wear England                 UK   \n",
       "\n",
       "       ContractType ContractTime                      Company  \\\n",
       "188671         None         None  Vitae Financial Recruitment   \n",
       "205699         None    permanent                   TEKsystems   \n",
       "281449         None    permanent              Cavendish Maine   \n",
       "105029         None    permanent        White Recruitment Ltd   \n",
       "320209         None         None              ATA Recruitment   \n",
       "\n",
       "                  Category         SourceName  \n",
       "188671  Other/General Jobs   theladders.co.uk  \n",
       "205699             IT Jobs       cwjobs.co.uk  \n",
       "281449          Sales Jobs      totaljobs.com  \n",
       "105029    Engineering Jobs   cv-library.co.uk  \n",
       "320209    Engineering Jobs  gojobsearch.co.uk  "
      ]
     },
     "execution_count": 45,
     "metadata": {},
     "output_type": "execute_result"
    }
   ],
   "source": [
    "selection_Adzuna.sample(5, random_state=0)"
   ]
  },
  {
   "cell_type": "markdown",
   "id": "bf95d43f-ae27-42a8-8262-3c74e2ea73cf",
   "metadata": {},
   "source": [
    "## Remove star symbols and multiple blanks from Full Description."
   ]
  },
  {
   "cell_type": "code",
   "execution_count": 46,
   "id": "ef618ab4-b47e-4209-b345-ac880103b982",
   "metadata": {},
   "outputs": [],
   "source": [
    "def clean_job_description(d):\n",
    "    d = pattern_url_email.sub('', d)\n",
    "    d = pattern_stars.sub(' ', d)\n",
    "    d = pattern_multiple_blanks.sub(' ', d)\n",
    "    return d    "
   ]
  },
  {
   "cell_type": "code",
   "execution_count": 47,
   "id": "a12ae583-e766-43b8-85c5-87cffc44bfd1",
   "metadata": {},
   "outputs": [
    {
     "data": {
      "application/vnd.jupyter.widget-view+json": {
       "model_id": "f8daf34875dc42ceb6e10725a3338a62",
       "version_major": 2,
       "version_minor": 0
      },
      "text/plain": [
       "Pandas Apply:   0%|          | 0/10387 [00:00<?, ?it/s]"
      ]
     },
     "metadata": {},
     "output_type": "display_data"
    },
    {
     "name": "stdout",
     "output_type": "stream",
     "text": [
      "CPU times: user 1.3 s, sys: 15.6 ms, total: 1.31 s\n",
      "Wall time: 1.31 s\n"
     ]
    }
   ],
   "source": [
    "%%time\n",
    "selection_Adzuna['FullDescription'] = selection_Adzuna.FullDescription.swifter.apply(clean_job_description)"
   ]
  },
  {
   "cell_type": "code",
   "execution_count": 48,
   "id": "3a321c7d-6bae-4571-9b86-7ca91e33b4a8",
   "metadata": {},
   "outputs": [
    {
     "data": {
      "text/plain": [
       "array(['Marketing Finance Controller, Oxford, Oxfordshire kpa Plus Benefits Our Client, a world leading, multinational based at their impressive European Headquarters in Oxford are currently looking to source an ambitious, high calibre Marketing Finance Manager on a permanent basis. This is an exciting opportunity within a global organisation where numerical and analytical skills combined with strong interpersonal and business partnering skills are critical. The role requires someone who can influence and support the business to maximise value creation with insightful and actionable financial analysis for all significant marketing investment decisions. The role will include the following key areas: Work with the Marketing teams to ensure that business performance is clear and the drivers of performance are understood, including promotion trends, brand/ customer profitability and external competitor analysis. Develop financial analysis that challenges evaluates all marketing investment decisions and contribute to brand strategy development including price/ promotional strategies. Provide leadership to brand teams through all planning processes including forecasting/ budget and strategic planning. Meet with seniority including nonfinance staff on a periodic basis to provide performance analysis and updating on key projects and finance alignment. The successful candidate will be qualified (ACCA/CIMA/ACA) with a strong academic background with future progression opportunities available for those that show drive, determination and ultimately achieve results. Most importantly you will be confident, able to challenge Senior Management and be a self starter with the ability to go to various sources to gather information required. AGY Vitae Financial Recruitment We Exist To Be Different Membership NOT Registration',\n",
       "       \"Agile Business Analyst Agile, Prince SCRUM, XP, DSDM, RUP, UAT/OAT Test Our client is Britain's premier IT financial consultancy firm providing its own international client base with revolutionary software services derived from its unique culture (Agile, SCRUM, XP,DSDM,RUP), is searching for a wellrounded, highly successful, highly technically talented Business Analyst This Business Analyst must have had 7 years of IT delivery experience from a variety of industries, experience and recovery of full project lifecycles, 5 years as a Business Analyst and experience gained from working in the finance/trading industry. The ideal Business Analyst would have had strong stakeholder management across the business, business process analysis, good understanding of project team dynamics and a rigorous attention to detail. The ideal Agile Business Analyst already established consultancy experience with a wide experience of working with Agile methodologies (Agile, Prince SCRUM, XP, DSDM, RUP). My client prides itself on its ability to combine world class testing, development and consulting and so candidates should present a profile that reflects this. This is a unique and exciting opportunity for an Agile Business Analyst that offers a variety of work with a mixture of FTSE 100 clients while restricting the consultancy primarily to their respective areas. The ideal skills for this particular role is: Ideally experience in Financial Sector among others. 5 Years experience as a Business Analyst 7 Years experience working in IT Agile (SCRUM,XP,DSDM,RUP) Extensive Stakeholder management skills Implementation and execution of change management Team Leadership skills Consultancy experience This role is urgent so please submit your CV to drobinsonteksystems.co.uk for immediate information on this opportunity or ring direct on and request Daniel Robinson Allegis Group Limited and Aston Carter Limited operate Employment Businesses and Agencies and are companies within the Allegis Group Inc. group of companies, the fourth largest staffing company in the world, (collectively referred to as the 'Allegis Group'). TEKsystems and Aerotek are divisions of Allegis Group Limited. Applicant data will be treated in accordance with the Allegis Group's Privacy Notice ://.allegisgroup.com/Privacy/Default.aspx). By submitting personal data to any company or division within the Allegis Group, the applicant is providing explicit consent to the use of such data by the Allegis Group and to the transfer of such data to and from the Allegis Group companies within the UK, Europe and outside the European Economic Area in connection with the fulfilment of the applicant's voluntary requests, and the fulfilment of other job opportunities that match the applicant's profile, and confirms that they may be contacted about such job opportunities. This job was originally posted as .cwjobs.co.uk/JobSeeking/AgileBusinessAnalyst_job \"],\n",
       "      dtype=object)"
      ]
     },
     "execution_count": 48,
     "metadata": {},
     "output_type": "execute_result"
    }
   ],
   "source": [
    "selection_Adzuna.FullDescription.sample(2, random_state=0).values"
   ]
  },
  {
   "cell_type": "code",
   "execution_count": 49,
   "id": "f7c095a5-fc9f-45bc-9db2-e692b4f6a22a",
   "metadata": {},
   "outputs": [
    {
     "data": {
      "image/png": "[encoded data removed]",
      "text/plain": [
       "<Figure size 500x300 with 1 Axes>"
      ]
     },
     "metadata": {},
     "output_type": "display_data"
    }
   ],
   "source": [
    "selection_Adzuna.FullDescription.str.len().map(np.log10).plot.hist(bins=25, ec='w', figsize=(5, 3));"
   ]
  },
  {
   "cell_type": "code",
   "execution_count": 50,
   "id": "4262e624-793a-439c-b99b-fba05dd28bc4",
   "metadata": {},
   "outputs": [
    {
     "data": {
      "text/plain": [
       "9498"
      ]
     },
     "execution_count": 50,
     "metadata": {},
     "output_type": "execute_result"
    }
   ],
   "source": [
    "mask_length = selection_Adzuna.FullDescription.str.len().map(np.log10).between(2.5, 3.5)\n",
    "mask_length.sum()"
   ]
  },
  {
   "cell_type": "code",
   "execution_count": 51,
   "id": "24aec9c7-5478-43d9-9606-538307be7a34",
   "metadata": {},
   "outputs": [
    {
     "name": "stdout",
     "output_type": "stream",
     "text": [
      "<class 'pandas.core.frame.DataFrame'>\n",
      "Int64Index: 10387 entries, 82 to 320258\n",
      "Data columns (total 10 columns):\n",
      " #   Column              Non-Null Count  Dtype  \n",
      "---  ------              --------------  -----  \n",
      " 0   Id                  10387 non-null  float64\n",
      " 1   Title               10387 non-null  object \n",
      " 2   FullDescription     10387 non-null  object \n",
      " 3   LocationRaw         10387 non-null  object \n",
      " 4   LocationNormalized  10387 non-null  object \n",
      " 5   ContractType        1996 non-null   object \n",
      " 6   ContractTime        8255 non-null   object \n",
      " 7   Company             10387 non-null  object \n",
      " 8   Category            10387 non-null  object \n",
      " 9   SourceName          10387 non-null  object \n",
      "dtypes: float64(1), object(9)\n",
      "memory usage: 1.1+ MB\n"
     ]
    }
   ],
   "source": [
    "selection_Adzuna.info()"
   ]
  },
  {
   "cell_type": "code",
   "execution_count": 52,
   "id": "70047897-714e-4f49-9b17-e58e1cf670c3",
   "metadata": {},
   "outputs": [],
   "source": [
    "selection_Adzuna.Id = selection_Adzuna.Id.astype('int32')\n",
    "assert not (selection_Adzuna.Id < 0).any()"
   ]
  },
  {
   "cell_type": "code",
   "execution_count": 53,
   "id": "287ca013-6358-42de-9483-66f421dd59b8",
   "metadata": {},
   "outputs": [
    {
     "data": {
      "text/html": [
       "<div>\n",
       "<style scoped>\n",
       "    .dataframe tbody tr th:only-of-type {\n",
       "        vertical-align: middle;\n",
       "    }\n",
       "\n",
       "    .dataframe tbody tr th {\n",
       "        vertical-align: top;\n",
       "    }\n",
       "\n",
       "    .dataframe thead th {\n",
       "        text-align: right;\n",
       "    }\n",
       "</style>\n",
       "<table border=\"1\" class=\"dataframe\">\n",
       "  <thead>\n",
       "    <tr style=\"text-align: right;\">\n",
       "      <th></th>\n",
       "      <th>Id</th>\n",
       "      <th>Title</th>\n",
       "      <th>FullDescription</th>\n",
       "      <th>LocationRaw</th>\n",
       "      <th>LocationNormalized</th>\n",
       "      <th>ContractType</th>\n",
       "      <th>ContractTime</th>\n",
       "      <th>Company</th>\n",
       "      <th>Category</th>\n",
       "      <th>SourceName</th>\n",
       "    </tr>\n",
       "  </thead>\n",
       "  <tbody>\n",
       "    <tr>\n",
       "      <th>82</th>\n",
       "      <td>36757414</td>\n",
       "      <td>Primary Teachers</td>\n",
       "      <td>Are you a qualified/newly qualified teacher lo...</td>\n",
       "      <td>South Yorkshire</td>\n",
       "      <td>South Yorkshire</td>\n",
       "      <td>None</td>\n",
       "      <td>contract</td>\n",
       "      <td>Vision for Education</td>\n",
       "      <td>Teaching Jobs</td>\n",
       "      <td>cv-library.co.uk</td>\n",
       "    </tr>\n",
       "    <tr>\n",
       "      <th>121</th>\n",
       "      <td>44452524</td>\n",
       "      <td>Chef De Partie</td>\n",
       "      <td>Chef De Partie Rustic Italian AA Rosette resta...</td>\n",
       "      <td>Colchester Essex South East</td>\n",
       "      <td>UK</td>\n",
       "      <td>None</td>\n",
       "      <td>None</td>\n",
       "      <td>Clear Selection</td>\n",
       "      <td>Hospitality &amp; Catering Jobs</td>\n",
       "      <td>caterer.com</td>\n",
       "    </tr>\n",
       "  </tbody>\n",
       "</table>\n",
       "</div>"
      ],
      "text/plain": [
       "           Id             Title  \\\n",
       "82   36757414  Primary Teachers   \n",
       "121  44452524    Chef De Partie   \n",
       "\n",
       "                                       FullDescription  \\\n",
       "82   Are you a qualified/newly qualified teacher lo...   \n",
       "121  Chef De Partie Rustic Italian AA Rosette resta...   \n",
       "\n",
       "                     LocationRaw LocationNormalized ContractType ContractTime  \\\n",
       "82               South Yorkshire    South Yorkshire         None     contract   \n",
       "121  Colchester Essex South East                 UK         None         None   \n",
       "\n",
       "                  Company                     Category        SourceName  \n",
       "82   Vision for Education                Teaching Jobs  cv-library.co.uk  \n",
       "121       Clear Selection  Hospitality & Catering Jobs       caterer.com  "
      ]
     },
     "execution_count": 53,
     "metadata": {},
     "output_type": "execute_result"
    }
   ],
   "source": [
    "selection_Adzuna.head(2)"
   ]
  },
  {
   "cell_type": "markdown",
   "id": "1133ba6c-5cbc-43f9-b331-db1c65ebd61f",
   "metadata": {},
   "source": [
    "## Save the cleaned data to disk"
   ]
  },
  {
   "cell_type": "code",
   "execution_count": 54,
   "id": "686d3550-29fa-4619-a1c6-6f84dc562df8",
   "metadata": {},
   "outputs": [],
   "source": [
    "# hash the dataframe to uniquely identify different versions\n",
    "def pd2hash(df):\n",
    "    return hashlib.sha1(pd.util.hash_pandas_object(df).values).hexdigest() "
   ]
  },
  {
   "cell_type": "code",
   "execution_count": 55,
   "id": "5e962708-ea6e-4236-b3e0-072a4f598f0c",
   "metadata": {},
   "outputs": [
    {
     "data": {
      "text/plain": [
       "'fba836ee1bdf4fda32004145ffe1eeb8d3c6b5f1'"
      ]
     },
     "execution_count": 55,
     "metadata": {},
     "output_type": "execute_result"
    }
   ],
   "source": [
    "data_hash = pd2hash(selection_Adzuna) \n",
    "data_hash"
   ]
  },
  {
   "cell_type": "code",
   "execution_count": 56,
   "id": "1af7747c-dfd0-467a-af0c-83a3e8553b0d",
   "metadata": {},
   "outputs": [
    {
     "name": "stdout",
     "output_type": "stream",
     "text": [
      "saved data file to parquet...\n"
     ]
    }
   ],
   "source": [
    "path = Path(f'./experiments/data_{data_hash}')\n",
    "try:\n",
    "    path.mkdir(parents=True)\n",
    "except FileExistsError:\n",
    "    print(f'{path.name} already exists...')\n",
    "    \n",
    "filename = path/f'Adzuna_job_data_{data_hash}_docs.parq'\n",
    "if not filename.exists():\n",
    "    selection_Adzuna.to_parquet(filename)\n",
    "    print('saved data file to parquet...')\n",
    "else:\n",
    "    print('File already exists...')"
   ]
  },
  {
   "cell_type": "markdown",
   "id": "f9c62433-dcc4-4bcf-a78d-21f0c4f73795",
   "metadata": {},
   "source": [
    "## Split text into sentences."
   ]
  },
  {
   "cell_type": "code",
   "execution_count": 57,
   "id": "98b8f63a-4662-45cb-b8c0-d55ad70debc2",
   "metadata": {},
   "outputs": [
    {
     "data": {
      "text/html": [
       "<div>\n",
       "<style scoped>\n",
       "    .dataframe tbody tr th:only-of-type {\n",
       "        vertical-align: middle;\n",
       "    }\n",
       "\n",
       "    .dataframe tbody tr th {\n",
       "        vertical-align: top;\n",
       "    }\n",
       "\n",
       "    .dataframe thead th {\n",
       "        text-align: right;\n",
       "    }\n",
       "</style>\n",
       "<table border=\"1\" class=\"dataframe\">\n",
       "  <thead>\n",
       "    <tr style=\"text-align: right;\">\n",
       "      <th></th>\n",
       "      <th>Id</th>\n",
       "      <th>Title</th>\n",
       "      <th>FullDescription</th>\n",
       "      <th>LocationRaw</th>\n",
       "      <th>LocationNormalized</th>\n",
       "      <th>ContractType</th>\n",
       "      <th>ContractTime</th>\n",
       "      <th>Company</th>\n",
       "      <th>Category</th>\n",
       "      <th>SourceName</th>\n",
       "    </tr>\n",
       "  </thead>\n",
       "  <tbody>\n",
       "    <tr>\n",
       "      <th>82</th>\n",
       "      <td>36757414</td>\n",
       "      <td>Primary Teachers</td>\n",
       "      <td>Are you a qualified/newly qualified teacher lo...</td>\n",
       "      <td>South Yorkshire</td>\n",
       "      <td>South Yorkshire</td>\n",
       "      <td>None</td>\n",
       "      <td>contract</td>\n",
       "      <td>Vision for Education</td>\n",
       "      <td>Teaching Jobs</td>\n",
       "      <td>cv-library.co.uk</td>\n",
       "    </tr>\n",
       "    <tr>\n",
       "      <th>121</th>\n",
       "      <td>44452524</td>\n",
       "      <td>Chef De Partie</td>\n",
       "      <td>Chef De Partie Rustic Italian AA Rosette resta...</td>\n",
       "      <td>Colchester Essex South East</td>\n",
       "      <td>UK</td>\n",
       "      <td>None</td>\n",
       "      <td>None</td>\n",
       "      <td>Clear Selection</td>\n",
       "      <td>Hospitality &amp; Catering Jobs</td>\n",
       "      <td>caterer.com</td>\n",
       "    </tr>\n",
       "  </tbody>\n",
       "</table>\n",
       "</div>"
      ],
      "text/plain": [
       "           Id             Title  \\\n",
       "82   36757414  Primary Teachers   \n",
       "121  44452524    Chef De Partie   \n",
       "\n",
       "                                       FullDescription  \\\n",
       "82   Are you a qualified/newly qualified teacher lo...   \n",
       "121  Chef De Partie Rustic Italian AA Rosette resta...   \n",
       "\n",
       "                     LocationRaw LocationNormalized ContractType ContractTime  \\\n",
       "82               South Yorkshire    South Yorkshire         None     contract   \n",
       "121  Colchester Essex South East                 UK         None         None   \n",
       "\n",
       "                  Company                     Category        SourceName  \n",
       "82   Vision for Education                Teaching Jobs  cv-library.co.uk  \n",
       "121       Clear Selection  Hospitality & Catering Jobs       caterer.com  "
      ]
     },
     "execution_count": 57,
     "metadata": {},
     "output_type": "execute_result"
    }
   ],
   "source": [
    "selection_Adzuna.head(2)"
   ]
  },
  {
   "cell_type": "code",
   "execution_count": 58,
   "id": "b0540675-1329-497e-8f4a-54c9cd54752c",
   "metadata": {},
   "outputs": [],
   "source": [
    "nlp = spacy.load('en_core_web_sm', enable=['senter'], disable=[])"
   ]
  },
  {
   "cell_type": "code",
   "execution_count": 59,
   "id": "91c445d6-f919-4742-9d90-c5ca0dd86177",
   "metadata": {},
   "outputs": [],
   "source": [
    "def get_sentences(row, nlp=None):\n",
    "    text = row['FullDescription']\n",
    "    doc_id = row['Id']\n",
    "    doc = nlp(text)\n",
    "    df = pd.DataFrame([(doc_id, i, s.text.strip()) for i, s in enumerate(doc.sents) if pattern_punctuation.sub('', s.text).strip()], \n",
    "                      columns=['doc_id', 'sent_id', 'sentence'])\n",
    "    return df"
   ]
  },
  {
   "cell_type": "code",
   "execution_count": 60,
   "id": "50a82644-3325-40af-8af8-fe4cf7deefa0",
   "metadata": {},
   "outputs": [
    {
     "data": {
      "text/plain": [
       "'Are you a qualified/newly qualified teacher looking for supply work in and around South Yorkshire? Do you want a new challenge with varied work, flexibility and great rates of pay? If so, Vision for Education can help We are currently looking for enthusiastic and dedicated KS and KS Primary Teachers for a number of schools across the area. Candidates must have an enthusiasm for teaching, a good knowledge of the national curriculum and excellent classroom and behaviour management skills. It is essential that you hold a valid, recognised teaching qualification and ideally you will have 6 weeks recent experience of teaching in the UK. We must also be able to contact your past school to obtain a reference. Vision for Education was started in by a group of like minded individuals with a desire for providing a quality service to customers. Our promise is to serve the education community, be it Teachers, Schools or Students alike to the highest possible standards. If you are looking for a primary, secondary or special needs teaching position, be it short or long term, then give us the opportunity to help you move your teaching career in the right direction. You need look no further than Vision for Education for a professional, friendly service, provided by an experienced team for all your requirements. If you feel you have the qualities we are looking for, and would like to know more call the office today'"
      ]
     },
     "execution_count": 60,
     "metadata": {},
     "output_type": "execute_result"
    }
   ],
   "source": [
    "t = selection_Adzuna.FullDescription.iloc[0]\n",
    "t"
   ]
  },
  {
   "cell_type": "code",
   "execution_count": 61,
   "id": "393cfe29-71d7-4a24-951b-3eb2af74528d",
   "metadata": {},
   "outputs": [
    {
     "data": {
      "application/vnd.jupyter.widget-view+json": {
       "model_id": "fe8d1cff0cc3499d9a2349451045f704",
       "version_major": 2,
       "version_minor": 0
      },
      "text/plain": [
       "Pandas Apply:   0%|          | 0/10387 [00:00<?, ?it/s]"
      ]
     },
     "metadata": {},
     "output_type": "display_data"
    },
    {
     "name": "stdout",
     "output_type": "stream",
     "text": [
      "CPU times: user 24.5 s, sys: 508 ms, total: 25 s\n",
      "Wall time: 25.1 s\n"
     ]
    }
   ],
   "source": [
    "%%time\n",
    "tmp = selection_Adzuna.swifter.apply(get_sentences, nlp=nlp, axis=1)"
   ]
  },
  {
   "cell_type": "code",
   "execution_count": 62,
   "id": "3c96a6f3-4357-4d2f-9584-1024217e2305",
   "metadata": {},
   "outputs": [
    {
     "name": "stdout",
     "output_type": "stream",
     "text": [
      "CPU times: user 526 ms, sys: 6.32 ms, total: 532 ms\n",
      "Wall time: 532 ms\n"
     ]
    }
   ],
   "source": [
    "%%time\n",
    "selection_Adzuna_sentences = pd.concat(tmp.values, ignore_index=True)"
   ]
  },
  {
   "cell_type": "code",
   "execution_count": 63,
   "id": "81f474bd-c8e2-4de2-9817-ce8cafdf1fc5",
   "metadata": {},
   "outputs": [],
   "source": [
    "selection_Adzuna_sentences = selection_Adzuna_sentences.assign(sent_len = lambda _: _.sentence.str.len())"
   ]
  },
  {
   "cell_type": "code",
   "execution_count": 64,
   "id": "86e4681e-1504-4a0c-8275-2ad9ff49189d",
   "metadata": {},
   "outputs": [
    {
     "data": {
      "text/html": [
       "<div>\n",
       "<style scoped>\n",
       "    .dataframe tbody tr th:only-of-type {\n",
       "        vertical-align: middle;\n",
       "    }\n",
       "\n",
       "    .dataframe tbody tr th {\n",
       "        vertical-align: top;\n",
       "    }\n",
       "\n",
       "    .dataframe thead th {\n",
       "        text-align: right;\n",
       "    }\n",
       "</style>\n",
       "<table border=\"1\" class=\"dataframe\">\n",
       "  <thead>\n",
       "    <tr style=\"text-align: right;\">\n",
       "      <th></th>\n",
       "      <th>doc_id</th>\n",
       "      <th>sent_id</th>\n",
       "      <th>sentence</th>\n",
       "      <th>sent_len</th>\n",
       "    </tr>\n",
       "  </thead>\n",
       "  <tbody>\n",
       "    <tr>\n",
       "      <th>0</th>\n",
       "      <td>36757414</td>\n",
       "      <td>0</td>\n",
       "      <td>Are you a qualified/newly qualified teacher lo...</td>\n",
       "      <td>98</td>\n",
       "    </tr>\n",
       "    <tr>\n",
       "      <th>1</th>\n",
       "      <td>36757414</td>\n",
       "      <td>1</td>\n",
       "      <td>Do you want a new challenge with varied work, ...</td>\n",
       "      <td>81</td>\n",
       "    </tr>\n",
       "  </tbody>\n",
       "</table>\n",
       "</div>"
      ],
      "text/plain": [
       "     doc_id  sent_id                                           sentence  \\\n",
       "0  36757414        0  Are you a qualified/newly qualified teacher lo...   \n",
       "1  36757414        1  Do you want a new challenge with varied work, ...   \n",
       "\n",
       "   sent_len  \n",
       "0        98  \n",
       "1        81  "
      ]
     },
     "execution_count": 64,
     "metadata": {},
     "output_type": "execute_result"
    }
   ],
   "source": [
    "selection_Adzuna_sentences.head(2)"
   ]
  },
  {
   "cell_type": "code",
   "execution_count": 65,
   "id": "00e8da25-ef09-44ea-908f-9bf506768023",
   "metadata": {},
   "outputs": [
    {
     "name": "stdout",
     "output_type": "stream",
     "text": [
      "saved data file to parquet...\n"
     ]
    }
   ],
   "source": [
    "filename = path/f'Adzuna_job_data_{data_hash}_sents.parq'\n",
    "if not filename.exists():\n",
    "    selection_Adzuna_sentences.to_parquet(filename)\n",
    "    print('saved data file to parquet...')\n",
    "else:\n",
    "    print('File already exists...')"
   ]
  },
  {
   "cell_type": "code",
   "execution_count": 66,
   "id": "ccc5c3f2-408d-43d4-8845-4f0b18485fe6",
   "metadata": {},
   "outputs": [
    {
     "data": {
      "image/png": "[encoded data removed]",
      "text/plain": [
       "<Figure size 500x300 with 1 Axes>"
      ]
     },
     "metadata": {},
     "output_type": "display_data"
    }
   ],
   "source": [
    "selection_Adzuna_sentences.sent_len.map(np.log10).plot.hist(bins=25, ec='w', figsize=(5, 3));"
   ]
  },
  {
   "cell_type": "code",
   "execution_count": null,
   "id": "886ec466-8021-4d9a-87eb-5527468ee238",
   "metadata": {},
   "outputs": [],
   "source": []
  }
 ],
 "metadata": {
  "kernelspec": {
   "display_name": "py311",
   "language": "python",
   "name": "py311"
  },
  "language_info": {
   "codemirror_mode": {
    "name": "ipython",
    "version": 3
   },
   "file_extension": ".py",
   "mimetype": "text/x-python",
   "name": "python",
   "nbconvert_exporter": "python",
   "pygments_lexer": "ipython3",
   "version": "3.11.0"
  }
 },
 "nbformat": 4,
 "nbformat_minor": 5
}
