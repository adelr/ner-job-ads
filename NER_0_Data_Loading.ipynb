{
 "cells": [
  {
   "cell_type": "markdown",
   "id": "a3b9a973-f63e-4fbb-9132-886516e77b3c",
   "metadata": {
    "tags": []
   },
   "source": [
    "<h1>Named Entity Recognition (NER) for job data 0: Data Loading</h1>\n",
    "<h3>Adel Rahmani</h3>\n",
    "<hr style=\"height:5px;border:none;color:#333;background-color:#333;\" />"
   ]
  },
  {
   "cell_type": "markdown",
   "id": "71b9f874-830b-4b24-89cb-1e8b865a55fa",
   "metadata": {
    "tags": []
   },
   "source": [
    "<div style=\"background-color:#F2FBEF;\">\n",
    "<h2><font color=#04B404>Summary</font></h2>\n",
    "This notebook loads and merges the Adzuna job data sets and saves the result to parquet.\n",
    "</div>\n",
    "<hr>"
   ]
  },
  {
   "cell_type": "code",
   "execution_count": 1,
   "id": "3d0ff8ae-9411-4600-b3ba-c2a1b323c69a",
   "metadata": {},
   "outputs": [],
   "source": [
    "import pandas as pd\n",
    "import warnings\n",
    "warnings.simplefilter('ignore')"
   ]
  },
  {
   "cell_type": "markdown",
   "id": "8748a790-f675-4ff6-83f2-392f2d02c5ce",
   "metadata": {},
   "source": [
    "----\n",
    "# The Data\n",
    "\n",
    "This pipeline uses multiple data sources to construct an annotated data set for Named Entity Recognition (NER) for job ads.\n",
    "\n",
    "The data source comes from the [Kaggle Adzuna](https://www.kaggle.com/c/job-salary-prediction/data) data containing over 300,000 job ads, mostly from the UK.\n"
   ]
  },
  {
   "cell_type": "markdown",
   "id": "b1f95d2c-0212-424c-b6f4-49aa3f9843e7",
   "metadata": {
    "tags": []
   },
   "source": [
    "---\n",
    "## Loading the Adzuna data sets"
   ]
  },
  {
   "cell_type": "code",
   "execution_count": 2,
   "id": "41461d96-2001-4323-befd-7c6d4524615b",
   "metadata": {},
   "outputs": [
    {
     "name": "stdout",
     "output_type": "stream",
     "text": [
      "CPU times: user 7.85 s, sys: 662 ms, total: 8.51 s\n",
      "Wall time: 8.59 s\n"
     ]
    }
   ],
   "source": [
    "%%time\n",
    "\n",
    "df_list = []\n",
    "\n",
    "for source in ('data/Train_rev1.csv.zip', 'data/Test_rev1.zip', 'data/Valid_rev1.csv.zip'):\n",
    "    \n",
    "    df_ = (pd.read_csv(source)\n",
    "       .assign(\n",
    "           Title=lambda df: df.Title.str.strip(),\n",
    "           FullDescription=lambda df: df.FullDescription.str.strip(),\n",
    "           Company=lambda df: df.Company.str.strip(),\n",
    "       )\n",
    "       .dropna(subset=['Title', 'Company','FullDescription'])\n",
    "       .query(\"~Title.str.contains('\\*')\")\n",
    "      )\n",
    "\n",
    "    df_list.append(df_)\n",
    "\n",
    "data = pd.concat(df_list, axis=0, ignore_index=True).drop(['SalaryRaw','SalaryNormalized'], axis=1)"
   ]
  },
  {
   "cell_type": "code",
   "execution_count": 3,
   "id": "786cdf48-7824-4352-aa8e-e76cd11c2f4e",
   "metadata": {},
   "outputs": [
    {
     "name": "stdout",
     "output_type": "stream",
     "text": [
      "<class 'pandas.core.frame.DataFrame'>\n",
      "RangeIndex: 320306 entries, 0 to 320305\n",
      "Data columns (total 10 columns):\n",
      " #   Column              Non-Null Count   Dtype \n",
      "---  ------              --------------   ----- \n",
      " 0   Id                  320306 non-null  int64 \n",
      " 1   Title               320306 non-null  object\n",
      " 2   FullDescription     320306 non-null  object\n",
      " 3   LocationRaw         320306 non-null  object\n",
      " 4   LocationNormalized  320306 non-null  object\n",
      " 5   ContractType        88223 non-null   object\n",
      " 6   ContractTime        246321 non-null  object\n",
      " 7   Company             320306 non-null  object\n",
      " 8   Category            320306 non-null  object\n",
      " 9   SourceName          320305 non-null  object\n",
      "dtypes: int64(1), object(9)\n",
      "memory usage: 24.4+ MB\n"
     ]
    }
   ],
   "source": [
    "data.info()"
   ]
  },
  {
   "cell_type": "code",
   "execution_count": 4,
   "id": "995fa727-5ee9-4b84-a4ec-16d935ebbc45",
   "metadata": {},
   "outputs": [
    {
     "data": {
      "text/html": [
       "<div>\n",
       "<style scoped>\n",
       "    .dataframe tbody tr th:only-of-type {\n",
       "        vertical-align: middle;\n",
       "    }\n",
       "\n",
       "    .dataframe tbody tr th {\n",
       "        vertical-align: top;\n",
       "    }\n",
       "\n",
       "    .dataframe thead th {\n",
       "        text-align: right;\n",
       "    }\n",
       "</style>\n",
       "<table border=\"1\" class=\"dataframe\">\n",
       "  <thead>\n",
       "    <tr style=\"text-align: right;\">\n",
       "      <th></th>\n",
       "      <th>Id</th>\n",
       "      <th>Title</th>\n",
       "      <th>FullDescription</th>\n",
       "      <th>LocationRaw</th>\n",
       "      <th>LocationNormalized</th>\n",
       "      <th>ContractType</th>\n",
       "      <th>ContractTime</th>\n",
       "      <th>Company</th>\n",
       "      <th>Category</th>\n",
       "      <th>SourceName</th>\n",
       "    </tr>\n",
       "  </thead>\n",
       "  <tbody>\n",
       "    <tr>\n",
       "      <th>135923</th>\n",
       "      <td>71469886</td>\n",
       "      <td>VBNet Developer (SQL Server, ASPNET)  Harrogate</td>\n",
       "      <td>VB.Net Developer (SQL Server, ASP.NET)  Harrog...</td>\n",
       "      <td>Harrogate</td>\n",
       "      <td>Harrogate</td>\n",
       "      <td>NaN</td>\n",
       "      <td>permanent</td>\n",
       "      <td>Applause IT Limited</td>\n",
       "      <td>IT Jobs</td>\n",
       "      <td>jobsite.co.uk</td>\n",
       "    </tr>\n",
       "    <tr>\n",
       "      <th>178054</th>\n",
       "      <td>72446229</td>\n",
       "      <td>Centre Based Trainer in IT and AutoCAD</td>\n",
       "      <td>CAD Centre (UK) Ltd Centre Based Trainer in IT...</td>\n",
       "      <td>East London London South East</td>\n",
       "      <td>South East London</td>\n",
       "      <td>NaN</td>\n",
       "      <td>permanent</td>\n",
       "      <td>The CAD Centre  Ltd</td>\n",
       "      <td>IT Jobs</td>\n",
       "      <td>totaljobs.com</td>\n",
       "    </tr>\n",
       "    <tr>\n",
       "      <th>188359</th>\n",
       "      <td>72635123</td>\n",
       "      <td>Sub Agent</td>\n",
       "      <td>Sub Agent required for a major Rail/Civil Engi...</td>\n",
       "      <td>Newcastle upon Tyne, Tyne and Wear</td>\n",
       "      <td>Newcastle Upon Tyne</td>\n",
       "      <td>NaN</td>\n",
       "      <td>contract</td>\n",
       "      <td>VGC</td>\n",
       "      <td>Engineering Jobs</td>\n",
       "      <td>cv-library.co.uk</td>\n",
       "    </tr>\n",
       "    <tr>\n",
       "      <th>126675</th>\n",
       "      <td>71288596</td>\n",
       "      <td>Purchase Ledger Clerk</td>\n",
       "      <td>Hays Accountancy and Finance are currently rec...</td>\n",
       "      <td>Sheffield</td>\n",
       "      <td>Sheffield</td>\n",
       "      <td>NaN</td>\n",
       "      <td>NaN</td>\n",
       "      <td>Hays   Sheffield</td>\n",
       "      <td>Accounting &amp; Finance Jobs</td>\n",
       "      <td>MyUkJobs</td>\n",
       "    </tr>\n",
       "    <tr>\n",
       "      <th>211726</th>\n",
       "      <td>68680609</td>\n",
       "      <td>Managing Consultant  Construction/Civils/FM</td>\n",
       "      <td>Managing Consultant  Construction/Civils/FM  B...</td>\n",
       "      <td>Bristol Avon South West</td>\n",
       "      <td>UK</td>\n",
       "      <td>NaN</td>\n",
       "      <td>permanent</td>\n",
       "      <td>Fresh Partnership</td>\n",
       "      <td>HR &amp; Recruitment Jobs</td>\n",
       "      <td>totaljobs.com</td>\n",
       "    </tr>\n",
       "  </tbody>\n",
       "</table>\n",
       "</div>"
      ],
      "text/plain": [
       "              Id                                            Title  \\\n",
       "135923  71469886  VBNet Developer (SQL Server, ASPNET)  Harrogate   \n",
       "178054  72446229           Centre Based Trainer in IT and AutoCAD   \n",
       "188359  72635123                                        Sub Agent   \n",
       "126675  71288596                            Purchase Ledger Clerk   \n",
       "211726  68680609      Managing Consultant  Construction/Civils/FM   \n",
       "\n",
       "                                          FullDescription  \\\n",
       "135923  VB.Net Developer (SQL Server, ASP.NET)  Harrog...   \n",
       "178054  CAD Centre (UK) Ltd Centre Based Trainer in IT...   \n",
       "188359  Sub Agent required for a major Rail/Civil Engi...   \n",
       "126675  Hays Accountancy and Finance are currently rec...   \n",
       "211726  Managing Consultant  Construction/Civils/FM  B...   \n",
       "\n",
       "                               LocationRaw   LocationNormalized ContractType  \\\n",
       "135923                           Harrogate            Harrogate          NaN   \n",
       "178054       East London London South East    South East London          NaN   \n",
       "188359  Newcastle upon Tyne, Tyne and Wear  Newcastle Upon Tyne          NaN   \n",
       "126675                           Sheffield            Sheffield          NaN   \n",
       "211726             Bristol Avon South West                   UK          NaN   \n",
       "\n",
       "       ContractTime              Company                   Category  \\\n",
       "135923    permanent  Applause IT Limited                    IT Jobs   \n",
       "178054    permanent  The CAD Centre  Ltd                    IT Jobs   \n",
       "188359     contract                  VGC           Engineering Jobs   \n",
       "126675          NaN     Hays   Sheffield  Accounting & Finance Jobs   \n",
       "211726    permanent    Fresh Partnership      HR & Recruitment Jobs   \n",
       "\n",
       "              SourceName  \n",
       "135923     jobsite.co.uk  \n",
       "178054     totaljobs.com  \n",
       "188359  cv-library.co.uk  \n",
       "126675          MyUkJobs  \n",
       "211726     totaljobs.com  "
      ]
     },
     "execution_count": 4,
     "metadata": {},
     "output_type": "execute_result"
    }
   ],
   "source": [
    "data.sample(5, random_state=0)"
   ]
  },
  {
   "cell_type": "code",
   "execution_count": 5,
   "id": "9b4c00ac-202f-41cd-b296-e83705ef259d",
   "metadata": {},
   "outputs": [],
   "source": [
    "data.to_parquet('data/Adzuna.parq')"
   ]
  },
  {
   "cell_type": "code",
   "execution_count": null,
   "id": "547489d8-7ea6-4c13-998c-8bb1df5f5f88",
   "metadata": {},
   "outputs": [],
   "source": []
  }
 ],
 "metadata": {
  "kernelspec": {
   "display_name": "py311",
   "language": "python",
   "name": "py311"
  },
  "language_info": {
   "codemirror_mode": {
    "name": "ipython",
    "version": 3
   },
   "file_extension": ".py",
   "mimetype": "text/x-python",
   "name": "python",
   "nbconvert_exporter": "python",
   "pygments_lexer": "ipython3",
   "version": "3.11.0"
  }
 },
 "nbformat": 4,
 "nbformat_minor": 5
}
